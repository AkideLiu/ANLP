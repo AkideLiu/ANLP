{
 "cells": [
  {
   "cell_type": "markdown",
   "metadata": {
    "collapsed": false
   },
   "source": [
    "<h2 align=\"center\"> The University of Adelaide, School of Computer Science </h2>\n",
    "<h1 align=\"center\"><strong><b> Applied Natural Language Processing </b></strong></h1>\n",
    "<h2 align=\"center\"> Semester 1, 2023 Assignment 3: Building an aspect-based sentiment analysis algorithm based on syntactic parsing </h2>\n",
    "<h2 align=\"center\"> Author: Akide Liu </h2>\n",
    "<h3 align=\"center\"> Student ID: a1743748 </h3>\n"
   ]
  },
  {
   "cell_type": "markdown",
   "metadata": {
    "collapsed": false
   },
   "source": [
    "## 0. Import libraries and set up the environment"
   ]
  },
  {
   "cell_type": "code",
   "execution_count": 1,
   "metadata": {
    "collapsed": true,
    "ExecuteTime": {
     "end_time": "2023-06-22T19:08:32.473157Z",
     "start_time": "2023-06-22T19:08:30.716712Z"
    }
   },
   "outputs": [
    {
     "name": "stderr",
     "output_type": "stream",
     "text": [
      "2023-06-23 04:38:31.187647: I tensorflow/core/util/port.cc:110] oneDNN custom operations are on. You may see slightly different numerical results due to floating-point round-off errors from different computation orders. To turn them off, set the environment variable `TF_ENABLE_ONEDNN_OPTS=0`.\n",
      "2023-06-23 04:38:31.209734: I tensorflow/core/platform/cpu_feature_guard.cc:182] This TensorFlow binary is optimized to use available CPU instructions in performance-critical operations.\n",
      "To enable the following instructions: AVX2 AVX_VNNI FMA, in other operations, rebuild TensorFlow with the appropriate compiler flags.\n",
      "2023-06-23 04:38:31.554905: W tensorflow/compiler/tf2tensorrt/utils/py_utils.cc:38] TF-TRT Warning: Could not find TensorRT\n",
      "2023-06-23 04:38:32.301948: I tensorflow/compiler/xla/stream_executor/cuda/cuda_gpu_executor.cc:996] successful NUMA node read from SysFS had negative value (-1), but there must be at least one NUMA node, so returning NUMA node zero. See more at https://github.com/torvalds/linux/blob/v6.0/Documentation/ABI/testing/sysfs-bus-pci#L344-L355\n",
      "2023-06-23 04:38:32.318271: I tensorflow/compiler/xla/stream_executor/cuda/cuda_gpu_executor.cc:996] successful NUMA node read from SysFS had negative value (-1), but there must be at least one NUMA node, so returning NUMA node zero. See more at https://github.com/torvalds/linux/blob/v6.0/Documentation/ABI/testing/sysfs-bus-pci#L344-L355\n",
      "2023-06-23 04:38:32.318357: I tensorflow/compiler/xla/stream_executor/cuda/cuda_gpu_executor.cc:996] successful NUMA node read from SysFS had negative value (-1), but there must be at least one NUMA node, so returning NUMA node zero. See more at https://github.com/torvalds/linux/blob/v6.0/Documentation/ABI/testing/sysfs-bus-pci#L344-L355\n"
     ]
    }
   ],
   "source": [
    "import os\n",
    "import pprint\n",
    "import time\n",
    "\n",
    "import numpy as np\n",
    "\n",
    "# import libs\n",
    "from utils import *\n",
    "\n",
    "# Matplotlib is a useful plotting library for python\n",
    "import matplotlib.pyplot as plt\n",
    "# This code is to make matplotlib figures appear inline in the\n",
    "# notebook rather than in a new window.\n",
    "%matplotlib inline\n",
    "plt.rcParams['figure.figsize'] = (10.0, 8.0)  # set default size of plots\n",
    "plt.rcParams['image.interpolation'] = 'nearest'\n",
    "plt.rcParams['image.cmap'] = 'gray'\n",
    "\n",
    "# Some more magic so that the notebook will reload external python modules;\n",
    "# see http://stackoverflow.com/questions/1907993/autoreload-of-modules-in-ipython\n",
    "%load_ext autoreload\n",
    "%autoreload 2\n",
    "%reload_ext autoreload"
   ]
  },
  {
   "cell_type": "markdown",
   "metadata": {
    "collapsed": false
   },
   "source": [
    "## 1. Write code for data loading and text preprocessing 5%"
   ]
  },
  {
   "cell_type": "markdown",
   "source": [
    "## 1.1 Load the data"
   ],
   "metadata": {
    "collapsed": false
   }
  },
  {
   "cell_type": "code",
   "execution_count": 2,
   "outputs": [],
   "source": [
    "# Read the CSV file\n",
    "xml_data = load_xml('Restaurants.xml')\n"
   ],
   "metadata": {
    "collapsed": false,
    "ExecuteTime": {
     "end_time": "2023-06-22T19:08:32.517113Z",
     "start_time": "2023-06-22T19:08:32.474002Z"
    }
   }
  },
  {
   "cell_type": "code",
   "execution_count": 3,
   "outputs": [
    {
     "name": "stderr",
     "output_type": "stream",
     "text": [
      "/tmp/ipykernel_884448/1487888614.py:1: DeprecationWarning: This method will be removed in future versions.  Use 'list(elem)' or iteration over elem instead.\n",
      "  len(xml_data.getchildren())\n"
     ]
    },
    {
     "data": {
      "text/plain": "3041"
     },
     "execution_count": 3,
     "metadata": {},
     "output_type": "execute_result"
    }
   ],
   "source": [
    "len(xml_data.getchildren())"
   ],
   "metadata": {
    "collapsed": false,
    "ExecuteTime": {
     "end_time": "2023-06-22T19:08:32.524330Z",
     "start_time": "2023-06-22T19:08:32.504979Z"
    }
   }
  },
  {
   "cell_type": "code",
   "execution_count": 4,
   "outputs": [
    {
     "name": "stderr",
     "output_type": "stream",
     "text": [
      "/tmp/ipykernel_884448/872354137.py:1: DeprecationWarning: This method will be removed in future versions.  Use 'list(elem)' or iteration over elem instead.\n",
      "  xml_data.getchildren()[0]\n"
     ]
    },
    {
     "data": {
      "text/plain": "<Element 'sentence' at 0x7fdb48b84e50>"
     },
     "execution_count": 4,
     "metadata": {},
     "output_type": "execute_result"
    }
   ],
   "source": [
    "xml_data.getchildren()[0]"
   ],
   "metadata": {
    "collapsed": false,
    "ExecuteTime": {
     "end_time": "2023-06-22T19:08:32.585487Z",
     "start_time": "2023-06-22T19:08:32.524121Z"
    }
   }
  },
  {
   "cell_type": "code",
   "execution_count": 5,
   "outputs": [
    {
     "name": "stdout",
     "output_type": "stream",
     "text": [
      "sentence\n",
      "  text\n",
      "  aspectTerms\n",
      "    aspectTerm\n",
      "  aspectCategories\n",
      "    aspectCategory\n"
     ]
    }
   ],
   "source": [
    "get_xml_structure(xml_data[0])"
   ],
   "metadata": {
    "collapsed": false,
    "ExecuteTime": {
     "end_time": "2023-06-22T19:08:32.586307Z",
     "start_time": "2023-06-22T19:08:32.585027Z"
    }
   }
  },
  {
   "cell_type": "code",
   "execution_count": 6,
   "outputs": [],
   "source": [
    "data = parse_xml_to_df(xml_data)"
   ],
   "metadata": {
    "collapsed": false,
    "ExecuteTime": {
     "end_time": "2023-06-22T19:08:32.656016Z",
     "start_time": "2023-06-22T19:08:32.585261Z"
    }
   }
  },
  {
   "cell_type": "code",
   "execution_count": 7,
   "outputs": [
    {
     "name": "stdout",
     "output_type": "stream",
     "text": [
      "{'aspect_categories': [{'category': 'service', 'polarity': 'negative'}],\n",
      " 'aspect_terms': [{'from': '8',\n",
      "                   'polarity': 'negative',\n",
      "                   'term': 'staff',\n",
      "                   'to': '13'}],\n",
      " 'id': '3121',\n",
      " 'text': 'But the staff was so horrible to us.'}\n"
     ]
    },
    {
     "data": {
      "text/plain": "3041"
     },
     "execution_count": 7,
     "metadata": {},
     "output_type": "execute_result"
    }
   ],
   "source": [
    "pprint.pprint(data[0])\n",
    "len(data)"
   ],
   "metadata": {
    "collapsed": false,
    "ExecuteTime": {
     "end_time": "2023-06-22T19:08:32.673755Z",
     "start_time": "2023-06-22T19:08:32.628444Z"
    }
   }
  },
  {
   "cell_type": "code",
   "execution_count": 8,
   "outputs": [],
   "source": [
    "text_data = [d['text'] for d in data]"
   ],
   "metadata": {
    "collapsed": false,
    "ExecuteTime": {
     "end_time": "2023-06-22T19:08:32.674479Z",
     "start_time": "2023-06-22T19:08:32.628561Z"
    }
   }
  },
  {
   "cell_type": "code",
   "execution_count": 9,
   "outputs": [
    {
     "data": {
      "text/plain": "['But the staff was so horrible to us.',\n \"To be completely fair, the only redeeming factor was the food, which was above average, but couldn't make up for all the other deficiencies of Teodora.\",\n \"The food is uniformly exceptional, with a very capable kitchen which will proudly whip up whatever you feel like eating, whether it's on the menu or not.\",\n 'Where Gabriela personaly greets you and recommends you what to eat.',\n \"For those that go once and don't enjoy it, all I can say is that they just don't get it.\"]"
     },
     "execution_count": 9,
     "metadata": {},
     "output_type": "execute_result"
    }
   ],
   "source": [
    "text_data[0:5]"
   ],
   "metadata": {
    "collapsed": false,
    "ExecuteTime": {
     "end_time": "2023-06-22T19:08:32.674690Z",
     "start_time": "2023-06-22T19:08:32.673086Z"
    }
   }
  },
  {
   "cell_type": "code",
   "execution_count": 10,
   "outputs": [],
   "source": [
    "\n",
    "def generate_mask_for_text(text_data, inner_data):\n",
    "    # Load the spacy tokenizer\n",
    "    # Tokenize the sentence\n",
    "    doc = text_data[0]\n",
    "\n",
    "    # Initialize a mask with all zeros (same length as number of tokens)\n",
    "    mask = [0] * len(doc)\n",
    "\n",
    "    # iterate over each aspect term\n",
    "    for term in inner_data[0]['aspect_terms']:\n",
    "        start, end = int(term['from']), int(term['to'])\n",
    "        # iterate over the tokens in the doc\n",
    "        for i, token in enumerate(doc):\n",
    "            if start <= i < end:\n",
    "                mask[i] = 1\n",
    "\n",
    "    # generate the inner data by zipping tokens and their corresponding masks\n",
    "    inner_data = list(zip(doc, mask))\n",
    "\n",
    "    # create a string of all characters\n",
    "    string = \"\".join([str(char) for char, mask in inner_data])\n",
    "\n",
    "    words = string.split()\n",
    "    mask_values = [mask for char, mask in inner_data]\n",
    "\n",
    "    word_masks = []\n",
    "    current_index = 0\n",
    "    for word in words:\n",
    "        word_masks.append(mask_values[current_index:current_index + len(word)])\n",
    "        current_index += len(word) + 1\n",
    "\n",
    "    word_mask_values = [sum(mask) > 0 for mask in word_masks]\n",
    "\n",
    "    out_words = [word for word in words]\n",
    "    out_masks = [mask for mask in word_mask_values]\n",
    "\n",
    "    return out_words, out_masks\n"
   ],
   "metadata": {
    "collapsed": false,
    "ExecuteTime": {
     "end_time": "2023-06-22T19:08:32.752025Z",
     "start_time": "2023-06-22T19:08:32.673200Z"
    }
   }
  },
  {
   "cell_type": "code",
   "execution_count": 11,
   "outputs": [
    {
     "data": {
      "text/plain": "(['But', 'the', 'staff', 'was', 'so', 'horrible', 'to', 'us.'],\n [False, False, True, False, False, False, False, False])"
     },
     "execution_count": 11,
     "metadata": {},
     "output_type": "execute_result"
    }
   ],
   "source": [
    "generate_mask_for_text(text_data, data)"
   ],
   "metadata": {
    "collapsed": false,
    "ExecuteTime": {
     "end_time": "2023-06-22T19:08:32.770615Z",
     "start_time": "2023-06-22T19:08:32.717083Z"
    }
   }
  },
  {
   "cell_type": "code",
   "execution_count": 12,
   "outputs": [],
   "source": [
    "for d in data:\n",
    "    d['words'], d['mask'] = generate_mask_for_text(text_data, data)"
   ],
   "metadata": {
    "collapsed": false,
    "ExecuteTime": {
     "end_time": "2023-06-22T19:08:32.770789Z",
     "start_time": "2023-06-22T19:08:32.717185Z"
    }
   }
  },
  {
   "cell_type": "markdown",
   "source": [],
   "metadata": {
    "collapsed": false
   }
  },
  {
   "cell_type": "code",
   "execution_count": 13,
   "outputs": [
    {
     "data": {
      "text/plain": "{'id': '1634',\n 'text': \"The food is uniformly exceptional, with a very capable kitchen which will proudly whip up whatever you feel like eating, whether it's on the menu or not.\",\n 'aspect_terms': [{'term': 'food',\n   'polarity': 'positive',\n   'from': '4',\n   'to': '8'},\n  {'term': 'kitchen', 'polarity': 'positive', 'from': '55', 'to': '62'},\n  {'term': 'menu', 'polarity': 'neutral', 'from': '141', 'to': '145'}],\n 'aspect_categories': [{'category': 'food', 'polarity': 'positive'}],\n 'words': ['But', 'the', 'staff', 'was', 'so', 'horrible', 'to', 'us.'],\n 'mask': [False, False, True, False, False, False, False, False]}"
     },
     "execution_count": 13,
     "metadata": {},
     "output_type": "execute_result"
    }
   ],
   "source": [
    "data[2]"
   ],
   "metadata": {
    "collapsed": false,
    "ExecuteTime": {
     "end_time": "2023-06-22T19:08:32.820100Z",
     "start_time": "2023-06-22T19:08:32.732891Z"
    }
   }
  },
  {
   "cell_type": "code",
   "execution_count": 14,
   "outputs": [],
   "source": [
    "# load a pre-trained english language model\n",
    "nlp = spacy.load(\"en_core_web_sm\")"
   ],
   "metadata": {
    "collapsed": false,
    "ExecuteTime": {
     "end_time": "2023-06-22T19:08:32.950341Z",
     "start_time": "2023-06-22T19:08:32.776964Z"
    }
   }
  },
  {
   "cell_type": "code",
   "execution_count": 15,
   "outputs": [],
   "source": [
    "doc = nlp(data[0].text)"
   ],
   "metadata": {
    "collapsed": false,
    "ExecuteTime": {
     "end_time": "2023-06-22T19:08:32.996914Z",
     "start_time": "2023-06-22T19:08:32.951313Z"
    }
   }
  },
  {
   "cell_type": "code",
   "execution_count": 16,
   "outputs": [
    {
     "name": "stdout",
     "output_type": "stream",
     "text": [
      "But the staff was so horrible to us.\n"
     ]
    },
    {
     "data": {
      "text/plain": "  noun_chunk   root    dep head\n0  the staff  staff  nsubj  was\n1         us     us   pobj   to",
      "text/html": "<div>\n<style scoped>\n    .dataframe tbody tr th:only-of-type {\n        vertical-align: middle;\n    }\n\n    .dataframe tbody tr th {\n        vertical-align: top;\n    }\n\n    .dataframe thead th {\n        text-align: right;\n    }\n</style>\n<table border=\"1\" class=\"dataframe\">\n  <thead>\n    <tr style=\"text-align: right;\">\n      <th></th>\n      <th>noun_chunk</th>\n      <th>root</th>\n      <th>dep</th>\n      <th>head</th>\n    </tr>\n  </thead>\n  <tbody>\n    <tr>\n      <th>0</th>\n      <td>the staff</td>\n      <td>staff</td>\n      <td>nsubj</td>\n      <td>was</td>\n    </tr>\n    <tr>\n      <th>1</th>\n      <td>us</td>\n      <td>us</td>\n      <td>pobj</td>\n      <td>to</td>\n    </tr>\n  </tbody>\n</table>\n</div>"
     },
     "execution_count": 16,
     "metadata": {},
     "output_type": "execute_result"
    }
   ],
   "source": [
    "parsed = pd.DataFrame(columns=[\"noun_chunk\", \"root\", \"dep\", \"head\"])\n",
    "for chunk in doc.noun_chunks:\n",
    "    row = pd.DataFrame([{\n",
    "        \"noun_chunk\": chunk.text,\n",
    "        \"root\": chunk.root.text,\n",
    "        \"dep\": chunk.root.dep_,\n",
    "        \"head\": chunk.root.head.text\n",
    "    }])\n",
    "    parsed = pd.concat([parsed, row], axis=0, ignore_index=True)\n",
    "\n",
    "print(doc)\n",
    "parsed.head()"
   ],
   "metadata": {
    "collapsed": false,
    "ExecuteTime": {
     "end_time": "2023-06-22T19:08:33.047771Z",
     "start_time": "2023-06-22T19:08:32.991713Z"
    }
   }
  },
  {
   "cell_type": "code",
   "execution_count": 17,
   "outputs": [
    {
     "data": {
      "text/plain": "<IPython.core.display.HTML object>",
      "text/html": "<span class=\"tex2jax_ignore\"><svg xmlns=\"http://www.w3.org/2000/svg\" xmlns:xlink=\"http://www.w3.org/1999/xlink\" xml:lang=\"en\" id=\"ba915abb2c194cd4bcb6caea3b956a3b-0\" class=\"displacy\" width=\"1450\" height=\"312.0\" direction=\"ltr\" style=\"max-width: none; height: 312.0px; color: #000000; background: #ffffff; font-family: Arial; direction: ltr\">\n<text class=\"displacy-token\" fill=\"currentColor\" text-anchor=\"middle\" y=\"222.0\">\n    <tspan class=\"displacy-word\" fill=\"currentColor\" x=\"50\">But</tspan>\n    <tspan class=\"displacy-tag\" dy=\"2em\" fill=\"currentColor\" x=\"50\">CCONJ</tspan>\n</text>\n\n<text class=\"displacy-token\" fill=\"currentColor\" text-anchor=\"middle\" y=\"222.0\">\n    <tspan class=\"displacy-word\" fill=\"currentColor\" x=\"225\">the</tspan>\n    <tspan class=\"displacy-tag\" dy=\"2em\" fill=\"currentColor\" x=\"225\">DET</tspan>\n</text>\n\n<text class=\"displacy-token\" fill=\"currentColor\" text-anchor=\"middle\" y=\"222.0\">\n    <tspan class=\"displacy-word\" fill=\"currentColor\" x=\"400\">staff</tspan>\n    <tspan class=\"displacy-tag\" dy=\"2em\" fill=\"currentColor\" x=\"400\">NOUN</tspan>\n</text>\n\n<text class=\"displacy-token\" fill=\"currentColor\" text-anchor=\"middle\" y=\"222.0\">\n    <tspan class=\"displacy-word\" fill=\"currentColor\" x=\"575\">was</tspan>\n    <tspan class=\"displacy-tag\" dy=\"2em\" fill=\"currentColor\" x=\"575\">AUX</tspan>\n</text>\n\n<text class=\"displacy-token\" fill=\"currentColor\" text-anchor=\"middle\" y=\"222.0\">\n    <tspan class=\"displacy-word\" fill=\"currentColor\" x=\"750\">so</tspan>\n    <tspan class=\"displacy-tag\" dy=\"2em\" fill=\"currentColor\" x=\"750\">ADV</tspan>\n</text>\n\n<text class=\"displacy-token\" fill=\"currentColor\" text-anchor=\"middle\" y=\"222.0\">\n    <tspan class=\"displacy-word\" fill=\"currentColor\" x=\"925\">horrible</tspan>\n    <tspan class=\"displacy-tag\" dy=\"2em\" fill=\"currentColor\" x=\"925\">ADJ</tspan>\n</text>\n\n<text class=\"displacy-token\" fill=\"currentColor\" text-anchor=\"middle\" y=\"222.0\">\n    <tspan class=\"displacy-word\" fill=\"currentColor\" x=\"1100\">to</tspan>\n    <tspan class=\"displacy-tag\" dy=\"2em\" fill=\"currentColor\" x=\"1100\">ADP</tspan>\n</text>\n\n<text class=\"displacy-token\" fill=\"currentColor\" text-anchor=\"middle\" y=\"222.0\">\n    <tspan class=\"displacy-word\" fill=\"currentColor\" x=\"1275\">us.</tspan>\n    <tspan class=\"displacy-tag\" dy=\"2em\" fill=\"currentColor\" x=\"1275\">PRON</tspan>\n</text>\n\n<g class=\"displacy-arrow\">\n    <path class=\"displacy-arc\" id=\"arrow-ba915abb2c194cd4bcb6caea3b956a3b-0-0\" stroke-width=\"2px\" d=\"M70,177.0 C70,2.0 575.0,2.0 575.0,177.0\" fill=\"none\" stroke=\"currentColor\"/>\n    <text dy=\"1.25em\" style=\"font-size: 0.8em; letter-spacing: 1px\">\n        <textPath xlink:href=\"#arrow-ba915abb2c194cd4bcb6caea3b956a3b-0-0\" class=\"displacy-label\" startOffset=\"50%\" side=\"left\" fill=\"currentColor\" text-anchor=\"middle\">cc</textPath>\n    </text>\n    <path class=\"displacy-arrowhead\" d=\"M70,179.0 L62,167.0 78,167.0\" fill=\"currentColor\"/>\n</g>\n\n<g class=\"displacy-arrow\">\n    <path class=\"displacy-arc\" id=\"arrow-ba915abb2c194cd4bcb6caea3b956a3b-0-1\" stroke-width=\"2px\" d=\"M245,177.0 C245,89.5 395.0,89.5 395.0,177.0\" fill=\"none\" stroke=\"currentColor\"/>\n    <text dy=\"1.25em\" style=\"font-size: 0.8em; letter-spacing: 1px\">\n        <textPath xlink:href=\"#arrow-ba915abb2c194cd4bcb6caea3b956a3b-0-1\" class=\"displacy-label\" startOffset=\"50%\" side=\"left\" fill=\"currentColor\" text-anchor=\"middle\">det</textPath>\n    </text>\n    <path class=\"displacy-arrowhead\" d=\"M245,179.0 L237,167.0 253,167.0\" fill=\"currentColor\"/>\n</g>\n\n<g class=\"displacy-arrow\">\n    <path class=\"displacy-arc\" id=\"arrow-ba915abb2c194cd4bcb6caea3b956a3b-0-2\" stroke-width=\"2px\" d=\"M420,177.0 C420,89.5 570.0,89.5 570.0,177.0\" fill=\"none\" stroke=\"currentColor\"/>\n    <text dy=\"1.25em\" style=\"font-size: 0.8em; letter-spacing: 1px\">\n        <textPath xlink:href=\"#arrow-ba915abb2c194cd4bcb6caea3b956a3b-0-2\" class=\"displacy-label\" startOffset=\"50%\" side=\"left\" fill=\"currentColor\" text-anchor=\"middle\">nsubj</textPath>\n    </text>\n    <path class=\"displacy-arrowhead\" d=\"M420,179.0 L412,167.0 428,167.0\" fill=\"currentColor\"/>\n</g>\n\n<g class=\"displacy-arrow\">\n    <path class=\"displacy-arc\" id=\"arrow-ba915abb2c194cd4bcb6caea3b956a3b-0-3\" stroke-width=\"2px\" d=\"M770,177.0 C770,89.5 920.0,89.5 920.0,177.0\" fill=\"none\" stroke=\"currentColor\"/>\n    <text dy=\"1.25em\" style=\"font-size: 0.8em; letter-spacing: 1px\">\n        <textPath xlink:href=\"#arrow-ba915abb2c194cd4bcb6caea3b956a3b-0-3\" class=\"displacy-label\" startOffset=\"50%\" side=\"left\" fill=\"currentColor\" text-anchor=\"middle\">advmod</textPath>\n    </text>\n    <path class=\"displacy-arrowhead\" d=\"M770,179.0 L762,167.0 778,167.0\" fill=\"currentColor\"/>\n</g>\n\n<g class=\"displacy-arrow\">\n    <path class=\"displacy-arc\" id=\"arrow-ba915abb2c194cd4bcb6caea3b956a3b-0-4\" stroke-width=\"2px\" d=\"M595,177.0 C595,2.0 925.0,2.0 925.0,177.0\" fill=\"none\" stroke=\"currentColor\"/>\n    <text dy=\"1.25em\" style=\"font-size: 0.8em; letter-spacing: 1px\">\n        <textPath xlink:href=\"#arrow-ba915abb2c194cd4bcb6caea3b956a3b-0-4\" class=\"displacy-label\" startOffset=\"50%\" side=\"left\" fill=\"currentColor\" text-anchor=\"middle\">acomp</textPath>\n    </text>\n    <path class=\"displacy-arrowhead\" d=\"M925.0,179.0 L933.0,167.0 917.0,167.0\" fill=\"currentColor\"/>\n</g>\n\n<g class=\"displacy-arrow\">\n    <path class=\"displacy-arc\" id=\"arrow-ba915abb2c194cd4bcb6caea3b956a3b-0-5\" stroke-width=\"2px\" d=\"M945,177.0 C945,89.5 1095.0,89.5 1095.0,177.0\" fill=\"none\" stroke=\"currentColor\"/>\n    <text dy=\"1.25em\" style=\"font-size: 0.8em; letter-spacing: 1px\">\n        <textPath xlink:href=\"#arrow-ba915abb2c194cd4bcb6caea3b956a3b-0-5\" class=\"displacy-label\" startOffset=\"50%\" side=\"left\" fill=\"currentColor\" text-anchor=\"middle\">prep</textPath>\n    </text>\n    <path class=\"displacy-arrowhead\" d=\"M1095.0,179.0 L1103.0,167.0 1087.0,167.0\" fill=\"currentColor\"/>\n</g>\n\n<g class=\"displacy-arrow\">\n    <path class=\"displacy-arc\" id=\"arrow-ba915abb2c194cd4bcb6caea3b956a3b-0-6\" stroke-width=\"2px\" d=\"M1120,177.0 C1120,89.5 1270.0,89.5 1270.0,177.0\" fill=\"none\" stroke=\"currentColor\"/>\n    <text dy=\"1.25em\" style=\"font-size: 0.8em; letter-spacing: 1px\">\n        <textPath xlink:href=\"#arrow-ba915abb2c194cd4bcb6caea3b956a3b-0-6\" class=\"displacy-label\" startOffset=\"50%\" side=\"left\" fill=\"currentColor\" text-anchor=\"middle\">pobj</textPath>\n    </text>\n    <path class=\"displacy-arrowhead\" d=\"M1270.0,179.0 L1278.0,167.0 1262.0,167.0\" fill=\"currentColor\"/>\n</g>\n</svg></span>"
     },
     "metadata": {},
     "output_type": "display_data"
    }
   ],
   "source": [
    "# visualise the dependency tree with arcs\n",
    "displacy.render(doc, style=\"dep\", jupyter=True)"
   ],
   "metadata": {
    "collapsed": false,
    "ExecuteTime": {
     "end_time": "2023-06-22T19:08:33.048075Z",
     "start_time": "2023-06-22T19:08:33.040391Z"
    }
   }
  },
  {
   "cell_type": "code",
   "execution_count": 18,
   "outputs": [
    {
     "name": "stdout",
     "output_type": "stream",
     "text": [
      "['a+', 'abound', 'abounds', 'abundance', 'abundant', 'accessable', 'accessible', 'acclaim', 'acclaimed', 'acclamation']\n",
      "['2-faced', '2-faces', 'abnormal', 'abolish', 'abominable', 'abominably', 'abominate', 'abomination', 'abort', 'aborted']\n"
     ]
    }
   ],
   "source": [
    "from nltk.corpus import opinion_lexicon\n",
    "\n",
    "# Now you can access the positive and negative word lists like this\n",
    "positive_words = opinion_lexicon.positive()\n",
    "negative_words = opinion_lexicon.negative()\n",
    "\n",
    "# Print the first 10 positive words\n",
    "print(positive_words[:10])\n",
    "\n",
    "# Print the first 10 negative words\n",
    "print(negative_words[:10])\n"
   ],
   "metadata": {
    "collapsed": false,
    "ExecuteTime": {
     "end_time": "2023-06-22T19:08:33.048296Z",
     "start_time": "2023-06-22T19:08:33.040605Z"
    }
   }
  },
  {
   "cell_type": "code",
   "execution_count": 19,
   "outputs": [
    {
     "name": "stdout",
     "output_type": "stream",
     "text": [
      "3041\n",
      "2021\n"
     ]
    }
   ],
   "source": [
    "print(len(data))\n",
    "data = [d for d in data if len(d['aspect_terms']) > 0]\n",
    "print(len(data))"
   ],
   "metadata": {
    "collapsed": false,
    "ExecuteTime": {
     "end_time": "2023-06-22T19:08:33.180132Z",
     "start_time": "2023-06-22T19:08:33.040657Z"
    }
   }
  },
  {
   "cell_type": "markdown",
   "source": [
    "## 2. Rule System"
   ],
   "metadata": {
    "collapsed": false
   }
  },
  {
   "cell_type": "code",
   "execution_count": 77,
   "outputs": [],
   "source": [
    "from random import random\n",
    "from textblob import TextBlob\n",
    "\n",
    "class AspectSentimentAnalyzer:\n",
    "    def __init__(self, sentences, aspect_terms, debug=False):\n",
    "        self.nlp = spacy.load(\"en_core_web_sm\")\n",
    "        self.poswords = set(opinion_lexicon.positive())\n",
    "        self.negwords = set(opinion_lexicon.negative())\n",
    "        self.sentences = sentences\n",
    "        self.aspect_terms = aspect_terms\n",
    "        self.debug = debug\n",
    "        # [{'term': 'staff', 'polarity': 'negative', 'from': '8', 'to': '13'}]\n",
    "        self.sentiment_map = edict(\n",
    "            positive=1,\n",
    "            negative=-1,\n",
    "            neutral=0\n",
    "        )\n",
    "        self.new_acpect_term_state = {}\n",
    "\n",
    "\n",
    "\n",
    "    def debug_print(self, token):\n",
    "        if self.debug:\n",
    "            print(token.text, token.dep_, token.pos_, token.head.text, token.head.pos_,\n",
    "                  [child for child in token.children])\n",
    "\n",
    "    def check_correctness(self, state):\n",
    "\n",
    "        state = state.copy()\n",
    "        for s,v in state.items():\n",
    "            if abs(v) > 0:\n",
    "                state[s] = 1 if v > 0 else -1\n",
    "        for term in self.aspect_terms:\n",
    "            if ' ' in term['term']:\n",
    "                continue\n",
    "            if state[term['term']] != self.sentiment_map[f\"{term['polarity']}\"]:\n",
    "                print(state, self.aspect_terms)\n",
    "                return False\n",
    "        else:\n",
    "            return True\n",
    "\n",
    "    def analyze(self, number_of_rules=100):\n",
    "        doc = self.nlp(self.sentences)\n",
    "        self.aspect_terms_tokens = [term.term.lower() for term in self.aspect_terms]\n",
    "\n",
    "        # modfied aspect terms\n",
    "        for ast in self.aspect_terms_tokens:\n",
    "            if ' ' in ast:\n",
    "                self.aspect_terms_tokens.remove(ast)\n",
    "                self.aspect_terms_tokens.extend(ast.split())\n",
    "        self.apply_rules(doc, number_of_rules)\n",
    "        return self.new_acpect_term_state\n",
    "\n",
    "\n",
    "    def show_dependency_tree(self):\n",
    "\n",
    "        displacy.render(self.nlp(self.sentences), style=\"dep\", jupyter=True)\n",
    "\n",
    "    def _change_state(self, text, token, neg=False):\n",
    "        # if text.lower() in self.poswords:\n",
    "        #     self.new_acpect_term_state[token.text] += self.sentiment_map.positive\n",
    "        # elif text.lower() in self.negwords:\n",
    "        #     self.new_acpect_term_state[token.text] += self.sentiment_map.negative\n",
    "        # else:\n",
    "        #     self.new_acpect_term_state[token.text] += self.sentiment_map.neutral\n",
    "        #\n",
    "        # if neg:\n",
    "        #     self.new_acpect_term_state[token.text] += -1\n",
    "        value = TextBlob(text).sentiment.polarity\n",
    "        print(f\"rule touched for {token.text} with value {value}\") if self.debug else None\n",
    "        #\n",
    "        if neg:\n",
    "            value *= -1\n",
    "        #\n",
    "        self.new_acpect_term_state[token.text] += value\n",
    "\n",
    "\n",
    "    def apply_rules(self, doc , number_of_rules=100):\n",
    "\n",
    "        rule_list = [self.rule1, self.rule2, self.rule3, self.rule4, self.rule5, self.rule6, self.rule7, self.rule8,\n",
    "                     self.rule9, self.rule10, self.rule11]\n",
    "        number_of_rules = min(number_of_rules, len(rule_list))\n",
    "        for token in doc:\n",
    "            if token.text.lower() in self.aspect_terms_tokens:\n",
    "                self.new_acpect_term_state[token.text] = 0\n",
    "                for rule in rule_list[:number_of_rules]:\n",
    "                    rule(token)\n",
    "\n",
    "    def rule1(self, token):\n",
    "        for child in token.children:\n",
    "            self.debug_print(child)\n",
    "            if child.dep_ == \"amod\":\n",
    "                print(f\"rule1 touched for {token.text}\") if self.debug else None\n",
    "                self._change_state(child.text, token)\n",
    "\n",
    "    def rule2(self, token):\n",
    "        def process_child(child):\n",
    "            self.debug_print(child)\n",
    "            if child.dep_ == \"acomp\":\n",
    "                print(f\"rule2 touched for {token.text}\") if self.debug else None\n",
    "                self._change_state(child.text, token)\n",
    "\n",
    "        ele = token.head\n",
    "        for child in ele.children:\n",
    "            process_child(child)\n",
    "            # Recursively process the children of each child\n",
    "            for sub_child in child.children:\n",
    "                process_child(sub_child)\n",
    "\n",
    "    def rule3(self, token):\n",
    "        def process_child(child):\n",
    "            self.debug_print(child)\n",
    "            if child.dep_ == \"amod\":\n",
    "                print(f\"rule3 touched for {token.text}\") if self.debug else None\n",
    "                self._change_state(child.text, token)\n",
    "\n",
    "        ele = token.head\n",
    "        for child in ele.children:\n",
    "            process_child(child)\n",
    "            # Recursively process the children of each child\n",
    "            for sub_child in child.children:\n",
    "                process_child(sub_child)\n",
    "\n",
    "    def rule4(self, token):\n",
    "        def process_child(child):\n",
    "            if child.pos_ == 'VERB':\n",
    "                for j in child.children:\n",
    "                    if j.dep_ == 'advmod' and j.pos_ == 'ADV':\n",
    "                        print(f\"rule4 touched for {token.text}\") if self.debug else None\n",
    "                        self._change_state(j.text, token)\n",
    "\n",
    "        ele = token.head\n",
    "        for child in ele.children:\n",
    "            process_child(child)\n",
    "            # Recursively process the children of each child\n",
    "            for sub_child in child.children:\n",
    "                process_child(sub_child)\n",
    "\n",
    "    def rule5(self, token):\n",
    "        def process_child(child):\n",
    "            if child.pos_ == 'VERB':\n",
    "                for j in child.children:\n",
    "                    if j.dep_ == 'advmod' and j.pos_ == 'ADV':\n",
    "                        print(f\"rule5 touched for {token.text}\") if self.debug else None\n",
    "                        self._change_state(j.text, token)\n",
    "\n",
    "        ele = token.head\n",
    "        for child in ele.children:\n",
    "            process_child(child)\n",
    "            # Recursively process the children of each child\n",
    "            for sub_child in child.children:\n",
    "                process_child(sub_child)\n",
    "\n",
    "\n",
    "    def rule6(self, token):\n",
    "        def process_child(child):\n",
    "            if child.pos_ == 'NOUN':\n",
    "                for j in child.lefts:\n",
    "                    if j.dep_ == 'compound':\n",
    "                        print(f\"rule6 touched for {token.text}\") if self.debug else None\n",
    "                        self._change_state(j.text, token)\n",
    "\n",
    "        ele = token.head\n",
    "        for child in ele.children:\n",
    "            process_child(child)\n",
    "            # Recursively process the children of each child\n",
    "            for sub_child in child.children:\n",
    "                process_child(sub_child)\n",
    "\n",
    "\n",
    "    def rule7(self, token):\n",
    "        def process_child(child):\n",
    "            self.debug_print(child)\n",
    "            if child.dep_ == \"amod\" or child.dep_ == \"dobj\":\n",
    "                print(f\"rule7 touched for {token.text}\") if self.debug else None\n",
    "                self._change_state(child.text, token)\n",
    "\n",
    "\n",
    "        ele = token.head.head\n",
    "        print(f\"rule 7 ele : {ele}\") if self.debug else None\n",
    "        for child in ele.children:\n",
    "            process_child(child)\n",
    "            # Recursively process the children of each child\n",
    "            for sub_child in child.children:\n",
    "                process_child(sub_child)\n",
    "\n",
    "                for sub_sub_child in sub_child.children:\n",
    "                    process_child(sub_sub_child)\n",
    "\n",
    "    def rule8(self, token):\n",
    "        def process_child(child):\n",
    "            self.debug_print(child)\n",
    "            if child.dep_ == \"neg\":\n",
    "                print(f\"rule8 touched for {token.text}\") if self.debug else None\n",
    "                self._change_state(child.text, token)\n",
    "                # Recursively process the children of each child\n",
    "                for sub_child in child.children:\n",
    "                    process_child(sub_child)\n",
    "\n",
    "\n",
    "        ele = token.head.head.head\n",
    "        print(f\"rule 8 ele : {ele}\") if self.debug else None\n",
    "        for child in ele.children:\n",
    "            process_child(child)\n",
    "\n",
    "\n",
    "    def rule9(self, token):\n",
    "\n",
    "        def process_child(child):\n",
    "            self.debug_print(child)\n",
    "            if child.dep_ == \"acomp\":\n",
    "                print(f\"rule9 touched for {token.text}\") if self.debug else None\n",
    "                self._change_state(child.text, token)\n",
    "                # Recursively process the children of each child\n",
    "                for sub_child in child.children:\n",
    "                    # if sub_child.dep_ == \"acomp\":\n",
    "                        process_child(sub_child)\n",
    "\n",
    "        ele = token.head.head\n",
    "        print(f\"rule 9 ele : {ele}\") if self.debug else None\n",
    "        for child in ele.children:\n",
    "            process_child(child)\n",
    "\n",
    "\n",
    "    def rule10(self, token):\n",
    "\n",
    "        ele = token.head.head\n",
    "        self.debug_print(ele)\n",
    "        print(f\"rule 10 ele : {ele}\") if self.debug else None\n",
    "        if ele.pos_ == \"NOUN\":\n",
    "            self._change_state(ele.text, token)\n",
    "\n",
    "\n",
    "    def rule11(self, token):\n",
    "\n",
    "        def process_child(child):\n",
    "            self.debug_print(child)\n",
    "            if child.dep_ == \"advmod\":\n",
    "                print(f\"rule11 touched for {token.text}\") if self.debug else None\n",
    "                self._change_state(child.text, token)\n",
    "                # Recursively process the children of each child\n",
    "                for sub_child in child.children:\n",
    "                    process_child(sub_child)\n",
    "\n",
    "        ele = token.head.head\n",
    "        self.debug_print(ele)\n",
    "        print(f\"rule 11 ele : {ele}\") if self.debug else None\n",
    "        # if ele.pos_ == \"NOUN\":\n",
    "        self._change_state(ele.text, token)\n",
    "        for child in ele.children:\n",
    "            process_child(child)\n",
    "\n"
   ],
   "metadata": {
    "collapsed": false,
    "ExecuteTime": {
     "end_time": "2023-06-23T09:11:41.390153Z",
     "start_time": "2023-06-23T09:11:41.356298Z"
    }
   }
  },
  {
   "cell_type": "code",
   "execution_count": 77,
   "outputs": [],
   "source": [],
   "metadata": {
    "collapsed": false,
    "ExecuteTime": {
     "end_time": "2023-06-23T09:11:44.021625Z",
     "start_time": "2023-06-23T09:11:43.978929Z"
    }
   }
  },
  {
   "cell_type": "code",
   "execution_count": 78,
   "outputs": [
    {
     "data": {
      "text/plain": "False"
     },
     "execution_count": 78,
     "metadata": {},
     "output_type": "execute_result"
    }
   ],
   "source": [
    "\"out\" in opinion_lexicon.negative()"
   ],
   "metadata": {
    "collapsed": false,
    "ExecuteTime": {
     "end_time": "2023-06-23T09:11:44.330728Z",
     "start_time": "2023-06-23T09:11:44.266170Z"
    }
   }
  },
  {
   "cell_type": "code",
   "execution_count": 79,
   "outputs": [
    {
     "data": {
      "text/plain": "Sentiment(polarity=0.0, subjectivity=0.0)"
     },
     "execution_count": 79,
     "metadata": {},
     "output_type": "execute_result"
    }
   ],
   "source": [
    "TextBlob(\"quite expert\").sentiment"
   ],
   "metadata": {
    "collapsed": false,
    "ExecuteTime": {
     "end_time": "2023-06-23T09:11:44.695668Z",
     "start_time": "2023-06-23T09:11:44.639909Z"
    }
   }
  },
  {
   "cell_type": "markdown",
   "source": [
    "## 2.1 Case 1"
   ],
   "metadata": {
    "collapsed": false
   }
  },
  {
   "cell_type": "code",
   "execution_count": 80,
   "outputs": [
    {
     "data": {
      "text/plain": "{'id': '3121',\n 'text': 'But the staff was so horrible to us.',\n 'aspect_terms': [{'term': 'staff',\n   'polarity': 'negative',\n   'from': '8',\n   'to': '13'}],\n 'aspect_categories': [{'category': 'service', 'polarity': 'negative'}],\n 'words': ['But', 'the', 'staff', 'was', 'so', 'horrible', 'to', 'us.'],\n 'mask': [False, False, True, False, False, False, False, False]}"
     },
     "execution_count": 80,
     "metadata": {},
     "output_type": "execute_result"
    }
   ],
   "source": [
    "data[0]"
   ],
   "metadata": {
    "collapsed": false,
    "ExecuteTime": {
     "end_time": "2023-06-23T09:11:45.752611Z",
     "start_time": "2023-06-23T09:11:45.719065Z"
    }
   }
  },
  {
   "cell_type": "code",
   "execution_count": 81,
   "outputs": [
    {
     "data": {
      "text/plain": "<IPython.core.display.HTML object>",
      "text/html": "<span class=\"tex2jax_ignore\"><svg xmlns=\"http://www.w3.org/2000/svg\" xmlns:xlink=\"http://www.w3.org/1999/xlink\" xml:lang=\"en\" id=\"4d6b7834ddc044f8bd7bfa6196ff9039-0\" class=\"displacy\" width=\"1450\" height=\"312.0\" direction=\"ltr\" style=\"max-width: none; height: 312.0px; color: #000000; background: #ffffff; font-family: Arial; direction: ltr\">\n<text class=\"displacy-token\" fill=\"currentColor\" text-anchor=\"middle\" y=\"222.0\">\n    <tspan class=\"displacy-word\" fill=\"currentColor\" x=\"50\">But</tspan>\n    <tspan class=\"displacy-tag\" dy=\"2em\" fill=\"currentColor\" x=\"50\">CCONJ</tspan>\n</text>\n\n<text class=\"displacy-token\" fill=\"currentColor\" text-anchor=\"middle\" y=\"222.0\">\n    <tspan class=\"displacy-word\" fill=\"currentColor\" x=\"225\">the</tspan>\n    <tspan class=\"displacy-tag\" dy=\"2em\" fill=\"currentColor\" x=\"225\">DET</tspan>\n</text>\n\n<text class=\"displacy-token\" fill=\"currentColor\" text-anchor=\"middle\" y=\"222.0\">\n    <tspan class=\"displacy-word\" fill=\"currentColor\" x=\"400\">staff</tspan>\n    <tspan class=\"displacy-tag\" dy=\"2em\" fill=\"currentColor\" x=\"400\">NOUN</tspan>\n</text>\n\n<text class=\"displacy-token\" fill=\"currentColor\" text-anchor=\"middle\" y=\"222.0\">\n    <tspan class=\"displacy-word\" fill=\"currentColor\" x=\"575\">was</tspan>\n    <tspan class=\"displacy-tag\" dy=\"2em\" fill=\"currentColor\" x=\"575\">AUX</tspan>\n</text>\n\n<text class=\"displacy-token\" fill=\"currentColor\" text-anchor=\"middle\" y=\"222.0\">\n    <tspan class=\"displacy-word\" fill=\"currentColor\" x=\"750\">so</tspan>\n    <tspan class=\"displacy-tag\" dy=\"2em\" fill=\"currentColor\" x=\"750\">ADV</tspan>\n</text>\n\n<text class=\"displacy-token\" fill=\"currentColor\" text-anchor=\"middle\" y=\"222.0\">\n    <tspan class=\"displacy-word\" fill=\"currentColor\" x=\"925\">horrible</tspan>\n    <tspan class=\"displacy-tag\" dy=\"2em\" fill=\"currentColor\" x=\"925\">ADJ</tspan>\n</text>\n\n<text class=\"displacy-token\" fill=\"currentColor\" text-anchor=\"middle\" y=\"222.0\">\n    <tspan class=\"displacy-word\" fill=\"currentColor\" x=\"1100\">to</tspan>\n    <tspan class=\"displacy-tag\" dy=\"2em\" fill=\"currentColor\" x=\"1100\">ADP</tspan>\n</text>\n\n<text class=\"displacy-token\" fill=\"currentColor\" text-anchor=\"middle\" y=\"222.0\">\n    <tspan class=\"displacy-word\" fill=\"currentColor\" x=\"1275\">us.</tspan>\n    <tspan class=\"displacy-tag\" dy=\"2em\" fill=\"currentColor\" x=\"1275\">PRON</tspan>\n</text>\n\n<g class=\"displacy-arrow\">\n    <path class=\"displacy-arc\" id=\"arrow-4d6b7834ddc044f8bd7bfa6196ff9039-0-0\" stroke-width=\"2px\" d=\"M70,177.0 C70,2.0 575.0,2.0 575.0,177.0\" fill=\"none\" stroke=\"currentColor\"/>\n    <text dy=\"1.25em\" style=\"font-size: 0.8em; letter-spacing: 1px\">\n        <textPath xlink:href=\"#arrow-4d6b7834ddc044f8bd7bfa6196ff9039-0-0\" class=\"displacy-label\" startOffset=\"50%\" side=\"left\" fill=\"currentColor\" text-anchor=\"middle\">cc</textPath>\n    </text>\n    <path class=\"displacy-arrowhead\" d=\"M70,179.0 L62,167.0 78,167.0\" fill=\"currentColor\"/>\n</g>\n\n<g class=\"displacy-arrow\">\n    <path class=\"displacy-arc\" id=\"arrow-4d6b7834ddc044f8bd7bfa6196ff9039-0-1\" stroke-width=\"2px\" d=\"M245,177.0 C245,89.5 395.0,89.5 395.0,177.0\" fill=\"none\" stroke=\"currentColor\"/>\n    <text dy=\"1.25em\" style=\"font-size: 0.8em; letter-spacing: 1px\">\n        <textPath xlink:href=\"#arrow-4d6b7834ddc044f8bd7bfa6196ff9039-0-1\" class=\"displacy-label\" startOffset=\"50%\" side=\"left\" fill=\"currentColor\" text-anchor=\"middle\">det</textPath>\n    </text>\n    <path class=\"displacy-arrowhead\" d=\"M245,179.0 L237,167.0 253,167.0\" fill=\"currentColor\"/>\n</g>\n\n<g class=\"displacy-arrow\">\n    <path class=\"displacy-arc\" id=\"arrow-4d6b7834ddc044f8bd7bfa6196ff9039-0-2\" stroke-width=\"2px\" d=\"M420,177.0 C420,89.5 570.0,89.5 570.0,177.0\" fill=\"none\" stroke=\"currentColor\"/>\n    <text dy=\"1.25em\" style=\"font-size: 0.8em; letter-spacing: 1px\">\n        <textPath xlink:href=\"#arrow-4d6b7834ddc044f8bd7bfa6196ff9039-0-2\" class=\"displacy-label\" startOffset=\"50%\" side=\"left\" fill=\"currentColor\" text-anchor=\"middle\">nsubj</textPath>\n    </text>\n    <path class=\"displacy-arrowhead\" d=\"M420,179.0 L412,167.0 428,167.0\" fill=\"currentColor\"/>\n</g>\n\n<g class=\"displacy-arrow\">\n    <path class=\"displacy-arc\" id=\"arrow-4d6b7834ddc044f8bd7bfa6196ff9039-0-3\" stroke-width=\"2px\" d=\"M770,177.0 C770,89.5 920.0,89.5 920.0,177.0\" fill=\"none\" stroke=\"currentColor\"/>\n    <text dy=\"1.25em\" style=\"font-size: 0.8em; letter-spacing: 1px\">\n        <textPath xlink:href=\"#arrow-4d6b7834ddc044f8bd7bfa6196ff9039-0-3\" class=\"displacy-label\" startOffset=\"50%\" side=\"left\" fill=\"currentColor\" text-anchor=\"middle\">advmod</textPath>\n    </text>\n    <path class=\"displacy-arrowhead\" d=\"M770,179.0 L762,167.0 778,167.0\" fill=\"currentColor\"/>\n</g>\n\n<g class=\"displacy-arrow\">\n    <path class=\"displacy-arc\" id=\"arrow-4d6b7834ddc044f8bd7bfa6196ff9039-0-4\" stroke-width=\"2px\" d=\"M595,177.0 C595,2.0 925.0,2.0 925.0,177.0\" fill=\"none\" stroke=\"currentColor\"/>\n    <text dy=\"1.25em\" style=\"font-size: 0.8em; letter-spacing: 1px\">\n        <textPath xlink:href=\"#arrow-4d6b7834ddc044f8bd7bfa6196ff9039-0-4\" class=\"displacy-label\" startOffset=\"50%\" side=\"left\" fill=\"currentColor\" text-anchor=\"middle\">acomp</textPath>\n    </text>\n    <path class=\"displacy-arrowhead\" d=\"M925.0,179.0 L933.0,167.0 917.0,167.0\" fill=\"currentColor\"/>\n</g>\n\n<g class=\"displacy-arrow\">\n    <path class=\"displacy-arc\" id=\"arrow-4d6b7834ddc044f8bd7bfa6196ff9039-0-5\" stroke-width=\"2px\" d=\"M945,177.0 C945,89.5 1095.0,89.5 1095.0,177.0\" fill=\"none\" stroke=\"currentColor\"/>\n    <text dy=\"1.25em\" style=\"font-size: 0.8em; letter-spacing: 1px\">\n        <textPath xlink:href=\"#arrow-4d6b7834ddc044f8bd7bfa6196ff9039-0-5\" class=\"displacy-label\" startOffset=\"50%\" side=\"left\" fill=\"currentColor\" text-anchor=\"middle\">prep</textPath>\n    </text>\n    <path class=\"displacy-arrowhead\" d=\"M1095.0,179.0 L1103.0,167.0 1087.0,167.0\" fill=\"currentColor\"/>\n</g>\n\n<g class=\"displacy-arrow\">\n    <path class=\"displacy-arc\" id=\"arrow-4d6b7834ddc044f8bd7bfa6196ff9039-0-6\" stroke-width=\"2px\" d=\"M1120,177.0 C1120,89.5 1270.0,89.5 1270.0,177.0\" fill=\"none\" stroke=\"currentColor\"/>\n    <text dy=\"1.25em\" style=\"font-size: 0.8em; letter-spacing: 1px\">\n        <textPath xlink:href=\"#arrow-4d6b7834ddc044f8bd7bfa6196ff9039-0-6\" class=\"displacy-label\" startOffset=\"50%\" side=\"left\" fill=\"currentColor\" text-anchor=\"middle\">pobj</textPath>\n    </text>\n    <path class=\"displacy-arrowhead\" d=\"M1270.0,179.0 L1278.0,167.0 1262.0,167.0\" fill=\"currentColor\"/>\n</g>\n</svg></span>"
     },
     "metadata": {},
     "output_type": "display_data"
    }
   ],
   "source": [
    "analyzer = AspectSentimentAnalyzer(data[0].text, data[0]['aspect_terms'], debug=True)\n",
    "count_ne = analyzer.show_dependency_tree()\n",
    "# print(count_ne)"
   ],
   "metadata": {
    "collapsed": false,
    "ExecuteTime": {
     "end_time": "2023-06-23T09:11:46.720705Z",
     "start_time": "2023-06-23T09:11:46.492568Z"
    }
   }
  },
  {
   "cell_type": "code",
   "execution_count": 82,
   "outputs": [
    {
     "name": "stdout",
     "output_type": "stream",
     "text": [
      "the det DET staff NOUN []\n",
      "But cc CCONJ was AUX []\n",
      "staff nsubj NOUN was AUX [the]\n",
      "the det DET staff NOUN []\n",
      "horrible acomp ADJ was AUX [so, to]\n",
      "rule2 touched for staff\n",
      "rule touched for staff with value -1.0\n",
      "so advmod ADV horrible ADJ []\n",
      "to prep ADP horrible ADJ [us]\n",
      ". punct PUNCT was AUX []\n",
      "But cc CCONJ was AUX []\n",
      "staff nsubj NOUN was AUX [the]\n",
      "the det DET staff NOUN []\n",
      "horrible acomp ADJ was AUX [so, to]\n",
      "so advmod ADV horrible ADJ []\n",
      "to prep ADP horrible ADJ [us]\n",
      ". punct PUNCT was AUX []\n",
      "rule 7 ele : was\n",
      "But cc CCONJ was AUX []\n",
      "staff nsubj NOUN was AUX [the]\n",
      "the det DET staff NOUN []\n",
      "horrible acomp ADJ was AUX [so, to]\n",
      "so advmod ADV horrible ADJ []\n",
      "to prep ADP horrible ADJ [us]\n",
      "us pobj PRON to ADP []\n",
      ". punct PUNCT was AUX []\n",
      "rule 8 ele : was\n",
      "But cc CCONJ was AUX []\n",
      "staff nsubj NOUN was AUX [the]\n",
      "horrible acomp ADJ was AUX [so, to]\n",
      ". punct PUNCT was AUX []\n",
      "rule 9 ele : was\n",
      "But cc CCONJ was AUX []\n",
      "staff nsubj NOUN was AUX [the]\n",
      "horrible acomp ADJ was AUX [so, to]\n",
      "rule9 touched for staff\n",
      "rule touched for staff with value -1.0\n",
      "so advmod ADV horrible ADJ []\n",
      "to prep ADP horrible ADJ [us]\n",
      ". punct PUNCT was AUX []\n",
      "was ROOT AUX was AUX [But, staff, horrible, .]\n",
      "rule 10 ele : was\n",
      "was ROOT AUX was AUX [But, staff, horrible, .]\n",
      "rule 11 ele : was\n",
      "rule touched for staff with value 0.0\n",
      "But cc CCONJ was AUX []\n",
      "staff nsubj NOUN was AUX [the]\n",
      "horrible acomp ADJ was AUX [so, to]\n",
      ". punct PUNCT was AUX []\n"
     ]
    }
   ],
   "source": [
    "out = analyzer.analyze()"
   ],
   "metadata": {
    "collapsed": false,
    "ExecuteTime": {
     "end_time": "2023-06-23T09:11:48.547486Z",
     "start_time": "2023-06-23T09:11:48.516990Z"
    }
   }
  },
  {
   "cell_type": "code",
   "execution_count": 83,
   "outputs": [
    {
     "name": "stdout",
     "output_type": "stream",
     "text": [
      "True\n"
     ]
    }
   ],
   "source": [
    "print(analyzer.check_correctness(out))"
   ],
   "metadata": {
    "collapsed": false,
    "ExecuteTime": {
     "end_time": "2023-06-23T09:11:49.076095Z",
     "start_time": "2023-06-23T09:11:49.020577Z"
    }
   }
  },
  {
   "cell_type": "markdown",
   "source": [
    "## 2.2 Explore System"
   ],
   "metadata": {
    "collapsed": false
   }
  },
  {
   "cell_type": "code",
   "execution_count": 90,
   "outputs": [
    {
     "name": "stdout",
     "output_type": "stream",
     "text": [
      "the det DET staff NOUN []\n",
      "But cc CCONJ was AUX []\n",
      "staff nsubj NOUN was AUX [the]\n",
      "the det DET staff NOUN []\n",
      "horrible acomp ADJ was AUX [so, to]\n",
      "rule2 touched for staff\n",
      "rule touched for staff with value -1.0\n",
      "so advmod ADV horrible ADJ []\n",
      "to prep ADP horrible ADJ [us]\n",
      ". punct PUNCT was AUX []\n",
      "But cc CCONJ was AUX []\n",
      "staff nsubj NOUN was AUX [the]\n",
      "the det DET staff NOUN []\n",
      "horrible acomp ADJ was AUX [so, to]\n",
      "so advmod ADV horrible ADJ []\n",
      "to prep ADP horrible ADJ [us]\n",
      ". punct PUNCT was AUX []\n",
      "rule 7 ele : was\n",
      "But cc CCONJ was AUX []\n",
      "staff nsubj NOUN was AUX [the]\n",
      "the det DET staff NOUN []\n",
      "horrible acomp ADJ was AUX [so, to]\n",
      "so advmod ADV horrible ADJ []\n",
      "to prep ADP horrible ADJ [us]\n",
      "us pobj PRON to ADP []\n",
      ". punct PUNCT was AUX []\n",
      "rule 8 ele : was\n",
      "But cc CCONJ was AUX []\n",
      "staff nsubj NOUN was AUX [the]\n",
      "horrible acomp ADJ was AUX [so, to]\n",
      ". punct PUNCT was AUX []\n",
      "rule 9 ele : was\n",
      "But cc CCONJ was AUX []\n",
      "staff nsubj NOUN was AUX [the]\n",
      "horrible acomp ADJ was AUX [so, to]\n",
      "rule9 touched for staff\n",
      "rule touched for staff with value -1.0\n",
      "so advmod ADV horrible ADJ []\n",
      "to prep ADP horrible ADJ [us]\n",
      ". punct PUNCT was AUX []\n",
      "was ROOT AUX was AUX [But, staff, horrible, .]\n",
      "rule 10 ele : was\n",
      "was ROOT AUX was AUX [But, staff, horrible, .]\n",
      "rule 11 ele : was\n",
      "rule touched for staff with value 0.0\n",
      "But cc CCONJ was AUX []\n",
      "staff nsubj NOUN was AUX [the]\n",
      "horrible acomp ADJ was AUX [so, to]\n",
      ". punct PUNCT was AUX []\n",
      "passed 0\n",
      "the det DET food NOUN []\n",
      ", punct PUNCT food NOUN []\n",
      "was relcl AUX food NOUN [which, above]\n",
      "be advcl AUX was AUX [To, fair]\n",
      "To aux PART be AUX []\n",
      "fair acomp ADJ be AUX [completely]\n",
      "rule2 touched for food\n",
      "rule touched for food with value 0.7\n",
      ", punct PUNCT was AUX []\n",
      "factor nsubj NOUN was AUX [the, only, redeeming]\n",
      "the det DET factor NOUN []\n",
      "only amod ADJ factor NOUN []\n",
      "redeeming amod VERB factor NOUN []\n",
      "food attr NOUN was AUX [the, ,, was]\n",
      "the det DET food NOUN []\n",
      ", punct PUNCT food NOUN []\n",
      "was relcl AUX food NOUN [which, above]\n",
      ", punct PUNCT was AUX []\n",
      "but cc CCONJ was AUX []\n",
      "make conj VERB was AUX [could, n't, up, for]\n",
      "could aux AUX make VERB []\n",
      "n't neg PART make VERB []\n",
      "up prt ADP make VERB []\n",
      "for prep ADP make VERB [deficiencies]\n",
      ". punct PUNCT was AUX []\n",
      "be advcl AUX was AUX [To, fair]\n",
      "To aux PART be AUX []\n",
      "fair acomp ADJ be AUX [completely]\n",
      ", punct PUNCT was AUX []\n",
      "factor nsubj NOUN was AUX [the, only, redeeming]\n",
      "the det DET factor NOUN []\n",
      "only amod ADJ factor NOUN []\n",
      "rule3 touched for food\n",
      "rule touched for food with value 0.0\n",
      "redeeming amod VERB factor NOUN []\n",
      "rule3 touched for food\n",
      "rule touched for food with value 0.5\n",
      "food attr NOUN was AUX [the, ,, was]\n",
      "the det DET food NOUN []\n",
      ", punct PUNCT food NOUN []\n",
      "was relcl AUX food NOUN [which, above]\n",
      ", punct PUNCT was AUX []\n",
      "but cc CCONJ was AUX []\n",
      "make conj VERB was AUX [could, n't, up, for]\n",
      "could aux AUX make VERB []\n",
      "n't neg PART make VERB []\n",
      "up prt ADP make VERB []\n",
      "for prep ADP make VERB [deficiencies]\n",
      ". punct PUNCT was AUX []\n",
      "rule 7 ele : was\n",
      "be advcl AUX was AUX [To, fair]\n",
      "To aux PART be AUX []\n",
      "fair acomp ADJ be AUX [completely]\n",
      "completely advmod ADV fair ADJ []\n",
      ", punct PUNCT was AUX []\n",
      "factor nsubj NOUN was AUX [the, only, redeeming]\n",
      "the det DET factor NOUN []\n",
      "only amod ADJ factor NOUN []\n",
      "rule7 touched for food\n",
      "rule touched for food with value 0.0\n",
      "redeeming amod VERB factor NOUN []\n",
      "rule7 touched for food\n",
      "rule touched for food with value 0.5\n",
      "food attr NOUN was AUX [the, ,, was]\n",
      "the det DET food NOUN []\n",
      ", punct PUNCT food NOUN []\n",
      "was relcl AUX food NOUN [which, above]\n",
      "which nsubj PRON was AUX []\n",
      "above prep ADP was AUX [average]\n",
      ", punct PUNCT was AUX []\n",
      "but cc CCONJ was AUX []\n",
      "make conj VERB was AUX [could, n't, up, for]\n",
      "could aux AUX make VERB []\n",
      "n't neg PART make VERB []\n",
      "up prt ADP make VERB []\n",
      "for prep ADP make VERB [deficiencies]\n",
      "deficiencies pobj NOUN for ADP [all, the, other, of]\n",
      ". punct PUNCT was AUX []\n",
      "rule 8 ele : was\n",
      "be advcl AUX was AUX [To, fair]\n",
      ", punct PUNCT was AUX []\n",
      "factor nsubj NOUN was AUX [the, only, redeeming]\n",
      "food attr NOUN was AUX [the, ,, was]\n",
      ", punct PUNCT was AUX []\n",
      "but cc CCONJ was AUX []\n",
      "make conj VERB was AUX [could, n't, up, for]\n",
      ". punct PUNCT was AUX []\n",
      "rule 9 ele : was\n",
      "be advcl AUX was AUX [To, fair]\n",
      ", punct PUNCT was AUX []\n",
      "factor nsubj NOUN was AUX [the, only, redeeming]\n",
      "food attr NOUN was AUX [the, ,, was]\n",
      ", punct PUNCT was AUX []\n",
      "but cc CCONJ was AUX []\n",
      "make conj VERB was AUX [could, n't, up, for]\n",
      ". punct PUNCT was AUX []\n",
      "was ROOT AUX was AUX [be, ,, factor, food, ,, but, make, .]\n",
      "rule 10 ele : was\n",
      "was ROOT AUX was AUX [be, ,, factor, food, ,, but, make, .]\n",
      "rule 11 ele : was\n",
      "rule touched for food with value 0.0\n",
      "be advcl AUX was AUX [To, fair]\n",
      ", punct PUNCT was AUX []\n",
      "factor nsubj NOUN was AUX [the, only, redeeming]\n",
      "food attr NOUN was AUX [the, ,, was]\n",
      ", punct PUNCT was AUX []\n",
      "but cc CCONJ was AUX []\n",
      "make conj VERB was AUX [could, n't, up, for]\n",
      ". punct PUNCT was AUX []\n",
      "passed 1\n",
      "The det DET food NOUN []\n",
      "food nsubj NOUN is AUX [The]\n",
      "The det DET food NOUN []\n",
      "exceptional acomp ADJ is AUX [uniformly]\n",
      "rule2 touched for food\n",
      "rule touched for food with value 0.6666666666666666\n",
      "uniformly advmod ADV exceptional ADJ []\n",
      ", punct PUNCT is AUX []\n",
      "with prep ADP is AUX [kitchen]\n",
      "kitchen pobj NOUN with ADP [a, capable, whip]\n",
      ", punct PUNCT is AUX []\n",
      "'s advcl AUX is AUX [whether, it, on, not]\n",
      "whether mark SCONJ 's AUX []\n",
      "it nsubj PRON 's AUX []\n",
      "on prep ADP 's AUX [menu, or]\n",
      "not neg PART 's AUX []\n",
      ". punct PUNCT is AUX []\n",
      "food nsubj NOUN is AUX [The]\n",
      "The det DET food NOUN []\n",
      "exceptional acomp ADJ is AUX [uniformly]\n",
      "uniformly advmod ADV exceptional ADJ []\n",
      ", punct PUNCT is AUX []\n",
      "with prep ADP is AUX [kitchen]\n",
      "kitchen pobj NOUN with ADP [a, capable, whip]\n",
      ", punct PUNCT is AUX []\n",
      "'s advcl AUX is AUX [whether, it, on, not]\n",
      "whether mark SCONJ 's AUX []\n",
      "it nsubj PRON 's AUX []\n",
      "on prep ADP 's AUX [menu, or]\n",
      "not neg PART 's AUX []\n",
      ". punct PUNCT is AUX []\n",
      "rule 7 ele : is\n",
      "food nsubj NOUN is AUX [The]\n",
      "The det DET food NOUN []\n",
      "exceptional acomp ADJ is AUX [uniformly]\n",
      "uniformly advmod ADV exceptional ADJ []\n",
      ", punct PUNCT is AUX []\n",
      "with prep ADP is AUX [kitchen]\n",
      "kitchen pobj NOUN with ADP [a, capable, whip]\n",
      "a det DET kitchen NOUN []\n",
      "capable amod ADJ kitchen NOUN [very]\n",
      "rule7 touched for food\n",
      "rule touched for food with value 0.2\n",
      "whip relcl VERB kitchen NOUN [which, will, proudly, up, feel]\n",
      ", punct PUNCT is AUX []\n",
      "'s advcl AUX is AUX [whether, it, on, not]\n",
      "whether mark SCONJ 's AUX []\n",
      "it nsubj PRON 's AUX []\n",
      "on prep ADP 's AUX [menu, or]\n",
      "menu pobj NOUN on ADP [the]\n",
      "or cc CCONJ on ADP []\n",
      "not neg PART 's AUX []\n",
      ". punct PUNCT is AUX []\n",
      "rule 8 ele : is\n",
      "food nsubj NOUN is AUX [The]\n",
      "exceptional acomp ADJ is AUX [uniformly]\n",
      ", punct PUNCT is AUX []\n",
      "with prep ADP is AUX [kitchen]\n",
      ", punct PUNCT is AUX []\n",
      "'s advcl AUX is AUX [whether, it, on, not]\n",
      ". punct PUNCT is AUX []\n",
      "rule 9 ele : is\n",
      "food nsubj NOUN is AUX [The]\n",
      "exceptional acomp ADJ is AUX [uniformly]\n",
      "rule9 touched for food\n",
      "rule touched for food with value 0.6666666666666666\n",
      "uniformly advmod ADV exceptional ADJ []\n",
      ", punct PUNCT is AUX []\n",
      "with prep ADP is AUX [kitchen]\n",
      ", punct PUNCT is AUX []\n",
      "'s advcl AUX is AUX [whether, it, on, not]\n",
      ". punct PUNCT is AUX []\n",
      "is ROOT AUX is AUX [food, exceptional, ,, with, ,, 's, .]\n",
      "rule 10 ele : is\n",
      "is ROOT AUX is AUX [food, exceptional, ,, with, ,, 's, .]\n",
      "rule 11 ele : is\n",
      "rule touched for food with value 0.0\n",
      "food nsubj NOUN is AUX [The]\n",
      "exceptional acomp ADJ is AUX [uniformly]\n",
      ", punct PUNCT is AUX []\n",
      "with prep ADP is AUX [kitchen]\n",
      ", punct PUNCT is AUX []\n",
      "'s advcl AUX is AUX [whether, it, on, not]\n",
      ". punct PUNCT is AUX []\n",
      "a det DET kitchen NOUN []\n",
      "capable amod ADJ kitchen NOUN [very]\n",
      "rule1 touched for kitchen\n",
      "rule touched for kitchen with value 0.2\n",
      "whip relcl VERB kitchen NOUN [which, will, proudly, up, feel]\n",
      "kitchen pobj NOUN with ADP [a, capable, whip]\n",
      "a det DET kitchen NOUN []\n",
      "capable amod ADJ kitchen NOUN [very]\n",
      "whip relcl VERB kitchen NOUN [which, will, proudly, up, feel]\n",
      "kitchen pobj NOUN with ADP [a, capable, whip]\n",
      "a det DET kitchen NOUN []\n",
      "capable amod ADJ kitchen NOUN [very]\n",
      "rule3 touched for kitchen\n",
      "rule touched for kitchen with value 0.2\n",
      "whip relcl VERB kitchen NOUN [which, will, proudly, up, feel]\n",
      "rule4 touched for kitchen\n",
      "rule touched for kitchen with value 0.8\n",
      "rule5 touched for kitchen\n",
      "rule touched for kitchen with value 0.8\n",
      "rule 7 ele : is\n",
      "food nsubj NOUN is AUX [The]\n",
      "The det DET food NOUN []\n",
      "exceptional acomp ADJ is AUX [uniformly]\n",
      "uniformly advmod ADV exceptional ADJ []\n",
      ", punct PUNCT is AUX []\n",
      "with prep ADP is AUX [kitchen]\n",
      "kitchen pobj NOUN with ADP [a, capable, whip]\n",
      "a det DET kitchen NOUN []\n",
      "capable amod ADJ kitchen NOUN [very]\n",
      "rule7 touched for kitchen\n",
      "rule touched for kitchen with value 0.2\n",
      "whip relcl VERB kitchen NOUN [which, will, proudly, up, feel]\n",
      ", punct PUNCT is AUX []\n",
      "'s advcl AUX is AUX [whether, it, on, not]\n",
      "whether mark SCONJ 's AUX []\n",
      "it nsubj PRON 's AUX []\n",
      "on prep ADP 's AUX [menu, or]\n",
      "menu pobj NOUN on ADP [the]\n",
      "or cc CCONJ on ADP []\n",
      "not neg PART 's AUX []\n",
      ". punct PUNCT is AUX []\n",
      "rule 8 ele : is\n",
      "food nsubj NOUN is AUX [The]\n",
      "exceptional acomp ADJ is AUX [uniformly]\n",
      ", punct PUNCT is AUX []\n",
      "with prep ADP is AUX [kitchen]\n",
      ", punct PUNCT is AUX []\n",
      "'s advcl AUX is AUX [whether, it, on, not]\n",
      ". punct PUNCT is AUX []\n",
      "rule 9 ele : is\n",
      "food nsubj NOUN is AUX [The]\n",
      "exceptional acomp ADJ is AUX [uniformly]\n",
      "rule9 touched for kitchen\n",
      "rule touched for kitchen with value 0.6666666666666666\n",
      "uniformly advmod ADV exceptional ADJ []\n",
      ", punct PUNCT is AUX []\n",
      "with prep ADP is AUX [kitchen]\n",
      ", punct PUNCT is AUX []\n",
      "'s advcl AUX is AUX [whether, it, on, not]\n",
      ". punct PUNCT is AUX []\n",
      "is ROOT AUX is AUX [food, exceptional, ,, with, ,, 's, .]\n",
      "rule 10 ele : is\n",
      "is ROOT AUX is AUX [food, exceptional, ,, with, ,, 's, .]\n",
      "rule 11 ele : is\n",
      "rule touched for kitchen with value 0.0\n",
      "food nsubj NOUN is AUX [The]\n",
      "exceptional acomp ADJ is AUX [uniformly]\n",
      ", punct PUNCT is AUX []\n",
      "with prep ADP is AUX [kitchen]\n",
      ", punct PUNCT is AUX []\n",
      "'s advcl AUX is AUX [whether, it, on, not]\n",
      ". punct PUNCT is AUX []\n",
      "the det DET menu NOUN []\n",
      "menu pobj NOUN on ADP [the]\n",
      "the det DET menu NOUN []\n",
      "or cc CCONJ on ADP []\n",
      "menu pobj NOUN on ADP [the]\n",
      "the det DET menu NOUN []\n",
      "or cc CCONJ on ADP []\n",
      "rule 7 ele : 's\n",
      "whether mark SCONJ 's AUX []\n",
      "it nsubj PRON 's AUX []\n",
      "on prep ADP 's AUX [menu, or]\n",
      "menu pobj NOUN on ADP [the]\n",
      "the det DET menu NOUN []\n",
      "or cc CCONJ on ADP []\n",
      "not neg PART 's AUX []\n",
      "rule 8 ele : is\n",
      "food nsubj NOUN is AUX [The]\n",
      "exceptional acomp ADJ is AUX [uniformly]\n",
      ", punct PUNCT is AUX []\n",
      "with prep ADP is AUX [kitchen]\n",
      ", punct PUNCT is AUX []\n",
      "'s advcl AUX is AUX [whether, it, on, not]\n",
      ". punct PUNCT is AUX []\n",
      "rule 9 ele : 's\n",
      "whether mark SCONJ 's AUX []\n",
      "it nsubj PRON 's AUX []\n",
      "on prep ADP 's AUX [menu, or]\n",
      "not neg PART 's AUX []\n",
      "'s advcl AUX is AUX [whether, it, on, not]\n",
      "rule 10 ele : 's\n",
      "'s advcl AUX is AUX [whether, it, on, not]\n",
      "rule 11 ele : 's\n",
      "rule touched for menu with value 0.0\n",
      "whether mark SCONJ 's AUX []\n",
      "it nsubj PRON 's AUX []\n",
      "on prep ADP 's AUX [menu, or]\n",
      "not neg PART 's AUX []\n",
      "passed 2\n",
      "the det DET food NOUN []\n",
      "outstanding amod ADJ food NOUN []\n",
      "rule1 touched for food\n",
      "rule touched for food with value 0.5\n",
      "Not preconj PART was AUX [only]\n",
      "only advmod ADV Not PART []\n",
      "food nsubj NOUN was AUX [the, outstanding]\n",
      "the det DET food NOUN []\n",
      "outstanding amod ADJ food NOUN []\n",
      ", punct PUNCT was AUX []\n",
      "but cc CCONJ was AUX []\n",
      "were conj AUX was AUX [perks, great]\n",
      "perks nsubj NOUN were AUX [the, little, ', ']\n",
      "great acomp ADJ were AUX []\n",
      "rule2 touched for food\n",
      "rule touched for food with value 0.8\n",
      ". punct PUNCT was AUX []\n",
      "Not preconj PART was AUX [only]\n",
      "only advmod ADV Not PART []\n",
      "food nsubj NOUN was AUX [the, outstanding]\n",
      "the det DET food NOUN []\n",
      "outstanding amod ADJ food NOUN []\n",
      "rule3 touched for food\n",
      "rule touched for food with value 0.5\n",
      ", punct PUNCT was AUX []\n",
      "but cc CCONJ was AUX []\n",
      "were conj AUX was AUX [perks, great]\n",
      "perks nsubj NOUN were AUX [the, little, ', ']\n",
      "great acomp ADJ were AUX []\n",
      ". punct PUNCT was AUX []\n",
      "rule 7 ele : was\n",
      "Not preconj PART was AUX [only]\n",
      "only advmod ADV Not PART []\n",
      "food nsubj NOUN was AUX [the, outstanding]\n",
      "the det DET food NOUN []\n",
      "outstanding amod ADJ food NOUN []\n",
      "rule7 touched for food\n",
      "rule touched for food with value 0.5\n",
      ", punct PUNCT was AUX []\n",
      "but cc CCONJ was AUX []\n",
      "were conj AUX was AUX [perks, great]\n",
      "perks nsubj NOUN were AUX [the, little, ', ']\n",
      "the det DET perks NOUN []\n",
      "little amod ADJ perks NOUN []\n",
      "rule7 touched for food\n",
      "rule touched for food with value -0.1875\n",
      "' punct PUNCT perks NOUN []\n",
      "' punct PUNCT perks NOUN []\n",
      "great acomp ADJ were AUX []\n",
      ". punct PUNCT was AUX []\n",
      "rule 8 ele : was\n",
      "Not preconj PART was AUX [only]\n",
      "food nsubj NOUN was AUX [the, outstanding]\n",
      ", punct PUNCT was AUX []\n",
      "but cc CCONJ was AUX []\n",
      "were conj AUX was AUX [perks, great]\n",
      ". punct PUNCT was AUX []\n",
      "rule 9 ele : was\n",
      "Not preconj PART was AUX [only]\n",
      "food nsubj NOUN was AUX [the, outstanding]\n",
      ", punct PUNCT was AUX []\n",
      "but cc CCONJ was AUX []\n",
      "were conj AUX was AUX [perks, great]\n",
      ". punct PUNCT was AUX []\n",
      "was ROOT AUX was AUX [Not, food, ,, but, were, .]\n",
      "rule 10 ele : was\n",
      "was ROOT AUX was AUX [Not, food, ,, but, were, .]\n",
      "rule 11 ele : was\n",
      "rule touched for food with value 0.0\n",
      "Not preconj PART was AUX [only]\n",
      "food nsubj NOUN was AUX [the, outstanding]\n",
      ", punct PUNCT was AUX []\n",
      "but cc CCONJ was AUX []\n",
      "were conj AUX was AUX [perks, great]\n",
      ". punct PUNCT was AUX []\n",
      "the det DET perks NOUN []\n",
      "little amod ADJ perks NOUN []\n",
      "rule1 touched for perks\n",
      "rule touched for perks with value -0.1875\n",
      "' punct PUNCT perks NOUN []\n",
      "' punct PUNCT perks NOUN []\n",
      "perks nsubj NOUN were AUX [the, little, ', ']\n",
      "the det DET perks NOUN []\n",
      "little amod ADJ perks NOUN []\n",
      "' punct PUNCT perks NOUN []\n",
      "' punct PUNCT perks NOUN []\n",
      "great acomp ADJ were AUX []\n",
      "rule2 touched for perks\n",
      "rule touched for perks with value 0.8\n",
      "perks nsubj NOUN were AUX [the, little, ', ']\n",
      "the det DET perks NOUN []\n",
      "little amod ADJ perks NOUN []\n",
      "rule3 touched for perks\n",
      "rule touched for perks with value -0.1875\n",
      "' punct PUNCT perks NOUN []\n",
      "' punct PUNCT perks NOUN []\n",
      "great acomp ADJ were AUX []\n",
      "rule 7 ele : was\n",
      "Not preconj PART was AUX [only]\n",
      "only advmod ADV Not PART []\n",
      "food nsubj NOUN was AUX [the, outstanding]\n",
      "the det DET food NOUN []\n",
      "outstanding amod ADJ food NOUN []\n",
      "rule7 touched for perks\n",
      "rule touched for perks with value 0.5\n",
      ", punct PUNCT was AUX []\n",
      "but cc CCONJ was AUX []\n",
      "were conj AUX was AUX [perks, great]\n",
      "perks nsubj NOUN were AUX [the, little, ', ']\n",
      "the det DET perks NOUN []\n",
      "little amod ADJ perks NOUN []\n",
      "rule7 touched for perks\n",
      "rule touched for perks with value -0.1875\n",
      "' punct PUNCT perks NOUN []\n",
      "' punct PUNCT perks NOUN []\n",
      "great acomp ADJ were AUX []\n",
      ". punct PUNCT was AUX []\n",
      "rule 8 ele : was\n",
      "Not preconj PART was AUX [only]\n",
      "food nsubj NOUN was AUX [the, outstanding]\n",
      ", punct PUNCT was AUX []\n",
      "but cc CCONJ was AUX []\n",
      "were conj AUX was AUX [perks, great]\n",
      ". punct PUNCT was AUX []\n",
      "rule 9 ele : was\n",
      "Not preconj PART was AUX [only]\n",
      "food nsubj NOUN was AUX [the, outstanding]\n",
      ", punct PUNCT was AUX []\n",
      "but cc CCONJ was AUX []\n",
      "were conj AUX was AUX [perks, great]\n",
      ". punct PUNCT was AUX []\n",
      "was ROOT AUX was AUX [Not, food, ,, but, were, .]\n",
      "rule 10 ele : was\n",
      "was ROOT AUX was AUX [Not, food, ,, but, were, .]\n",
      "rule 11 ele : was\n",
      "rule touched for perks with value 0.0\n",
      "Not preconj PART was AUX [only]\n",
      "food nsubj NOUN was AUX [the, outstanding]\n",
      ", punct PUNCT was AUX []\n",
      "but cc CCONJ was AUX []\n",
      "were conj AUX was AUX [perks, great]\n",
      ". punct PUNCT was AUX []\n",
      "passed 3\n",
      "The det DET Bagels PROPN []\n",
      "Bagels nsubj PROPN have VERB [The]\n",
      "The det DET Bagels PROPN []\n",
      "taste dobj NOUN have VERB [an, outstanding, with]\n",
      "an det DET taste NOUN []\n",
      "outstanding amod ADJ taste NOUN []\n",
      "with prep ADP taste NOUN [texture]\n",
      "Bagels nsubj PROPN have VERB [The]\n",
      "The det DET Bagels PROPN []\n",
      "taste dobj NOUN have VERB [an, outstanding, with]\n",
      "an det DET taste NOUN []\n",
      "outstanding amod ADJ taste NOUN []\n",
      "rule3 touched for Bagels\n",
      "rule touched for Bagels with value 0.5\n",
      "with prep ADP taste NOUN [texture]\n",
      "rule 7 ele : gummy\n",
      "have ccomp VERB gummy ADJ [Bagels, taste]\n",
      "Bagels nsubj PROPN have VERB [The]\n",
      "The det DET Bagels PROPN []\n",
      "taste dobj NOUN have VERB [an, outstanding, with]\n",
      "rule7 touched for Bagels\n",
      "rule touched for Bagels with value 0.0\n",
      "an det DET taste NOUN []\n",
      "outstanding amod ADJ taste NOUN []\n",
      "rule7 touched for Bagels\n",
      "rule touched for Bagels with value 0.5\n",
      "with prep ADP taste NOUN [texture]\n",
      ", punct PUNCT gummy ADJ []\n",
      "chewy nsubj NOUN gummy ADJ [both, yet]\n",
      "both det DET chewy NOUN []\n",
      "yet advmod ADV chewy NOUN []\n",
      "not neg PART gummy ADJ []\n",
      ". punct PUNCT gummy ADJ []\n",
      "rule 8 ele : gummy\n",
      "have ccomp VERB gummy ADJ [Bagels, taste]\n",
      ", punct PUNCT gummy ADJ []\n",
      "chewy nsubj NOUN gummy ADJ [both, yet]\n",
      "not neg PART gummy ADJ []\n",
      "rule8 touched for Bagels\n",
      "rule touched for Bagels with value 0.0\n",
      ". punct PUNCT gummy ADJ []\n",
      "rule 9 ele : gummy\n",
      "have ccomp VERB gummy ADJ [Bagels, taste]\n",
      ", punct PUNCT gummy ADJ []\n",
      "chewy nsubj NOUN gummy ADJ [both, yet]\n",
      "not neg PART gummy ADJ []\n",
      ". punct PUNCT gummy ADJ []\n",
      "gummy ROOT ADJ gummy ADJ [have, ,, chewy, not, .]\n",
      "rule 10 ele : gummy\n",
      "gummy ROOT ADJ gummy ADJ [have, ,, chewy, not, .]\n",
      "rule 11 ele : gummy\n",
      "rule touched for Bagels with value 0.0\n",
      "have ccomp VERB gummy ADJ [Bagels, taste]\n",
      ", punct PUNCT gummy ADJ []\n",
      "chewy nsubj NOUN gummy ADJ [both, yet]\n",
      "not neg PART gummy ADJ []\n",
      ". punct PUNCT gummy ADJ []\n",
      "passed 5\n",
      "the det DET food NOUN []\n",
      "itself appos PRON food NOUN []\n",
      "Nevertheless advmod ADV is AUX []\n",
      "food nsubj NOUN is AUX [the, itself]\n",
      "the det DET food NOUN []\n",
      "itself appos PRON food NOUN []\n",
      "good acomp ADJ is AUX [pretty]\n",
      "rule2 touched for food\n",
      "rule touched for food with value 0.7\n",
      "pretty advmod ADV good ADJ []\n",
      ". punct PUNCT is AUX []\n",
      "Nevertheless advmod ADV is AUX []\n",
      "food nsubj NOUN is AUX [the, itself]\n",
      "the det DET food NOUN []\n",
      "itself appos PRON food NOUN []\n",
      "good acomp ADJ is AUX [pretty]\n",
      "pretty advmod ADV good ADJ []\n",
      ". punct PUNCT is AUX []\n",
      "rule 7 ele : is\n",
      "Nevertheless advmod ADV is AUX []\n",
      "food nsubj NOUN is AUX [the, itself]\n",
      "the det DET food NOUN []\n",
      "itself appos PRON food NOUN []\n",
      "good acomp ADJ is AUX [pretty]\n",
      "pretty advmod ADV good ADJ []\n",
      ". punct PUNCT is AUX []\n",
      "rule 8 ele : is\n",
      "Nevertheless advmod ADV is AUX []\n",
      "food nsubj NOUN is AUX [the, itself]\n",
      "good acomp ADJ is AUX [pretty]\n",
      ". punct PUNCT is AUX []\n",
      "rule 9 ele : is\n",
      "Nevertheless advmod ADV is AUX []\n",
      "food nsubj NOUN is AUX [the, itself]\n",
      "good acomp ADJ is AUX [pretty]\n",
      "rule9 touched for food\n",
      "rule touched for food with value 0.7\n",
      "pretty advmod ADV good ADJ []\n",
      ". punct PUNCT is AUX []\n",
      "is ROOT AUX is AUX [Nevertheless, food, good, .]\n",
      "rule 10 ele : is\n",
      "is ROOT AUX is AUX [Nevertheless, food, good, .]\n",
      "rule 11 ele : is\n",
      "rule touched for food with value 0.0\n",
      "Nevertheless advmod ADV is AUX []\n",
      "rule11 touched for food\n",
      "rule touched for food with value 0.0\n",
      "food nsubj NOUN is AUX [the, itself]\n",
      "good acomp ADJ is AUX [pretty]\n",
      ". punct PUNCT is AUX []\n",
      "passed 6\n",
      "our poss PRON check NOUN []\n",
      ", punct PUNCT check NOUN []\n",
      "was relcl AUX check NOUN [which, perfect, sit]\n",
      "to aux PART get VERB []\n",
      "check dobj NOUN get VERB [our, ,, was]\n",
      "our poss PRON check NOUN []\n",
      ", punct PUNCT check NOUN []\n",
      "was relcl AUX check NOUN [which, perfect, sit]\n",
      ", punct PUNCT get VERB []\n",
      "have conj VERB get VERB [drinks]\n",
      "drinks dobj NOUN have VERB [and, talk]\n",
      "to aux PART get VERB []\n",
      "check dobj NOUN get VERB [our, ,, was]\n",
      "our poss PRON check NOUN []\n",
      ", punct PUNCT check NOUN []\n",
      "was relcl AUX check NOUN [which, perfect, sit]\n",
      ", punct PUNCT get VERB []\n",
      "have conj VERB get VERB [drinks]\n",
      "drinks dobj NOUN have VERB [and, talk]\n",
      "rule 7 ele : took\n",
      "It nsubj PRON took VERB []\n",
      "hour dobj NOUN took VERB [half, an]\n",
      "rule7 touched for check\n",
      "rule touched for check with value 0.0\n",
      "half predet DET hour NOUN []\n",
      "an det DET hour NOUN []\n",
      "get xcomp VERB took VERB [to, check, ,, have]\n",
      "to aux PART get VERB []\n",
      "check dobj NOUN get VERB [our, ,, was]\n",
      "rule7 touched for check\n",
      "rule touched for check with value 0.0\n",
      "our poss PRON check NOUN []\n",
      ", punct PUNCT check NOUN []\n",
      "was relcl AUX check NOUN [which, perfect, sit]\n",
      ", punct PUNCT get VERB []\n",
      "have conj VERB get VERB [drinks]\n",
      "drinks dobj NOUN have VERB [and, talk]\n",
      "rule7 touched for check\n",
      "rule touched for check with value 0.0\n",
      "! punct PUNCT took VERB []\n",
      "rule 8 ele : took\n",
      "It nsubj PRON took VERB []\n",
      "hour dobj NOUN took VERB [half, an]\n",
      "get xcomp VERB took VERB [to, check, ,, have]\n",
      "! punct PUNCT took VERB []\n",
      "rule 9 ele : took\n",
      "It nsubj PRON took VERB []\n",
      "hour dobj NOUN took VERB [half, an]\n",
      "get xcomp VERB took VERB [to, check, ,, have]\n",
      "! punct PUNCT took VERB []\n",
      "took ROOT VERB took VERB [It, hour, get, !]\n",
      "rule 10 ele : took\n",
      "took ROOT VERB took VERB [It, hour, get, !]\n",
      "rule 11 ele : took\n",
      "rule touched for check with value 0.0\n",
      "It nsubj PRON took VERB []\n",
      "hour dobj NOUN took VERB [half, an]\n",
      "get xcomp VERB took VERB [to, check, ,, have]\n",
      "! punct PUNCT took VERB []\n",
      "and cc CCONJ drinks NOUN []\n",
      "talk conj VERB drinks NOUN []\n",
      "drinks dobj NOUN have VERB [and, talk]\n",
      "and cc CCONJ drinks NOUN []\n",
      "talk conj VERB drinks NOUN []\n",
      "drinks dobj NOUN have VERB [and, talk]\n",
      "and cc CCONJ drinks NOUN []\n",
      "talk conj VERB drinks NOUN []\n",
      "rule 7 ele : get\n",
      "to aux PART get VERB []\n",
      "check dobj NOUN get VERB [our, ,, was]\n",
      "rule7 touched for drinks\n",
      "rule touched for drinks with value 0.0\n",
      "our poss PRON check NOUN []\n",
      ", punct PUNCT check NOUN []\n",
      "was relcl AUX check NOUN [which, perfect, sit]\n",
      "which nsubj PRON was AUX []\n",
      "perfect acomp ADJ was AUX []\n",
      "sit advcl VERB was AUX [since, we, could]\n",
      ", punct PUNCT get VERB []\n",
      "have conj VERB get VERB [drinks]\n",
      "drinks dobj NOUN have VERB [and, talk]\n",
      "rule7 touched for drinks\n",
      "rule touched for drinks with value 0.0\n",
      "and cc CCONJ drinks NOUN []\n",
      "talk conj VERB drinks NOUN []\n",
      "rule 8 ele : took\n",
      "It nsubj PRON took VERB []\n",
      "hour dobj NOUN took VERB [half, an]\n",
      "get xcomp VERB took VERB [to, check, ,, have]\n",
      "! punct PUNCT took VERB []\n",
      "rule 9 ele : get\n",
      "to aux PART get VERB []\n",
      "check dobj NOUN get VERB [our, ,, was]\n",
      ", punct PUNCT get VERB []\n",
      "have conj VERB get VERB [drinks]\n",
      "get xcomp VERB took VERB [to, check, ,, have]\n",
      "rule 10 ele : get\n",
      "get xcomp VERB took VERB [to, check, ,, have]\n",
      "rule 11 ele : get\n",
      "rule touched for drinks with value 0.0\n",
      "to aux PART get VERB []\n",
      "check dobj NOUN get VERB [our, ,, was]\n",
      ", punct PUNCT get VERB []\n",
      "have conj VERB get VERB [drinks]\n",
      "passed 8\n",
      "The det DET design NOUN []\n",
      "and cc CCONJ design NOUN []\n",
      "atmosphere conj NOUN design NOUN []\n",
      "design nsubj NOUN is AUX [The, and, atmosphere]\n",
      "The det DET design NOUN []\n",
      "and cc CCONJ design NOUN []\n",
      "atmosphere conj NOUN design NOUN []\n",
      "good acomp ADJ is AUX [just, as]\n",
      "rule2 touched for design\n",
      "rule touched for design with value 0.7\n",
      "just advmod ADV good ADJ []\n",
      "as advmod ADV good ADJ []\n",
      ". punct PUNCT is AUX []\n",
      "design nsubj NOUN is AUX [The, and, atmosphere]\n",
      "The det DET design NOUN []\n",
      "and cc CCONJ design NOUN []\n",
      "atmosphere conj NOUN design NOUN []\n",
      "good acomp ADJ is AUX [just, as]\n",
      "just advmod ADV good ADJ []\n",
      "as advmod ADV good ADJ []\n",
      ". punct PUNCT is AUX []\n",
      "rule 7 ele : is\n",
      "design nsubj NOUN is AUX [The, and, atmosphere]\n",
      "The det DET design NOUN []\n",
      "and cc CCONJ design NOUN []\n",
      "atmosphere conj NOUN design NOUN []\n",
      "good acomp ADJ is AUX [just, as]\n",
      "just advmod ADV good ADJ []\n",
      "as advmod ADV good ADJ []\n",
      ". punct PUNCT is AUX []\n",
      "rule 8 ele : is\n",
      "design nsubj NOUN is AUX [The, and, atmosphere]\n",
      "good acomp ADJ is AUX [just, as]\n",
      ". punct PUNCT is AUX []\n",
      "rule 9 ele : is\n",
      "design nsubj NOUN is AUX [The, and, atmosphere]\n",
      "good acomp ADJ is AUX [just, as]\n",
      "rule9 touched for design\n",
      "rule touched for design with value 0.7\n",
      "just advmod ADV good ADJ []\n",
      "as advmod ADV good ADJ []\n",
      ". punct PUNCT is AUX []\n",
      "is ROOT AUX is AUX [design, good, .]\n",
      "rule 10 ele : is\n",
      "is ROOT AUX is AUX [design, good, .]\n",
      "rule 11 ele : is\n",
      "rule touched for design with value 0.0\n",
      "design nsubj NOUN is AUX [The, and, atmosphere]\n",
      "good acomp ADJ is AUX [just, as]\n",
      ". punct PUNCT is AUX []\n",
      "The det DET design NOUN []\n",
      "and cc CCONJ design NOUN []\n",
      "atmosphere conj NOUN design NOUN []\n",
      "The det DET design NOUN []\n",
      "and cc CCONJ design NOUN []\n",
      "atmosphere conj NOUN design NOUN []\n",
      "rule 7 ele : is\n",
      "design nsubj NOUN is AUX [The, and, atmosphere]\n",
      "The det DET design NOUN []\n",
      "and cc CCONJ design NOUN []\n",
      "atmosphere conj NOUN design NOUN []\n",
      "good acomp ADJ is AUX [just, as]\n",
      "just advmod ADV good ADJ []\n",
      "as advmod ADV good ADJ []\n",
      ". punct PUNCT is AUX []\n",
      "rule 8 ele : is\n",
      "design nsubj NOUN is AUX [The, and, atmosphere]\n",
      "good acomp ADJ is AUX [just, as]\n",
      ". punct PUNCT is AUX []\n",
      "rule 9 ele : is\n",
      "design nsubj NOUN is AUX [The, and, atmosphere]\n",
      "good acomp ADJ is AUX [just, as]\n",
      "rule9 touched for atmosphere\n",
      "rule touched for atmosphere with value 0.7\n",
      "just advmod ADV good ADJ []\n",
      "as advmod ADV good ADJ []\n",
      ". punct PUNCT is AUX []\n",
      "is ROOT AUX is AUX [design, good, .]\n",
      "rule 10 ele : is\n",
      "is ROOT AUX is AUX [design, good, .]\n",
      "rule 11 ele : is\n",
      "rule touched for atmosphere with value 0.0\n",
      "design nsubj NOUN is AUX [The, and, atmosphere]\n",
      "good acomp ADJ is AUX [just, as]\n",
      ". punct PUNCT is AUX []\n",
      "passed 9\n",
      "the det DET decoration NOUN []\n",
      "interior amod ADJ decoration NOUN []\n",
      "the det DET decoration NOUN []\n",
      "interior amod ADJ decoration NOUN []\n",
      "rule3 touched for interior\n",
      "rule touched for interior with value 0.0\n",
      "rule 7 ele : into\n",
      "decoration pobj NOUN into ADP [the, interior]\n",
      "the det DET decoration NOUN []\n",
      "interior amod ADJ decoration NOUN []\n",
      "rule7 touched for interior\n",
      "rule touched for interior with value 0.0\n",
      "rule 8 ele : went\n",
      "money nsubj NOUN went VERB [All, the]\n",
      "into prep ADP went VERB [decoration]\n",
      "rule 9 ele : into\n",
      "decoration pobj NOUN into ADP [the, interior]\n",
      "into prep ADP went VERB [decoration]\n",
      "rule 10 ele : into\n",
      "into prep ADP went VERB [decoration]\n",
      "rule 11 ele : into\n",
      "rule touched for interior with value 0.0\n",
      "decoration pobj NOUN into ADP [the, interior]\n",
      "the det DET decoration NOUN []\n",
      "interior amod ADJ decoration NOUN []\n",
      "rule1 touched for decoration\n",
      "rule touched for decoration with value 0.0\n",
      "decoration pobj NOUN into ADP [the, interior]\n",
      "the det DET decoration NOUN []\n",
      "interior amod ADJ decoration NOUN []\n",
      "decoration pobj NOUN into ADP [the, interior]\n",
      "the det DET decoration NOUN []\n",
      "interior amod ADJ decoration NOUN []\n",
      "rule3 touched for decoration\n",
      "rule touched for decoration with value 0.0\n",
      "rule 7 ele : went\n",
      "money nsubj NOUN went VERB [All, the]\n",
      "All predet DET money NOUN []\n",
      "the det DET money NOUN []\n",
      "into prep ADP went VERB [decoration]\n",
      "decoration pobj NOUN into ADP [the, interior]\n",
      "the det DET decoration NOUN []\n",
      "interior amod ADJ decoration NOUN []\n",
      "rule7 touched for decoration\n",
      "rule touched for decoration with value 0.0\n",
      "rule 8 ele : went\n",
      "went ccomp VERB went VERB [money, into]\n",
      ", punct PUNCT went VERB []\n",
      "none nsubj NOUN went VERB [of]\n",
      "to prep ADP went VERB [chefs]\n",
      ". punct PUNCT went VERB []\n",
      "rule 9 ele : went\n",
      "money nsubj NOUN went VERB [All, the]\n",
      "into prep ADP went VERB [decoration]\n",
      "went ccomp VERB went VERB [money, into]\n",
      "rule 10 ele : went\n",
      "went ccomp VERB went VERB [money, into]\n",
      "rule 11 ele : went\n",
      "rule touched for decoration with value 0.0\n",
      "money nsubj NOUN went VERB [All, the]\n",
      "into prep ADP went VERB [decoration]\n",
      "the det DET chefs NOUN []\n",
      "chefs pobj NOUN to ADP [the]\n",
      "the det DET chefs NOUN []\n",
      "chefs pobj NOUN to ADP [the]\n",
      "the det DET chefs NOUN []\n",
      "rule 7 ele : went\n",
      "went ccomp VERB went VERB [money, into]\n",
      "money nsubj NOUN went VERB [All, the]\n",
      "All predet DET money NOUN []\n",
      "the det DET money NOUN []\n",
      "into prep ADP went VERB [decoration]\n",
      "decoration pobj NOUN into ADP [the, interior]\n",
      ", punct PUNCT went VERB []\n",
      "none nsubj NOUN went VERB [of]\n",
      "of prep ADP none NOUN [it]\n",
      "it pobj PRON of ADP []\n",
      "to prep ADP went VERB [chefs]\n",
      "chefs pobj NOUN to ADP [the]\n",
      "the det DET chefs NOUN []\n",
      ". punct PUNCT went VERB []\n",
      "rule 8 ele : went\n",
      "went ccomp VERB went VERB [money, into]\n",
      ", punct PUNCT went VERB []\n",
      "none nsubj NOUN went VERB [of]\n",
      "to prep ADP went VERB [chefs]\n",
      ". punct PUNCT went VERB []\n",
      "rule 9 ele : went\n",
      "went ccomp VERB went VERB [money, into]\n",
      ", punct PUNCT went VERB []\n",
      "none nsubj NOUN went VERB [of]\n",
      "to prep ADP went VERB [chefs]\n",
      ". punct PUNCT went VERB []\n",
      "went ROOT VERB went VERB [went, ,, none, to, .]\n",
      "rule 10 ele : went\n",
      "went ROOT VERB went VERB [went, ,, none, to, .]\n",
      "rule 11 ele : went\n",
      "rule touched for chefs with value 0.0\n",
      "went ccomp VERB went VERB [money, into]\n",
      ", punct PUNCT went VERB []\n",
      "none nsubj NOUN went VERB [of]\n",
      "to prep ADP went VERB [chefs]\n",
      ". punct PUNCT went VERB []\n",
      "{'interior': 0.0, 'decoration': 0.0, 'chefs': 0.0} [{'term': 'interior decoration', 'polarity': 'positive', 'from': '28', 'to': '47'}, {'term': 'chefs', 'polarity': 'negative', 'from': '72', 'to': '77'}]\n",
      "error at index 12, with {'interior': 0.0, 'decoration': 0.0, 'chefs': 0.0}, data : {'id': '3534', 'text': 'All the money went into the interior decoration, none of it went to the chefs.', 'aspect_terms': [{'term': 'interior decoration', 'polarity': 'positive', 'from': '28', 'to': '47'}, {'term': 'chefs', 'polarity': 'negative', 'from': '72', 'to': '77'}], 'aspect_categories': [{'category': 'ambience', 'polarity': 'positive'}, {'category': 'food', 'polarity': 'negative'}], 'words': ['But', 'the', 'staff', 'was', 'so', 'horrible', 'to', 'us.'], 'mask': [False, False, True, False, False, False, False, False]}\n",
      "--------------------\n",
      "give you the sentence like this : 'All the money went into the interior decoration, none of it went to the chefs.', and we need to Building an aspect-based sentiment analysis algorithm based on syntactic parsing for terms : [['interior decoration', 'chefs']], you need to do syntactic parsing by your self first, then give me the rule by spacy \n"
     ]
    }
   ],
   "source": [
    "\n",
    "skip = [4, 7, 10, 11]\n",
    "\n",
    "def check_until_failure(inner_data):\n",
    "    for i,d in enumerate(inner_data):\n",
    "        if i in skip:\n",
    "            continue\n",
    "        analyzer = AspectSentimentAnalyzer(d.text, d['aspect_terms'], debug=True)\n",
    "        out = analyzer.analyze()\n",
    "        # assert analyzer.check_correctness(out), f\"error at index {i}, with {out}, data : {d}\"\n",
    "        if not analyzer.check_correctness(out):\n",
    "            print(f\"error at index {i}, with {out}, data : {d}\")\n",
    "            print(\"-\"*20)\n",
    "\n",
    "            print(f\"give you the sentence like this : '{d.text}', and we need to Building an aspect-based sentiment analysis algorithm based on syntactic parsing for terms : [{[t['term'] for t in d.aspect_terms]}], you need to do syntactic parsing by your self first, then give me the rule by spacy \")\n",
    "            break\n",
    "        print(f\"passed {i}\")\n",
    "\n",
    "check_until_failure(data)"
   ],
   "metadata": {
    "collapsed": false,
    "ExecuteTime": {
     "end_time": "2023-06-23T09:17:18.122368Z",
     "start_time": "2023-06-23T09:17:16.428678Z"
    }
   }
  },
  {
   "cell_type": "markdown",
   "source": [
    "## 2.3 Case 2"
   ],
   "metadata": {
    "collapsed": false
   }
  },
  {
   "cell_type": "code",
   "execution_count": 50,
   "outputs": [
    {
     "data": {
      "text/plain": "True"
     },
     "execution_count": 50,
     "metadata": {},
     "output_type": "execute_result"
    }
   ],
   "source": [
    "'outstanding' in analyzer.poswords"
   ],
   "metadata": {
    "collapsed": false,
    "ExecuteTime": {
     "end_time": "2023-06-22T11:43:37.207212Z",
     "start_time": "2023-06-22T11:43:37.162876Z"
    }
   }
  },
  {
   "cell_type": "code",
   "execution_count": 52,
   "outputs": [
    {
     "data": {
      "text/plain": "<IPython.core.display.HTML object>",
      "text/html": "<span class=\"tex2jax_ignore\"><svg xmlns=\"http://www.w3.org/2000/svg\" xmlns:xlink=\"http://www.w3.org/1999/xlink\" xml:lang=\"en\" id=\"4eae288278f9446cadef7d2743f7b31e-0\" class=\"displacy\" width=\"2675\" height=\"487.0\" direction=\"ltr\" style=\"max-width: none; height: 487.0px; color: #000000; background: #ffffff; font-family: Arial; direction: ltr\">\n<text class=\"displacy-token\" fill=\"currentColor\" text-anchor=\"middle\" y=\"397.0\">\n    <tspan class=\"displacy-word\" fill=\"currentColor\" x=\"50\">The</tspan>\n    <tspan class=\"displacy-tag\" dy=\"2em\" fill=\"currentColor\" x=\"50\">DET</tspan>\n</text>\n\n<text class=\"displacy-token\" fill=\"currentColor\" text-anchor=\"middle\" y=\"397.0\">\n    <tspan class=\"displacy-word\" fill=\"currentColor\" x=\"225\">Bagels</tspan>\n    <tspan class=\"displacy-tag\" dy=\"2em\" fill=\"currentColor\" x=\"225\">PROPN</tspan>\n</text>\n\n<text class=\"displacy-token\" fill=\"currentColor\" text-anchor=\"middle\" y=\"397.0\">\n    <tspan class=\"displacy-word\" fill=\"currentColor\" x=\"400\">have</tspan>\n    <tspan class=\"displacy-tag\" dy=\"2em\" fill=\"currentColor\" x=\"400\">VERB</tspan>\n</text>\n\n<text class=\"displacy-token\" fill=\"currentColor\" text-anchor=\"middle\" y=\"397.0\">\n    <tspan class=\"displacy-word\" fill=\"currentColor\" x=\"575\">an</tspan>\n    <tspan class=\"displacy-tag\" dy=\"2em\" fill=\"currentColor\" x=\"575\">DET</tspan>\n</text>\n\n<text class=\"displacy-token\" fill=\"currentColor\" text-anchor=\"middle\" y=\"397.0\">\n    <tspan class=\"displacy-word\" fill=\"currentColor\" x=\"750\">outstanding</tspan>\n    <tspan class=\"displacy-tag\" dy=\"2em\" fill=\"currentColor\" x=\"750\">ADJ</tspan>\n</text>\n\n<text class=\"displacy-token\" fill=\"currentColor\" text-anchor=\"middle\" y=\"397.0\">\n    <tspan class=\"displacy-word\" fill=\"currentColor\" x=\"925\">taste</tspan>\n    <tspan class=\"displacy-tag\" dy=\"2em\" fill=\"currentColor\" x=\"925\">NOUN</tspan>\n</text>\n\n<text class=\"displacy-token\" fill=\"currentColor\" text-anchor=\"middle\" y=\"397.0\">\n    <tspan class=\"displacy-word\" fill=\"currentColor\" x=\"1100\">with</tspan>\n    <tspan class=\"displacy-tag\" dy=\"2em\" fill=\"currentColor\" x=\"1100\">ADP</tspan>\n</text>\n\n<text class=\"displacy-token\" fill=\"currentColor\" text-anchor=\"middle\" y=\"397.0\">\n    <tspan class=\"displacy-word\" fill=\"currentColor\" x=\"1275\">a</tspan>\n    <tspan class=\"displacy-tag\" dy=\"2em\" fill=\"currentColor\" x=\"1275\">DET</tspan>\n</text>\n\n<text class=\"displacy-token\" fill=\"currentColor\" text-anchor=\"middle\" y=\"397.0\">\n    <tspan class=\"displacy-word\" fill=\"currentColor\" x=\"1450\">terrific</tspan>\n    <tspan class=\"displacy-tag\" dy=\"2em\" fill=\"currentColor\" x=\"1450\">ADJ</tspan>\n</text>\n\n<text class=\"displacy-token\" fill=\"currentColor\" text-anchor=\"middle\" y=\"397.0\">\n    <tspan class=\"displacy-word\" fill=\"currentColor\" x=\"1625\">texture,</tspan>\n    <tspan class=\"displacy-tag\" dy=\"2em\" fill=\"currentColor\" x=\"1625\">NOUN</tspan>\n</text>\n\n<text class=\"displacy-token\" fill=\"currentColor\" text-anchor=\"middle\" y=\"397.0\">\n    <tspan class=\"displacy-word\" fill=\"currentColor\" x=\"1800\">both</tspan>\n    <tspan class=\"displacy-tag\" dy=\"2em\" fill=\"currentColor\" x=\"1800\">DET</tspan>\n</text>\n\n<text class=\"displacy-token\" fill=\"currentColor\" text-anchor=\"middle\" y=\"397.0\">\n    <tspan class=\"displacy-word\" fill=\"currentColor\" x=\"1975\">chewy</tspan>\n    <tspan class=\"displacy-tag\" dy=\"2em\" fill=\"currentColor\" x=\"1975\">NOUN</tspan>\n</text>\n\n<text class=\"displacy-token\" fill=\"currentColor\" text-anchor=\"middle\" y=\"397.0\">\n    <tspan class=\"displacy-word\" fill=\"currentColor\" x=\"2150\">yet</tspan>\n    <tspan class=\"displacy-tag\" dy=\"2em\" fill=\"currentColor\" x=\"2150\">ADV</tspan>\n</text>\n\n<text class=\"displacy-token\" fill=\"currentColor\" text-anchor=\"middle\" y=\"397.0\">\n    <tspan class=\"displacy-word\" fill=\"currentColor\" x=\"2325\">not</tspan>\n    <tspan class=\"displacy-tag\" dy=\"2em\" fill=\"currentColor\" x=\"2325\">PART</tspan>\n</text>\n\n<text class=\"displacy-token\" fill=\"currentColor\" text-anchor=\"middle\" y=\"397.0\">\n    <tspan class=\"displacy-word\" fill=\"currentColor\" x=\"2500\">gummy.</tspan>\n    <tspan class=\"displacy-tag\" dy=\"2em\" fill=\"currentColor\" x=\"2500\">ADJ</tspan>\n</text>\n\n<g class=\"displacy-arrow\">\n    <path class=\"displacy-arc\" id=\"arrow-4eae288278f9446cadef7d2743f7b31e-0-0\" stroke-width=\"2px\" d=\"M70,352.0 C70,264.5 210.0,264.5 210.0,352.0\" fill=\"none\" stroke=\"currentColor\"/>\n    <text dy=\"1.25em\" style=\"font-size: 0.8em; letter-spacing: 1px\">\n        <textPath xlink:href=\"#arrow-4eae288278f9446cadef7d2743f7b31e-0-0\" class=\"displacy-label\" startOffset=\"50%\" side=\"left\" fill=\"currentColor\" text-anchor=\"middle\">det</textPath>\n    </text>\n    <path class=\"displacy-arrowhead\" d=\"M70,354.0 L62,342.0 78,342.0\" fill=\"currentColor\"/>\n</g>\n\n<g class=\"displacy-arrow\">\n    <path class=\"displacy-arc\" id=\"arrow-4eae288278f9446cadef7d2743f7b31e-0-1\" stroke-width=\"2px\" d=\"M245,352.0 C245,264.5 385.0,264.5 385.0,352.0\" fill=\"none\" stroke=\"currentColor\"/>\n    <text dy=\"1.25em\" style=\"font-size: 0.8em; letter-spacing: 1px\">\n        <textPath xlink:href=\"#arrow-4eae288278f9446cadef7d2743f7b31e-0-1\" class=\"displacy-label\" startOffset=\"50%\" side=\"left\" fill=\"currentColor\" text-anchor=\"middle\">nsubj</textPath>\n    </text>\n    <path class=\"displacy-arrowhead\" d=\"M245,354.0 L237,342.0 253,342.0\" fill=\"currentColor\"/>\n</g>\n\n<g class=\"displacy-arrow\">\n    <path class=\"displacy-arc\" id=\"arrow-4eae288278f9446cadef7d2743f7b31e-0-2\" stroke-width=\"2px\" d=\"M420,352.0 C420,2.0 2500.0,2.0 2500.0,352.0\" fill=\"none\" stroke=\"currentColor\"/>\n    <text dy=\"1.25em\" style=\"font-size: 0.8em; letter-spacing: 1px\">\n        <textPath xlink:href=\"#arrow-4eae288278f9446cadef7d2743f7b31e-0-2\" class=\"displacy-label\" startOffset=\"50%\" side=\"left\" fill=\"currentColor\" text-anchor=\"middle\">ccomp</textPath>\n    </text>\n    <path class=\"displacy-arrowhead\" d=\"M420,354.0 L412,342.0 428,342.0\" fill=\"currentColor\"/>\n</g>\n\n<g class=\"displacy-arrow\">\n    <path class=\"displacy-arc\" id=\"arrow-4eae288278f9446cadef7d2743f7b31e-0-3\" stroke-width=\"2px\" d=\"M595,352.0 C595,177.0 915.0,177.0 915.0,352.0\" fill=\"none\" stroke=\"currentColor\"/>\n    <text dy=\"1.25em\" style=\"font-size: 0.8em; letter-spacing: 1px\">\n        <textPath xlink:href=\"#arrow-4eae288278f9446cadef7d2743f7b31e-0-3\" class=\"displacy-label\" startOffset=\"50%\" side=\"left\" fill=\"currentColor\" text-anchor=\"middle\">det</textPath>\n    </text>\n    <path class=\"displacy-arrowhead\" d=\"M595,354.0 L587,342.0 603,342.0\" fill=\"currentColor\"/>\n</g>\n\n<g class=\"displacy-arrow\">\n    <path class=\"displacy-arc\" id=\"arrow-4eae288278f9446cadef7d2743f7b31e-0-4\" stroke-width=\"2px\" d=\"M770,352.0 C770,264.5 910.0,264.5 910.0,352.0\" fill=\"none\" stroke=\"currentColor\"/>\n    <text dy=\"1.25em\" style=\"font-size: 0.8em; letter-spacing: 1px\">\n        <textPath xlink:href=\"#arrow-4eae288278f9446cadef7d2743f7b31e-0-4\" class=\"displacy-label\" startOffset=\"50%\" side=\"left\" fill=\"currentColor\" text-anchor=\"middle\">amod</textPath>\n    </text>\n    <path class=\"displacy-arrowhead\" d=\"M770,354.0 L762,342.0 778,342.0\" fill=\"currentColor\"/>\n</g>\n\n<g class=\"displacy-arrow\">\n    <path class=\"displacy-arc\" id=\"arrow-4eae288278f9446cadef7d2743f7b31e-0-5\" stroke-width=\"2px\" d=\"M420,352.0 C420,89.5 920.0,89.5 920.0,352.0\" fill=\"none\" stroke=\"currentColor\"/>\n    <text dy=\"1.25em\" style=\"font-size: 0.8em; letter-spacing: 1px\">\n        <textPath xlink:href=\"#arrow-4eae288278f9446cadef7d2743f7b31e-0-5\" class=\"displacy-label\" startOffset=\"50%\" side=\"left\" fill=\"currentColor\" text-anchor=\"middle\">dobj</textPath>\n    </text>\n    <path class=\"displacy-arrowhead\" d=\"M920.0,354.0 L928.0,342.0 912.0,342.0\" fill=\"currentColor\"/>\n</g>\n\n<g class=\"displacy-arrow\">\n    <path class=\"displacy-arc\" id=\"arrow-4eae288278f9446cadef7d2743f7b31e-0-6\" stroke-width=\"2px\" d=\"M945,352.0 C945,264.5 1085.0,264.5 1085.0,352.0\" fill=\"none\" stroke=\"currentColor\"/>\n    <text dy=\"1.25em\" style=\"font-size: 0.8em; letter-spacing: 1px\">\n        <textPath xlink:href=\"#arrow-4eae288278f9446cadef7d2743f7b31e-0-6\" class=\"displacy-label\" startOffset=\"50%\" side=\"left\" fill=\"currentColor\" text-anchor=\"middle\">prep</textPath>\n    </text>\n    <path class=\"displacy-arrowhead\" d=\"M1085.0,354.0 L1093.0,342.0 1077.0,342.0\" fill=\"currentColor\"/>\n</g>\n\n<g class=\"displacy-arrow\">\n    <path class=\"displacy-arc\" id=\"arrow-4eae288278f9446cadef7d2743f7b31e-0-7\" stroke-width=\"2px\" d=\"M1295,352.0 C1295,177.0 1615.0,177.0 1615.0,352.0\" fill=\"none\" stroke=\"currentColor\"/>\n    <text dy=\"1.25em\" style=\"font-size: 0.8em; letter-spacing: 1px\">\n        <textPath xlink:href=\"#arrow-4eae288278f9446cadef7d2743f7b31e-0-7\" class=\"displacy-label\" startOffset=\"50%\" side=\"left\" fill=\"currentColor\" text-anchor=\"middle\">det</textPath>\n    </text>\n    <path class=\"displacy-arrowhead\" d=\"M1295,354.0 L1287,342.0 1303,342.0\" fill=\"currentColor\"/>\n</g>\n\n<g class=\"displacy-arrow\">\n    <path class=\"displacy-arc\" id=\"arrow-4eae288278f9446cadef7d2743f7b31e-0-8\" stroke-width=\"2px\" d=\"M1470,352.0 C1470,264.5 1610.0,264.5 1610.0,352.0\" fill=\"none\" stroke=\"currentColor\"/>\n    <text dy=\"1.25em\" style=\"font-size: 0.8em; letter-spacing: 1px\">\n        <textPath xlink:href=\"#arrow-4eae288278f9446cadef7d2743f7b31e-0-8\" class=\"displacy-label\" startOffset=\"50%\" side=\"left\" fill=\"currentColor\" text-anchor=\"middle\">amod</textPath>\n    </text>\n    <path class=\"displacy-arrowhead\" d=\"M1470,354.0 L1462,342.0 1478,342.0\" fill=\"currentColor\"/>\n</g>\n\n<g class=\"displacy-arrow\">\n    <path class=\"displacy-arc\" id=\"arrow-4eae288278f9446cadef7d2743f7b31e-0-9\" stroke-width=\"2px\" d=\"M1120,352.0 C1120,89.5 1620.0,89.5 1620.0,352.0\" fill=\"none\" stroke=\"currentColor\"/>\n    <text dy=\"1.25em\" style=\"font-size: 0.8em; letter-spacing: 1px\">\n        <textPath xlink:href=\"#arrow-4eae288278f9446cadef7d2743f7b31e-0-9\" class=\"displacy-label\" startOffset=\"50%\" side=\"left\" fill=\"currentColor\" text-anchor=\"middle\">pobj</textPath>\n    </text>\n    <path class=\"displacy-arrowhead\" d=\"M1620.0,354.0 L1628.0,342.0 1612.0,342.0\" fill=\"currentColor\"/>\n</g>\n\n<g class=\"displacy-arrow\">\n    <path class=\"displacy-arc\" id=\"arrow-4eae288278f9446cadef7d2743f7b31e-0-10\" stroke-width=\"2px\" d=\"M1820,352.0 C1820,264.5 1960.0,264.5 1960.0,352.0\" fill=\"none\" stroke=\"currentColor\"/>\n    <text dy=\"1.25em\" style=\"font-size: 0.8em; letter-spacing: 1px\">\n        <textPath xlink:href=\"#arrow-4eae288278f9446cadef7d2743f7b31e-0-10\" class=\"displacy-label\" startOffset=\"50%\" side=\"left\" fill=\"currentColor\" text-anchor=\"middle\">det</textPath>\n    </text>\n    <path class=\"displacy-arrowhead\" d=\"M1820,354.0 L1812,342.0 1828,342.0\" fill=\"currentColor\"/>\n</g>\n\n<g class=\"displacy-arrow\">\n    <path class=\"displacy-arc\" id=\"arrow-4eae288278f9446cadef7d2743f7b31e-0-11\" stroke-width=\"2px\" d=\"M1995,352.0 C1995,177.0 2490.0,177.0 2490.0,352.0\" fill=\"none\" stroke=\"currentColor\"/>\n    <text dy=\"1.25em\" style=\"font-size: 0.8em; letter-spacing: 1px\">\n        <textPath xlink:href=\"#arrow-4eae288278f9446cadef7d2743f7b31e-0-11\" class=\"displacy-label\" startOffset=\"50%\" side=\"left\" fill=\"currentColor\" text-anchor=\"middle\">nsubj</textPath>\n    </text>\n    <path class=\"displacy-arrowhead\" d=\"M1995,354.0 L1987,342.0 2003,342.0\" fill=\"currentColor\"/>\n</g>\n\n<g class=\"displacy-arrow\">\n    <path class=\"displacy-arc\" id=\"arrow-4eae288278f9446cadef7d2743f7b31e-0-12\" stroke-width=\"2px\" d=\"M1995,352.0 C1995,264.5 2135.0,264.5 2135.0,352.0\" fill=\"none\" stroke=\"currentColor\"/>\n    <text dy=\"1.25em\" style=\"font-size: 0.8em; letter-spacing: 1px\">\n        <textPath xlink:href=\"#arrow-4eae288278f9446cadef7d2743f7b31e-0-12\" class=\"displacy-label\" startOffset=\"50%\" side=\"left\" fill=\"currentColor\" text-anchor=\"middle\">advmod</textPath>\n    </text>\n    <path class=\"displacy-arrowhead\" d=\"M2135.0,354.0 L2143.0,342.0 2127.0,342.0\" fill=\"currentColor\"/>\n</g>\n\n<g class=\"displacy-arrow\">\n    <path class=\"displacy-arc\" id=\"arrow-4eae288278f9446cadef7d2743f7b31e-0-13\" stroke-width=\"2px\" d=\"M2345,352.0 C2345,264.5 2485.0,264.5 2485.0,352.0\" fill=\"none\" stroke=\"currentColor\"/>\n    <text dy=\"1.25em\" style=\"font-size: 0.8em; letter-spacing: 1px\">\n        <textPath xlink:href=\"#arrow-4eae288278f9446cadef7d2743f7b31e-0-13\" class=\"displacy-label\" startOffset=\"50%\" side=\"left\" fill=\"currentColor\" text-anchor=\"middle\">neg</textPath>\n    </text>\n    <path class=\"displacy-arrowhead\" d=\"M2345,354.0 L2337,342.0 2353,342.0\" fill=\"currentColor\"/>\n</g>\n</svg></span>"
     },
     "metadata": {},
     "output_type": "display_data"
    }
   ],
   "source": [
    "index = 2\n",
    "analyzer = AspectSentimentAnalyzer(data[index].text, data[index]['aspect_terms'], debug=True)\n",
    "analyzer.show_dependency_tree()"
   ],
   "metadata": {
    "collapsed": false,
    "ExecuteTime": {
     "end_time": "2023-06-22T11:44:09.850973Z",
     "start_time": "2023-06-22T11:44:09.611763Z"
    }
   }
  },
  {
   "cell_type": "code",
   "execution_count": 53,
   "outputs": [
    {
     "name": "stdout",
     "output_type": "stream",
     "text": [
      "The det Bagels PROPN []\n",
      "Bagels nsubj have VERB [The]\n",
      "The det Bagels PROPN []\n",
      "taste dobj have VERB [an, outstanding, with]\n",
      "an det taste NOUN []\n",
      "outstanding amod taste NOUN []\n",
      "with prep taste NOUN [texture]\n",
      "The det Bagels PROPN []\n",
      "The det Bagels PROPN []\n",
      "rule 7 ele : gummy\n",
      "have ccomp gummy ADJ [Bagels, taste]\n",
      "Bagels nsubj have VERB [The]\n",
      "The det Bagels PROPN []\n",
      "taste dobj have VERB [an, outstanding, with]\n",
      "rule7 touched for Bagels\n",
      "an det taste NOUN []\n",
      "outstanding amod taste NOUN []\n",
      "rule7 touched for Bagels\n",
      "with prep taste NOUN [texture]\n",
      ", punct gummy ADJ []\n",
      "chewy nsubj gummy ADJ [both, yet]\n",
      "both det chewy NOUN []\n",
      "yet advmod chewy NOUN []\n",
      "not neg gummy ADJ []\n",
      ". punct gummy ADJ []\n",
      "rule 8 ele : gummy\n",
      "have ccomp gummy ADJ [Bagels, taste]\n",
      ", punct gummy ADJ []\n",
      "chewy nsubj gummy ADJ [both, yet]\n",
      "not neg gummy ADJ []\n",
      "rule8 touched for Bagels\n",
      ". punct gummy ADJ []\n"
     ]
    },
    {
     "data": {
      "text/plain": "{'Bagels': -0.5}"
     },
     "execution_count": 53,
     "metadata": {},
     "output_type": "execute_result"
    }
   ],
   "source": [
    "analyzer.analyze()"
   ],
   "metadata": {
    "collapsed": false,
    "ExecuteTime": {
     "end_time": "2023-06-22T11:44:20.357274Z",
     "start_time": "2023-06-22T11:44:20.311780Z"
    }
   }
  },
  {
   "cell_type": "markdown",
   "source": [
    "## 2.4 Case 3"
   ],
   "metadata": {
    "collapsed": false
   }
  },
  {
   "cell_type": "code",
   "execution_count": 25,
   "outputs": [
    {
     "data": {
      "text/plain": "{'id': '296',\n 'text': 'They did not have mayonnaise, forgot our toast, left out ingredients (ie cheese in an omelet), below hot temperatures and the bacon was so over cooked it crumbled on the plate when you touched it.',\n 'aspect_terms': [{'term': 'toast',\n   'polarity': 'negative',\n   'from': '41',\n   'to': '46'},\n  {'term': 'mayonnaise', 'polarity': 'negative', 'from': '18', 'to': '28'},\n  {'term': 'bacon', 'polarity': 'negative', 'from': '126', 'to': '131'},\n  {'term': 'cheese', 'polarity': 'neutral', 'from': '73', 'to': '79'},\n  {'term': 'ingredients', 'polarity': 'negative', 'from': '57', 'to': '68'},\n  {'term': 'plate', 'polarity': 'neutral', 'from': '170', 'to': '175'},\n  {'term': 'omelet', 'polarity': 'neutral', 'from': '86', 'to': '92'}],\n 'aspect_categories': [{'category': 'food', 'polarity': 'negative'}],\n 'words': ['But', 'the', 'staff', 'was', 'so', 'horrible', 'to', 'us.'],\n 'mask': [False, False, True, False, False, False, False, False]}"
     },
     "execution_count": 25,
     "metadata": {},
     "output_type": "execute_result"
    }
   ],
   "source": [
    "index = 10\n",
    "data[index]"
   ],
   "metadata": {
    "collapsed": false,
    "ExecuteTime": {
     "end_time": "2023-06-22T11:20:50.821967Z",
     "start_time": "2023-06-22T11:20:50.806588Z"
    }
   }
  },
  {
   "cell_type": "code",
   "execution_count": 26,
   "outputs": [
    {
     "data": {
      "text/plain": "<IPython.core.display.HTML object>",
      "text/html": "<span class=\"tex2jax_ignore\"><svg xmlns=\"http://www.w3.org/2000/svg\" xmlns:xlink=\"http://www.w3.org/1999/xlink\" xml:lang=\"en\" id=\"b1cb7fa784564b98affb41c01b79c972-0\" class=\"displacy\" width=\"6175\" height=\"487.0\" direction=\"ltr\" style=\"max-width: none; height: 487.0px; color: #000000; background: #ffffff; font-family: Arial; direction: ltr\">\n<text class=\"displacy-token\" fill=\"currentColor\" text-anchor=\"middle\" y=\"397.0\">\n    <tspan class=\"displacy-word\" fill=\"currentColor\" x=\"50\">They</tspan>\n    <tspan class=\"displacy-tag\" dy=\"2em\" fill=\"currentColor\" x=\"50\">PRON</tspan>\n</text>\n\n<text class=\"displacy-token\" fill=\"currentColor\" text-anchor=\"middle\" y=\"397.0\">\n    <tspan class=\"displacy-word\" fill=\"currentColor\" x=\"225\">did</tspan>\n    <tspan class=\"displacy-tag\" dy=\"2em\" fill=\"currentColor\" x=\"225\">AUX</tspan>\n</text>\n\n<text class=\"displacy-token\" fill=\"currentColor\" text-anchor=\"middle\" y=\"397.0\">\n    <tspan class=\"displacy-word\" fill=\"currentColor\" x=\"400\">not</tspan>\n    <tspan class=\"displacy-tag\" dy=\"2em\" fill=\"currentColor\" x=\"400\">PART</tspan>\n</text>\n\n<text class=\"displacy-token\" fill=\"currentColor\" text-anchor=\"middle\" y=\"397.0\">\n    <tspan class=\"displacy-word\" fill=\"currentColor\" x=\"575\">have</tspan>\n    <tspan class=\"displacy-tag\" dy=\"2em\" fill=\"currentColor\" x=\"575\">VERB</tspan>\n</text>\n\n<text class=\"displacy-token\" fill=\"currentColor\" text-anchor=\"middle\" y=\"397.0\">\n    <tspan class=\"displacy-word\" fill=\"currentColor\" x=\"750\">mayonnaise,</tspan>\n    <tspan class=\"displacy-tag\" dy=\"2em\" fill=\"currentColor\" x=\"750\">NOUN</tspan>\n</text>\n\n<text class=\"displacy-token\" fill=\"currentColor\" text-anchor=\"middle\" y=\"397.0\">\n    <tspan class=\"displacy-word\" fill=\"currentColor\" x=\"925\">forgot</tspan>\n    <tspan class=\"displacy-tag\" dy=\"2em\" fill=\"currentColor\" x=\"925\">VERB</tspan>\n</text>\n\n<text class=\"displacy-token\" fill=\"currentColor\" text-anchor=\"middle\" y=\"397.0\">\n    <tspan class=\"displacy-word\" fill=\"currentColor\" x=\"1100\">our</tspan>\n    <tspan class=\"displacy-tag\" dy=\"2em\" fill=\"currentColor\" x=\"1100\">PRON</tspan>\n</text>\n\n<text class=\"displacy-token\" fill=\"currentColor\" text-anchor=\"middle\" y=\"397.0\">\n    <tspan class=\"displacy-word\" fill=\"currentColor\" x=\"1275\">toast,</tspan>\n    <tspan class=\"displacy-tag\" dy=\"2em\" fill=\"currentColor\" x=\"1275\">NOUN</tspan>\n</text>\n\n<text class=\"displacy-token\" fill=\"currentColor\" text-anchor=\"middle\" y=\"397.0\">\n    <tspan class=\"displacy-word\" fill=\"currentColor\" x=\"1450\">left</tspan>\n    <tspan class=\"displacy-tag\" dy=\"2em\" fill=\"currentColor\" x=\"1450\">VERB</tspan>\n</text>\n\n<text class=\"displacy-token\" fill=\"currentColor\" text-anchor=\"middle\" y=\"397.0\">\n    <tspan class=\"displacy-word\" fill=\"currentColor\" x=\"1625\">out</tspan>\n    <tspan class=\"displacy-tag\" dy=\"2em\" fill=\"currentColor\" x=\"1625\">ADP</tspan>\n</text>\n\n<text class=\"displacy-token\" fill=\"currentColor\" text-anchor=\"middle\" y=\"397.0\">\n    <tspan class=\"displacy-word\" fill=\"currentColor\" x=\"1800\">ingredients (</tspan>\n    <tspan class=\"displacy-tag\" dy=\"2em\" fill=\"currentColor\" x=\"1800\">NOUN</tspan>\n</text>\n\n<text class=\"displacy-token\" fill=\"currentColor\" text-anchor=\"middle\" y=\"397.0\">\n    <tspan class=\"displacy-word\" fill=\"currentColor\" x=\"1975\">ie</tspan>\n    <tspan class=\"displacy-tag\" dy=\"2em\" fill=\"currentColor\" x=\"1975\">X</tspan>\n</text>\n\n<text class=\"displacy-token\" fill=\"currentColor\" text-anchor=\"middle\" y=\"397.0\">\n    <tspan class=\"displacy-word\" fill=\"currentColor\" x=\"2150\">cheese</tspan>\n    <tspan class=\"displacy-tag\" dy=\"2em\" fill=\"currentColor\" x=\"2150\">NOUN</tspan>\n</text>\n\n<text class=\"displacy-token\" fill=\"currentColor\" text-anchor=\"middle\" y=\"397.0\">\n    <tspan class=\"displacy-word\" fill=\"currentColor\" x=\"2325\">in</tspan>\n    <tspan class=\"displacy-tag\" dy=\"2em\" fill=\"currentColor\" x=\"2325\">ADP</tspan>\n</text>\n\n<text class=\"displacy-token\" fill=\"currentColor\" text-anchor=\"middle\" y=\"397.0\">\n    <tspan class=\"displacy-word\" fill=\"currentColor\" x=\"2500\">an</tspan>\n    <tspan class=\"displacy-tag\" dy=\"2em\" fill=\"currentColor\" x=\"2500\">DET</tspan>\n</text>\n\n<text class=\"displacy-token\" fill=\"currentColor\" text-anchor=\"middle\" y=\"397.0\">\n    <tspan class=\"displacy-word\" fill=\"currentColor\" x=\"2675\">omelet),</tspan>\n    <tspan class=\"displacy-tag\" dy=\"2em\" fill=\"currentColor\" x=\"2675\">NOUN</tspan>\n</text>\n\n<text class=\"displacy-token\" fill=\"currentColor\" text-anchor=\"middle\" y=\"397.0\">\n    <tspan class=\"displacy-word\" fill=\"currentColor\" x=\"2850\">below</tspan>\n    <tspan class=\"displacy-tag\" dy=\"2em\" fill=\"currentColor\" x=\"2850\">ADP</tspan>\n</text>\n\n<text class=\"displacy-token\" fill=\"currentColor\" text-anchor=\"middle\" y=\"397.0\">\n    <tspan class=\"displacy-word\" fill=\"currentColor\" x=\"3025\">hot</tspan>\n    <tspan class=\"displacy-tag\" dy=\"2em\" fill=\"currentColor\" x=\"3025\">ADJ</tspan>\n</text>\n\n<text class=\"displacy-token\" fill=\"currentColor\" text-anchor=\"middle\" y=\"397.0\">\n    <tspan class=\"displacy-word\" fill=\"currentColor\" x=\"3200\">temperatures</tspan>\n    <tspan class=\"displacy-tag\" dy=\"2em\" fill=\"currentColor\" x=\"3200\">NOUN</tspan>\n</text>\n\n<text class=\"displacy-token\" fill=\"currentColor\" text-anchor=\"middle\" y=\"397.0\">\n    <tspan class=\"displacy-word\" fill=\"currentColor\" x=\"3375\">and</tspan>\n    <tspan class=\"displacy-tag\" dy=\"2em\" fill=\"currentColor\" x=\"3375\">CCONJ</tspan>\n</text>\n\n<text class=\"displacy-token\" fill=\"currentColor\" text-anchor=\"middle\" y=\"397.0\">\n    <tspan class=\"displacy-word\" fill=\"currentColor\" x=\"3550\">the</tspan>\n    <tspan class=\"displacy-tag\" dy=\"2em\" fill=\"currentColor\" x=\"3550\">DET</tspan>\n</text>\n\n<text class=\"displacy-token\" fill=\"currentColor\" text-anchor=\"middle\" y=\"397.0\">\n    <tspan class=\"displacy-word\" fill=\"currentColor\" x=\"3725\">bacon</tspan>\n    <tspan class=\"displacy-tag\" dy=\"2em\" fill=\"currentColor\" x=\"3725\">NOUN</tspan>\n</text>\n\n<text class=\"displacy-token\" fill=\"currentColor\" text-anchor=\"middle\" y=\"397.0\">\n    <tspan class=\"displacy-word\" fill=\"currentColor\" x=\"3900\">was</tspan>\n    <tspan class=\"displacy-tag\" dy=\"2em\" fill=\"currentColor\" x=\"3900\">AUX</tspan>\n</text>\n\n<text class=\"displacy-token\" fill=\"currentColor\" text-anchor=\"middle\" y=\"397.0\">\n    <tspan class=\"displacy-word\" fill=\"currentColor\" x=\"4075\">so</tspan>\n    <tspan class=\"displacy-tag\" dy=\"2em\" fill=\"currentColor\" x=\"4075\">ADV</tspan>\n</text>\n\n<text class=\"displacy-token\" fill=\"currentColor\" text-anchor=\"middle\" y=\"397.0\">\n    <tspan class=\"displacy-word\" fill=\"currentColor\" x=\"4250\">over</tspan>\n    <tspan class=\"displacy-tag\" dy=\"2em\" fill=\"currentColor\" x=\"4250\">ADV</tspan>\n</text>\n\n<text class=\"displacy-token\" fill=\"currentColor\" text-anchor=\"middle\" y=\"397.0\">\n    <tspan class=\"displacy-word\" fill=\"currentColor\" x=\"4425\">cooked</tspan>\n    <tspan class=\"displacy-tag\" dy=\"2em\" fill=\"currentColor\" x=\"4425\">VERB</tspan>\n</text>\n\n<text class=\"displacy-token\" fill=\"currentColor\" text-anchor=\"middle\" y=\"397.0\">\n    <tspan class=\"displacy-word\" fill=\"currentColor\" x=\"4600\">it</tspan>\n    <tspan class=\"displacy-tag\" dy=\"2em\" fill=\"currentColor\" x=\"4600\">PRON</tspan>\n</text>\n\n<text class=\"displacy-token\" fill=\"currentColor\" text-anchor=\"middle\" y=\"397.0\">\n    <tspan class=\"displacy-word\" fill=\"currentColor\" x=\"4775\">crumbled</tspan>\n    <tspan class=\"displacy-tag\" dy=\"2em\" fill=\"currentColor\" x=\"4775\">VERB</tspan>\n</text>\n\n<text class=\"displacy-token\" fill=\"currentColor\" text-anchor=\"middle\" y=\"397.0\">\n    <tspan class=\"displacy-word\" fill=\"currentColor\" x=\"4950\">on</tspan>\n    <tspan class=\"displacy-tag\" dy=\"2em\" fill=\"currentColor\" x=\"4950\">ADP</tspan>\n</text>\n\n<text class=\"displacy-token\" fill=\"currentColor\" text-anchor=\"middle\" y=\"397.0\">\n    <tspan class=\"displacy-word\" fill=\"currentColor\" x=\"5125\">the</tspan>\n    <tspan class=\"displacy-tag\" dy=\"2em\" fill=\"currentColor\" x=\"5125\">DET</tspan>\n</text>\n\n<text class=\"displacy-token\" fill=\"currentColor\" text-anchor=\"middle\" y=\"397.0\">\n    <tspan class=\"displacy-word\" fill=\"currentColor\" x=\"5300\">plate</tspan>\n    <tspan class=\"displacy-tag\" dy=\"2em\" fill=\"currentColor\" x=\"5300\">NOUN</tspan>\n</text>\n\n<text class=\"displacy-token\" fill=\"currentColor\" text-anchor=\"middle\" y=\"397.0\">\n    <tspan class=\"displacy-word\" fill=\"currentColor\" x=\"5475\">when</tspan>\n    <tspan class=\"displacy-tag\" dy=\"2em\" fill=\"currentColor\" x=\"5475\">SCONJ</tspan>\n</text>\n\n<text class=\"displacy-token\" fill=\"currentColor\" text-anchor=\"middle\" y=\"397.0\">\n    <tspan class=\"displacy-word\" fill=\"currentColor\" x=\"5650\">you</tspan>\n    <tspan class=\"displacy-tag\" dy=\"2em\" fill=\"currentColor\" x=\"5650\">PRON</tspan>\n</text>\n\n<text class=\"displacy-token\" fill=\"currentColor\" text-anchor=\"middle\" y=\"397.0\">\n    <tspan class=\"displacy-word\" fill=\"currentColor\" x=\"5825\">touched</tspan>\n    <tspan class=\"displacy-tag\" dy=\"2em\" fill=\"currentColor\" x=\"5825\">VERB</tspan>\n</text>\n\n<text class=\"displacy-token\" fill=\"currentColor\" text-anchor=\"middle\" y=\"397.0\">\n    <tspan class=\"displacy-word\" fill=\"currentColor\" x=\"6000\">it.</tspan>\n    <tspan class=\"displacy-tag\" dy=\"2em\" fill=\"currentColor\" x=\"6000\">PRON</tspan>\n</text>\n\n<g class=\"displacy-arrow\">\n    <path class=\"displacy-arc\" id=\"arrow-b1cb7fa784564b98affb41c01b79c972-0-0\" stroke-width=\"2px\" d=\"M70,352.0 C70,89.5 570.0,89.5 570.0,352.0\" fill=\"none\" stroke=\"currentColor\"/>\n    <text dy=\"1.25em\" style=\"font-size: 0.8em; letter-spacing: 1px\">\n        <textPath xlink:href=\"#arrow-b1cb7fa784564b98affb41c01b79c972-0-0\" class=\"displacy-label\" startOffset=\"50%\" side=\"left\" fill=\"currentColor\" text-anchor=\"middle\">nsubj</textPath>\n    </text>\n    <path class=\"displacy-arrowhead\" d=\"M70,354.0 L62,342.0 78,342.0\" fill=\"currentColor\"/>\n</g>\n\n<g class=\"displacy-arrow\">\n    <path class=\"displacy-arc\" id=\"arrow-b1cb7fa784564b98affb41c01b79c972-0-1\" stroke-width=\"2px\" d=\"M245,352.0 C245,177.0 565.0,177.0 565.0,352.0\" fill=\"none\" stroke=\"currentColor\"/>\n    <text dy=\"1.25em\" style=\"font-size: 0.8em; letter-spacing: 1px\">\n        <textPath xlink:href=\"#arrow-b1cb7fa784564b98affb41c01b79c972-0-1\" class=\"displacy-label\" startOffset=\"50%\" side=\"left\" fill=\"currentColor\" text-anchor=\"middle\">aux</textPath>\n    </text>\n    <path class=\"displacy-arrowhead\" d=\"M245,354.0 L237,342.0 253,342.0\" fill=\"currentColor\"/>\n</g>\n\n<g class=\"displacy-arrow\">\n    <path class=\"displacy-arc\" id=\"arrow-b1cb7fa784564b98affb41c01b79c972-0-2\" stroke-width=\"2px\" d=\"M420,352.0 C420,264.5 560.0,264.5 560.0,352.0\" fill=\"none\" stroke=\"currentColor\"/>\n    <text dy=\"1.25em\" style=\"font-size: 0.8em; letter-spacing: 1px\">\n        <textPath xlink:href=\"#arrow-b1cb7fa784564b98affb41c01b79c972-0-2\" class=\"displacy-label\" startOffset=\"50%\" side=\"left\" fill=\"currentColor\" text-anchor=\"middle\">neg</textPath>\n    </text>\n    <path class=\"displacy-arrowhead\" d=\"M420,354.0 L412,342.0 428,342.0\" fill=\"currentColor\"/>\n</g>\n\n<g class=\"displacy-arrow\">\n    <path class=\"displacy-arc\" id=\"arrow-b1cb7fa784564b98affb41c01b79c972-0-3\" stroke-width=\"2px\" d=\"M595,352.0 C595,264.5 735.0,264.5 735.0,352.0\" fill=\"none\" stroke=\"currentColor\"/>\n    <text dy=\"1.25em\" style=\"font-size: 0.8em; letter-spacing: 1px\">\n        <textPath xlink:href=\"#arrow-b1cb7fa784564b98affb41c01b79c972-0-3\" class=\"displacy-label\" startOffset=\"50%\" side=\"left\" fill=\"currentColor\" text-anchor=\"middle\">dobj</textPath>\n    </text>\n    <path class=\"displacy-arrowhead\" d=\"M735.0,354.0 L743.0,342.0 727.0,342.0\" fill=\"currentColor\"/>\n</g>\n\n<g class=\"displacy-arrow\">\n    <path class=\"displacy-arc\" id=\"arrow-b1cb7fa784564b98affb41c01b79c972-0-4\" stroke-width=\"2px\" d=\"M595,352.0 C595,177.0 915.0,177.0 915.0,352.0\" fill=\"none\" stroke=\"currentColor\"/>\n    <text dy=\"1.25em\" style=\"font-size: 0.8em; letter-spacing: 1px\">\n        <textPath xlink:href=\"#arrow-b1cb7fa784564b98affb41c01b79c972-0-4\" class=\"displacy-label\" startOffset=\"50%\" side=\"left\" fill=\"currentColor\" text-anchor=\"middle\">conj</textPath>\n    </text>\n    <path class=\"displacy-arrowhead\" d=\"M915.0,354.0 L923.0,342.0 907.0,342.0\" fill=\"currentColor\"/>\n</g>\n\n<g class=\"displacy-arrow\">\n    <path class=\"displacy-arc\" id=\"arrow-b1cb7fa784564b98affb41c01b79c972-0-5\" stroke-width=\"2px\" d=\"M1120,352.0 C1120,264.5 1260.0,264.5 1260.0,352.0\" fill=\"none\" stroke=\"currentColor\"/>\n    <text dy=\"1.25em\" style=\"font-size: 0.8em; letter-spacing: 1px\">\n        <textPath xlink:href=\"#arrow-b1cb7fa784564b98affb41c01b79c972-0-5\" class=\"displacy-label\" startOffset=\"50%\" side=\"left\" fill=\"currentColor\" text-anchor=\"middle\">poss</textPath>\n    </text>\n    <path class=\"displacy-arrowhead\" d=\"M1120,354.0 L1112,342.0 1128,342.0\" fill=\"currentColor\"/>\n</g>\n\n<g class=\"displacy-arrow\">\n    <path class=\"displacy-arc\" id=\"arrow-b1cb7fa784564b98affb41c01b79c972-0-6\" stroke-width=\"2px\" d=\"M945,352.0 C945,177.0 1265.0,177.0 1265.0,352.0\" fill=\"none\" stroke=\"currentColor\"/>\n    <text dy=\"1.25em\" style=\"font-size: 0.8em; letter-spacing: 1px\">\n        <textPath xlink:href=\"#arrow-b1cb7fa784564b98affb41c01b79c972-0-6\" class=\"displacy-label\" startOffset=\"50%\" side=\"left\" fill=\"currentColor\" text-anchor=\"middle\">dobj</textPath>\n    </text>\n    <path class=\"displacy-arrowhead\" d=\"M1265.0,354.0 L1273.0,342.0 1257.0,342.0\" fill=\"currentColor\"/>\n</g>\n\n<g class=\"displacy-arrow\">\n    <path class=\"displacy-arc\" id=\"arrow-b1cb7fa784564b98affb41c01b79c972-0-7\" stroke-width=\"2px\" d=\"M945,352.0 C945,89.5 1445.0,89.5 1445.0,352.0\" fill=\"none\" stroke=\"currentColor\"/>\n    <text dy=\"1.25em\" style=\"font-size: 0.8em; letter-spacing: 1px\">\n        <textPath xlink:href=\"#arrow-b1cb7fa784564b98affb41c01b79c972-0-7\" class=\"displacy-label\" startOffset=\"50%\" side=\"left\" fill=\"currentColor\" text-anchor=\"middle\">conj</textPath>\n    </text>\n    <path class=\"displacy-arrowhead\" d=\"M1445.0,354.0 L1453.0,342.0 1437.0,342.0\" fill=\"currentColor\"/>\n</g>\n\n<g class=\"displacy-arrow\">\n    <path class=\"displacy-arc\" id=\"arrow-b1cb7fa784564b98affb41c01b79c972-0-8\" stroke-width=\"2px\" d=\"M1470,352.0 C1470,264.5 1610.0,264.5 1610.0,352.0\" fill=\"none\" stroke=\"currentColor\"/>\n    <text dy=\"1.25em\" style=\"font-size: 0.8em; letter-spacing: 1px\">\n        <textPath xlink:href=\"#arrow-b1cb7fa784564b98affb41c01b79c972-0-8\" class=\"displacy-label\" startOffset=\"50%\" side=\"left\" fill=\"currentColor\" text-anchor=\"middle\">prt</textPath>\n    </text>\n    <path class=\"displacy-arrowhead\" d=\"M1610.0,354.0 L1618.0,342.0 1602.0,342.0\" fill=\"currentColor\"/>\n</g>\n\n<g class=\"displacy-arrow\">\n    <path class=\"displacy-arc\" id=\"arrow-b1cb7fa784564b98affb41c01b79c972-0-9\" stroke-width=\"2px\" d=\"M1470,352.0 C1470,177.0 1790.0,177.0 1790.0,352.0\" fill=\"none\" stroke=\"currentColor\"/>\n    <text dy=\"1.25em\" style=\"font-size: 0.8em; letter-spacing: 1px\">\n        <textPath xlink:href=\"#arrow-b1cb7fa784564b98affb41c01b79c972-0-9\" class=\"displacy-label\" startOffset=\"50%\" side=\"left\" fill=\"currentColor\" text-anchor=\"middle\">dobj</textPath>\n    </text>\n    <path class=\"displacy-arrowhead\" d=\"M1790.0,354.0 L1798.0,342.0 1782.0,342.0\" fill=\"currentColor\"/>\n</g>\n\n<g class=\"displacy-arrow\">\n    <path class=\"displacy-arc\" id=\"arrow-b1cb7fa784564b98affb41c01b79c972-0-10\" stroke-width=\"2px\" d=\"M1995,352.0 C1995,264.5 2135.0,264.5 2135.0,352.0\" fill=\"none\" stroke=\"currentColor\"/>\n    <text dy=\"1.25em\" style=\"font-size: 0.8em; letter-spacing: 1px\">\n        <textPath xlink:href=\"#arrow-b1cb7fa784564b98affb41c01b79c972-0-10\" class=\"displacy-label\" startOffset=\"50%\" side=\"left\" fill=\"currentColor\" text-anchor=\"middle\">amod</textPath>\n    </text>\n    <path class=\"displacy-arrowhead\" d=\"M1995,354.0 L1987,342.0 2003,342.0\" fill=\"currentColor\"/>\n</g>\n\n<g class=\"displacy-arrow\">\n    <path class=\"displacy-arc\" id=\"arrow-b1cb7fa784564b98affb41c01b79c972-0-11\" stroke-width=\"2px\" d=\"M1820,352.0 C1820,177.0 2140.0,177.0 2140.0,352.0\" fill=\"none\" stroke=\"currentColor\"/>\n    <text dy=\"1.25em\" style=\"font-size: 0.8em; letter-spacing: 1px\">\n        <textPath xlink:href=\"#arrow-b1cb7fa784564b98affb41c01b79c972-0-11\" class=\"displacy-label\" startOffset=\"50%\" side=\"left\" fill=\"currentColor\" text-anchor=\"middle\">appos</textPath>\n    </text>\n    <path class=\"displacy-arrowhead\" d=\"M2140.0,354.0 L2148.0,342.0 2132.0,342.0\" fill=\"currentColor\"/>\n</g>\n\n<g class=\"displacy-arrow\">\n    <path class=\"displacy-arc\" id=\"arrow-b1cb7fa784564b98affb41c01b79c972-0-12\" stroke-width=\"2px\" d=\"M2170,352.0 C2170,264.5 2310.0,264.5 2310.0,352.0\" fill=\"none\" stroke=\"currentColor\"/>\n    <text dy=\"1.25em\" style=\"font-size: 0.8em; letter-spacing: 1px\">\n        <textPath xlink:href=\"#arrow-b1cb7fa784564b98affb41c01b79c972-0-12\" class=\"displacy-label\" startOffset=\"50%\" side=\"left\" fill=\"currentColor\" text-anchor=\"middle\">prep</textPath>\n    </text>\n    <path class=\"displacy-arrowhead\" d=\"M2310.0,354.0 L2318.0,342.0 2302.0,342.0\" fill=\"currentColor\"/>\n</g>\n\n<g class=\"displacy-arrow\">\n    <path class=\"displacy-arc\" id=\"arrow-b1cb7fa784564b98affb41c01b79c972-0-13\" stroke-width=\"2px\" d=\"M2520,352.0 C2520,264.5 2660.0,264.5 2660.0,352.0\" fill=\"none\" stroke=\"currentColor\"/>\n    <text dy=\"1.25em\" style=\"font-size: 0.8em; letter-spacing: 1px\">\n        <textPath xlink:href=\"#arrow-b1cb7fa784564b98affb41c01b79c972-0-13\" class=\"displacy-label\" startOffset=\"50%\" side=\"left\" fill=\"currentColor\" text-anchor=\"middle\">det</textPath>\n    </text>\n    <path class=\"displacy-arrowhead\" d=\"M2520,354.0 L2512,342.0 2528,342.0\" fill=\"currentColor\"/>\n</g>\n\n<g class=\"displacy-arrow\">\n    <path class=\"displacy-arc\" id=\"arrow-b1cb7fa784564b98affb41c01b79c972-0-14\" stroke-width=\"2px\" d=\"M2345,352.0 C2345,177.0 2665.0,177.0 2665.0,352.0\" fill=\"none\" stroke=\"currentColor\"/>\n    <text dy=\"1.25em\" style=\"font-size: 0.8em; letter-spacing: 1px\">\n        <textPath xlink:href=\"#arrow-b1cb7fa784564b98affb41c01b79c972-0-14\" class=\"displacy-label\" startOffset=\"50%\" side=\"left\" fill=\"currentColor\" text-anchor=\"middle\">pobj</textPath>\n    </text>\n    <path class=\"displacy-arrowhead\" d=\"M2665.0,354.0 L2673.0,342.0 2657.0,342.0\" fill=\"currentColor\"/>\n</g>\n\n<g class=\"displacy-arrow\">\n    <path class=\"displacy-arc\" id=\"arrow-b1cb7fa784564b98affb41c01b79c972-0-15\" stroke-width=\"2px\" d=\"M1820,352.0 C1820,89.5 2845.0,89.5 2845.0,352.0\" fill=\"none\" stroke=\"currentColor\"/>\n    <text dy=\"1.25em\" style=\"font-size: 0.8em; letter-spacing: 1px\">\n        <textPath xlink:href=\"#arrow-b1cb7fa784564b98affb41c01b79c972-0-15\" class=\"displacy-label\" startOffset=\"50%\" side=\"left\" fill=\"currentColor\" text-anchor=\"middle\">prep</textPath>\n    </text>\n    <path class=\"displacy-arrowhead\" d=\"M2845.0,354.0 L2853.0,342.0 2837.0,342.0\" fill=\"currentColor\"/>\n</g>\n\n<g class=\"displacy-arrow\">\n    <path class=\"displacy-arc\" id=\"arrow-b1cb7fa784564b98affb41c01b79c972-0-16\" stroke-width=\"2px\" d=\"M3045,352.0 C3045,264.5 3185.0,264.5 3185.0,352.0\" fill=\"none\" stroke=\"currentColor\"/>\n    <text dy=\"1.25em\" style=\"font-size: 0.8em; letter-spacing: 1px\">\n        <textPath xlink:href=\"#arrow-b1cb7fa784564b98affb41c01b79c972-0-16\" class=\"displacy-label\" startOffset=\"50%\" side=\"left\" fill=\"currentColor\" text-anchor=\"middle\">amod</textPath>\n    </text>\n    <path class=\"displacy-arrowhead\" d=\"M3045,354.0 L3037,342.0 3053,342.0\" fill=\"currentColor\"/>\n</g>\n\n<g class=\"displacy-arrow\">\n    <path class=\"displacy-arc\" id=\"arrow-b1cb7fa784564b98affb41c01b79c972-0-17\" stroke-width=\"2px\" d=\"M2870,352.0 C2870,177.0 3190.0,177.0 3190.0,352.0\" fill=\"none\" stroke=\"currentColor\"/>\n    <text dy=\"1.25em\" style=\"font-size: 0.8em; letter-spacing: 1px\">\n        <textPath xlink:href=\"#arrow-b1cb7fa784564b98affb41c01b79c972-0-17\" class=\"displacy-label\" startOffset=\"50%\" side=\"left\" fill=\"currentColor\" text-anchor=\"middle\">pobj</textPath>\n    </text>\n    <path class=\"displacy-arrowhead\" d=\"M3190.0,354.0 L3198.0,342.0 3182.0,342.0\" fill=\"currentColor\"/>\n</g>\n\n<g class=\"displacy-arrow\">\n    <path class=\"displacy-arc\" id=\"arrow-b1cb7fa784564b98affb41c01b79c972-0-18\" stroke-width=\"2px\" d=\"M3220,352.0 C3220,264.5 3360.0,264.5 3360.0,352.0\" fill=\"none\" stroke=\"currentColor\"/>\n    <text dy=\"1.25em\" style=\"font-size: 0.8em; letter-spacing: 1px\">\n        <textPath xlink:href=\"#arrow-b1cb7fa784564b98affb41c01b79c972-0-18\" class=\"displacy-label\" startOffset=\"50%\" side=\"left\" fill=\"currentColor\" text-anchor=\"middle\">cc</textPath>\n    </text>\n    <path class=\"displacy-arrowhead\" d=\"M3360.0,354.0 L3368.0,342.0 3352.0,342.0\" fill=\"currentColor\"/>\n</g>\n\n<g class=\"displacy-arrow\">\n    <path class=\"displacy-arc\" id=\"arrow-b1cb7fa784564b98affb41c01b79c972-0-19\" stroke-width=\"2px\" d=\"M3570,352.0 C3570,264.5 3710.0,264.5 3710.0,352.0\" fill=\"none\" stroke=\"currentColor\"/>\n    <text dy=\"1.25em\" style=\"font-size: 0.8em; letter-spacing: 1px\">\n        <textPath xlink:href=\"#arrow-b1cb7fa784564b98affb41c01b79c972-0-19\" class=\"displacy-label\" startOffset=\"50%\" side=\"left\" fill=\"currentColor\" text-anchor=\"middle\">det</textPath>\n    </text>\n    <path class=\"displacy-arrowhead\" d=\"M3570,354.0 L3562,342.0 3578,342.0\" fill=\"currentColor\"/>\n</g>\n\n<g class=\"displacy-arrow\">\n    <path class=\"displacy-arc\" id=\"arrow-b1cb7fa784564b98affb41c01b79c972-0-20\" stroke-width=\"2px\" d=\"M3220,352.0 C3220,177.0 3715.0,177.0 3715.0,352.0\" fill=\"none\" stroke=\"currentColor\"/>\n    <text dy=\"1.25em\" style=\"font-size: 0.8em; letter-spacing: 1px\">\n        <textPath xlink:href=\"#arrow-b1cb7fa784564b98affb41c01b79c972-0-20\" class=\"displacy-label\" startOffset=\"50%\" side=\"left\" fill=\"currentColor\" text-anchor=\"middle\">conj</textPath>\n    </text>\n    <path class=\"displacy-arrowhead\" d=\"M3715.0,354.0 L3723.0,342.0 3707.0,342.0\" fill=\"currentColor\"/>\n</g>\n\n<g class=\"displacy-arrow\">\n    <path class=\"displacy-arc\" id=\"arrow-b1cb7fa784564b98affb41c01b79c972-0-21\" stroke-width=\"2px\" d=\"M595,352.0 C595,2.0 3900.0,2.0 3900.0,352.0\" fill=\"none\" stroke=\"currentColor\"/>\n    <text dy=\"1.25em\" style=\"font-size: 0.8em; letter-spacing: 1px\">\n        <textPath xlink:href=\"#arrow-b1cb7fa784564b98affb41c01b79c972-0-21\" class=\"displacy-label\" startOffset=\"50%\" side=\"left\" fill=\"currentColor\" text-anchor=\"middle\">conj</textPath>\n    </text>\n    <path class=\"displacy-arrowhead\" d=\"M3900.0,354.0 L3908.0,342.0 3892.0,342.0\" fill=\"currentColor\"/>\n</g>\n\n<g class=\"displacy-arrow\">\n    <path class=\"displacy-arc\" id=\"arrow-b1cb7fa784564b98affb41c01b79c972-0-22\" stroke-width=\"2px\" d=\"M4095,352.0 C4095,264.5 4235.0,264.5 4235.0,352.0\" fill=\"none\" stroke=\"currentColor\"/>\n    <text dy=\"1.25em\" style=\"font-size: 0.8em; letter-spacing: 1px\">\n        <textPath xlink:href=\"#arrow-b1cb7fa784564b98affb41c01b79c972-0-22\" class=\"displacy-label\" startOffset=\"50%\" side=\"left\" fill=\"currentColor\" text-anchor=\"middle\">advmod</textPath>\n    </text>\n    <path class=\"displacy-arrowhead\" d=\"M4095,354.0 L4087,342.0 4103,342.0\" fill=\"currentColor\"/>\n</g>\n\n<g class=\"displacy-arrow\">\n    <path class=\"displacy-arc\" id=\"arrow-b1cb7fa784564b98affb41c01b79c972-0-23\" stroke-width=\"2px\" d=\"M4270,352.0 C4270,264.5 4410.0,264.5 4410.0,352.0\" fill=\"none\" stroke=\"currentColor\"/>\n    <text dy=\"1.25em\" style=\"font-size: 0.8em; letter-spacing: 1px\">\n        <textPath xlink:href=\"#arrow-b1cb7fa784564b98affb41c01b79c972-0-23\" class=\"displacy-label\" startOffset=\"50%\" side=\"left\" fill=\"currentColor\" text-anchor=\"middle\">advmod</textPath>\n    </text>\n    <path class=\"displacy-arrowhead\" d=\"M4270,354.0 L4262,342.0 4278,342.0\" fill=\"currentColor\"/>\n</g>\n\n<g class=\"displacy-arrow\">\n    <path class=\"displacy-arc\" id=\"arrow-b1cb7fa784564b98affb41c01b79c972-0-24\" stroke-width=\"2px\" d=\"M3920,352.0 C3920,177.0 4415.0,177.0 4415.0,352.0\" fill=\"none\" stroke=\"currentColor\"/>\n    <text dy=\"1.25em\" style=\"font-size: 0.8em; letter-spacing: 1px\">\n        <textPath xlink:href=\"#arrow-b1cb7fa784564b98affb41c01b79c972-0-24\" class=\"displacy-label\" startOffset=\"50%\" side=\"left\" fill=\"currentColor\" text-anchor=\"middle\">acomp</textPath>\n    </text>\n    <path class=\"displacy-arrowhead\" d=\"M4415.0,354.0 L4423.0,342.0 4407.0,342.0\" fill=\"currentColor\"/>\n</g>\n\n<g class=\"displacy-arrow\">\n    <path class=\"displacy-arc\" id=\"arrow-b1cb7fa784564b98affb41c01b79c972-0-25\" stroke-width=\"2px\" d=\"M4620,352.0 C4620,264.5 4760.0,264.5 4760.0,352.0\" fill=\"none\" stroke=\"currentColor\"/>\n    <text dy=\"1.25em\" style=\"font-size: 0.8em; letter-spacing: 1px\">\n        <textPath xlink:href=\"#arrow-b1cb7fa784564b98affb41c01b79c972-0-25\" class=\"displacy-label\" startOffset=\"50%\" side=\"left\" fill=\"currentColor\" text-anchor=\"middle\">nsubj</textPath>\n    </text>\n    <path class=\"displacy-arrowhead\" d=\"M4620,354.0 L4612,342.0 4628,342.0\" fill=\"currentColor\"/>\n</g>\n\n<g class=\"displacy-arrow\">\n    <path class=\"displacy-arc\" id=\"arrow-b1cb7fa784564b98affb41c01b79c972-0-26\" stroke-width=\"2px\" d=\"M4445,352.0 C4445,177.0 4765.0,177.0 4765.0,352.0\" fill=\"none\" stroke=\"currentColor\"/>\n    <text dy=\"1.25em\" style=\"font-size: 0.8em; letter-spacing: 1px\">\n        <textPath xlink:href=\"#arrow-b1cb7fa784564b98affb41c01b79c972-0-26\" class=\"displacy-label\" startOffset=\"50%\" side=\"left\" fill=\"currentColor\" text-anchor=\"middle\">ccomp</textPath>\n    </text>\n    <path class=\"displacy-arrowhead\" d=\"M4765.0,354.0 L4773.0,342.0 4757.0,342.0\" fill=\"currentColor\"/>\n</g>\n\n<g class=\"displacy-arrow\">\n    <path class=\"displacy-arc\" id=\"arrow-b1cb7fa784564b98affb41c01b79c972-0-27\" stroke-width=\"2px\" d=\"M4795,352.0 C4795,264.5 4935.0,264.5 4935.0,352.0\" fill=\"none\" stroke=\"currentColor\"/>\n    <text dy=\"1.25em\" style=\"font-size: 0.8em; letter-spacing: 1px\">\n        <textPath xlink:href=\"#arrow-b1cb7fa784564b98affb41c01b79c972-0-27\" class=\"displacy-label\" startOffset=\"50%\" side=\"left\" fill=\"currentColor\" text-anchor=\"middle\">prep</textPath>\n    </text>\n    <path class=\"displacy-arrowhead\" d=\"M4935.0,354.0 L4943.0,342.0 4927.0,342.0\" fill=\"currentColor\"/>\n</g>\n\n<g class=\"displacy-arrow\">\n    <path class=\"displacy-arc\" id=\"arrow-b1cb7fa784564b98affb41c01b79c972-0-28\" stroke-width=\"2px\" d=\"M5145,352.0 C5145,264.5 5285.0,264.5 5285.0,352.0\" fill=\"none\" stroke=\"currentColor\"/>\n    <text dy=\"1.25em\" style=\"font-size: 0.8em; letter-spacing: 1px\">\n        <textPath xlink:href=\"#arrow-b1cb7fa784564b98affb41c01b79c972-0-28\" class=\"displacy-label\" startOffset=\"50%\" side=\"left\" fill=\"currentColor\" text-anchor=\"middle\">det</textPath>\n    </text>\n    <path class=\"displacy-arrowhead\" d=\"M5145,354.0 L5137,342.0 5153,342.0\" fill=\"currentColor\"/>\n</g>\n\n<g class=\"displacy-arrow\">\n    <path class=\"displacy-arc\" id=\"arrow-b1cb7fa784564b98affb41c01b79c972-0-29\" stroke-width=\"2px\" d=\"M4970,352.0 C4970,177.0 5290.0,177.0 5290.0,352.0\" fill=\"none\" stroke=\"currentColor\"/>\n    <text dy=\"1.25em\" style=\"font-size: 0.8em; letter-spacing: 1px\">\n        <textPath xlink:href=\"#arrow-b1cb7fa784564b98affb41c01b79c972-0-29\" class=\"displacy-label\" startOffset=\"50%\" side=\"left\" fill=\"currentColor\" text-anchor=\"middle\">pobj</textPath>\n    </text>\n    <path class=\"displacy-arrowhead\" d=\"M5290.0,354.0 L5298.0,342.0 5282.0,342.0\" fill=\"currentColor\"/>\n</g>\n\n<g class=\"displacy-arrow\">\n    <path class=\"displacy-arc\" id=\"arrow-b1cb7fa784564b98affb41c01b79c972-0-30\" stroke-width=\"2px\" d=\"M5495,352.0 C5495,177.0 5815.0,177.0 5815.0,352.0\" fill=\"none\" stroke=\"currentColor\"/>\n    <text dy=\"1.25em\" style=\"font-size: 0.8em; letter-spacing: 1px\">\n        <textPath xlink:href=\"#arrow-b1cb7fa784564b98affb41c01b79c972-0-30\" class=\"displacy-label\" startOffset=\"50%\" side=\"left\" fill=\"currentColor\" text-anchor=\"middle\">advmod</textPath>\n    </text>\n    <path class=\"displacy-arrowhead\" d=\"M5495,354.0 L5487,342.0 5503,342.0\" fill=\"currentColor\"/>\n</g>\n\n<g class=\"displacy-arrow\">\n    <path class=\"displacy-arc\" id=\"arrow-b1cb7fa784564b98affb41c01b79c972-0-31\" stroke-width=\"2px\" d=\"M5670,352.0 C5670,264.5 5810.0,264.5 5810.0,352.0\" fill=\"none\" stroke=\"currentColor\"/>\n    <text dy=\"1.25em\" style=\"font-size: 0.8em; letter-spacing: 1px\">\n        <textPath xlink:href=\"#arrow-b1cb7fa784564b98affb41c01b79c972-0-31\" class=\"displacy-label\" startOffset=\"50%\" side=\"left\" fill=\"currentColor\" text-anchor=\"middle\">nsubj</textPath>\n    </text>\n    <path class=\"displacy-arrowhead\" d=\"M5670,354.0 L5662,342.0 5678,342.0\" fill=\"currentColor\"/>\n</g>\n\n<g class=\"displacy-arrow\">\n    <path class=\"displacy-arc\" id=\"arrow-b1cb7fa784564b98affb41c01b79c972-0-32\" stroke-width=\"2px\" d=\"M4795,352.0 C4795,89.5 5820.0,89.5 5820.0,352.0\" fill=\"none\" stroke=\"currentColor\"/>\n    <text dy=\"1.25em\" style=\"font-size: 0.8em; letter-spacing: 1px\">\n        <textPath xlink:href=\"#arrow-b1cb7fa784564b98affb41c01b79c972-0-32\" class=\"displacy-label\" startOffset=\"50%\" side=\"left\" fill=\"currentColor\" text-anchor=\"middle\">advcl</textPath>\n    </text>\n    <path class=\"displacy-arrowhead\" d=\"M5820.0,354.0 L5828.0,342.0 5812.0,342.0\" fill=\"currentColor\"/>\n</g>\n\n<g class=\"displacy-arrow\">\n    <path class=\"displacy-arc\" id=\"arrow-b1cb7fa784564b98affb41c01b79c972-0-33\" stroke-width=\"2px\" d=\"M5845,352.0 C5845,264.5 5985.0,264.5 5985.0,352.0\" fill=\"none\" stroke=\"currentColor\"/>\n    <text dy=\"1.25em\" style=\"font-size: 0.8em; letter-spacing: 1px\">\n        <textPath xlink:href=\"#arrow-b1cb7fa784564b98affb41c01b79c972-0-33\" class=\"displacy-label\" startOffset=\"50%\" side=\"left\" fill=\"currentColor\" text-anchor=\"middle\">dobj</textPath>\n    </text>\n    <path class=\"displacy-arrowhead\" d=\"M5985.0,354.0 L5993.0,342.0 5977.0,342.0\" fill=\"currentColor\"/>\n</g>\n</svg></span>"
     },
     "metadata": {},
     "output_type": "display_data"
    }
   ],
   "source": [
    "analyzer = AspectSentimentAnalyzer(data[index].text, data[index]['aspect_terms'], debug=True)\n",
    "analyzer.show_dependency_tree()"
   ],
   "metadata": {
    "collapsed": false,
    "ExecuteTime": {
     "end_time": "2023-06-22T11:20:51.855957Z",
     "start_time": "2023-06-22T11:20:51.583787Z"
    }
   }
  },
  {
   "cell_type": "code",
   "execution_count": 27,
   "outputs": [
    {
     "name": "stdout",
     "output_type": "stream",
     "text": [
      "They nsubj have VERB []\n",
      "did aux have VERB []\n",
      "not neg have VERB []\n",
      "mayonnaise dobj have VERB []\n",
      ", punct have VERB []\n",
      "forgot conj have VERB [toast, ,, left]\n",
      "toast dobj forgot VERB [our]\n",
      ", punct forgot VERB []\n",
      "left conj forgot VERB [out, ingredients]\n",
      "was conj have VERB [cooked]\n",
      "cooked acomp was AUX [over, crumbled]\n",
      "rule2 touched for mayonnaise\n",
      ". punct have VERB []\n",
      "rule 7 ele : have\n",
      "They nsubj have VERB []\n",
      "did aux have VERB []\n",
      "not neg have VERB []\n",
      "mayonnaise dobj have VERB []\n",
      "rule7 touched for mayonnaise\n",
      ", punct have VERB []\n",
      "forgot conj have VERB [toast, ,, left]\n",
      "toast dobj forgot VERB [our]\n",
      "rule7 touched for mayonnaise\n",
      "our poss toast NOUN []\n",
      ", punct forgot VERB []\n",
      "left conj forgot VERB [out, ingredients]\n",
      "out prt left VERB []\n",
      "ingredients dobj left VERB [(, cheese, ,, below]\n",
      "rule7 touched for mayonnaise\n",
      "was conj have VERB [cooked]\n",
      "cooked acomp was AUX [over, crumbled]\n",
      "over advmod cooked VERB [so]\n",
      "crumbled ccomp cooked VERB [it, on, touched]\n",
      ". punct have VERB []\n",
      "rule 8 ele : have\n",
      "They nsubj have VERB []\n",
      "did aux have VERB []\n",
      "not neg have VERB []\n",
      "rule8 touched for mayonnaise\n",
      "mayonnaise dobj have VERB []\n",
      ", punct have VERB []\n",
      "forgot conj have VERB [toast, ,, left]\n",
      "was conj have VERB [cooked]\n",
      ". punct have VERB []\n",
      "our poss toast NOUN []\n",
      "toast dobj forgot VERB [our]\n",
      "our poss toast NOUN []\n",
      ", punct forgot VERB []\n",
      "left conj forgot VERB [out, ingredients]\n",
      "out prt left VERB []\n",
      "ingredients dobj left VERB [(, cheese, ,, below]\n",
      "our poss toast NOUN []\n",
      "our poss toast NOUN []\n",
      "rule 7 ele : have\n",
      "They nsubj have VERB []\n",
      "did aux have VERB []\n",
      "not neg have VERB []\n",
      "mayonnaise dobj have VERB []\n",
      "rule7 touched for toast\n",
      ", punct have VERB []\n",
      "forgot conj have VERB [toast, ,, left]\n",
      "toast dobj forgot VERB [our]\n",
      "rule7 touched for toast\n",
      "our poss toast NOUN []\n",
      ", punct forgot VERB []\n",
      "left conj forgot VERB [out, ingredients]\n",
      "out prt left VERB []\n",
      "ingredients dobj left VERB [(, cheese, ,, below]\n",
      "rule7 touched for toast\n",
      "was conj have VERB [cooked]\n",
      "cooked acomp was AUX [over, crumbled]\n",
      "over advmod cooked VERB [so]\n",
      "crumbled ccomp cooked VERB [it, on, touched]\n",
      ". punct have VERB []\n",
      "rule 8 ele : have\n",
      "They nsubj have VERB []\n",
      "did aux have VERB []\n",
      "not neg have VERB []\n",
      "rule8 touched for toast\n",
      "mayonnaise dobj have VERB []\n",
      ", punct have VERB []\n",
      "forgot conj have VERB [toast, ,, left]\n",
      "was conj have VERB [cooked]\n",
      ". punct have VERB []\n",
      "( punct ingredients NOUN []\n",
      "cheese appos ingredients NOUN [ie, in, )]\n",
      ", punct ingredients NOUN []\n",
      "below prep ingredients NOUN [temperatures]\n",
      "out prt left VERB []\n",
      "ingredients dobj left VERB [(, cheese, ,, below]\n",
      "( punct ingredients NOUN []\n",
      "cheese appos ingredients NOUN [ie, in, )]\n",
      ", punct ingredients NOUN []\n",
      "below prep ingredients NOUN [temperatures]\n",
      "( punct ingredients NOUN []\n",
      "cheese appos ingredients NOUN [ie, in, )]\n",
      ", punct ingredients NOUN []\n",
      "below prep ingredients NOUN [temperatures]\n",
      "( punct ingredients NOUN []\n",
      "cheese appos ingredients NOUN [ie, in, )]\n",
      ", punct ingredients NOUN []\n",
      "below prep ingredients NOUN [temperatures]\n",
      "rule 7 ele : forgot\n",
      "toast dobj forgot VERB [our]\n",
      "rule7 touched for ingredients\n",
      "our poss toast NOUN []\n",
      ", punct forgot VERB []\n",
      "left conj forgot VERB [out, ingredients]\n",
      "out prt left VERB []\n",
      "ingredients dobj left VERB [(, cheese, ,, below]\n",
      "rule7 touched for ingredients\n",
      "( punct ingredients NOUN []\n",
      "cheese appos ingredients NOUN [ie, in, )]\n",
      ", punct ingredients NOUN []\n",
      "below prep ingredients NOUN [temperatures]\n",
      "rule 8 ele : have\n",
      "They nsubj have VERB []\n",
      "did aux have VERB []\n",
      "not neg have VERB []\n",
      "rule8 touched for ingredients\n",
      "mayonnaise dobj have VERB []\n",
      ", punct have VERB []\n",
      "forgot conj have VERB [toast, ,, left]\n",
      "was conj have VERB [cooked]\n",
      ". punct have VERB []\n",
      "ie amod cheese NOUN []\n",
      "rule1 touched for cheese\n",
      "in prep cheese NOUN [omelet]\n",
      ") punct cheese NOUN []\n",
      "( punct ingredients NOUN []\n",
      "cheese appos ingredients NOUN [ie, in, )]\n",
      "ie amod cheese NOUN []\n",
      "in prep cheese NOUN [omelet]\n",
      ") punct cheese NOUN []\n",
      ", punct ingredients NOUN []\n",
      "below prep ingredients NOUN [temperatures]\n",
      "temperatures pobj below ADP [hot, and, bacon]\n",
      "ie amod cheese NOUN []\n",
      "in prep cheese NOUN [omelet]\n",
      ") punct cheese NOUN []\n",
      "ie amod cheese NOUN []\n",
      "in prep cheese NOUN [omelet]\n",
      ") punct cheese NOUN []\n",
      "rule 7 ele : left\n",
      "out prt left VERB []\n",
      "ingredients dobj left VERB [(, cheese, ,, below]\n",
      "rule7 touched for cheese\n",
      "( punct ingredients NOUN []\n",
      "cheese appos ingredients NOUN [ie, in, )]\n",
      "ie amod cheese NOUN []\n",
      "rule7 touched for cheese\n",
      "in prep cheese NOUN [omelet]\n",
      ") punct cheese NOUN []\n",
      ", punct ingredients NOUN []\n",
      "below prep ingredients NOUN [temperatures]\n",
      "temperatures pobj below ADP [hot, and, bacon]\n",
      "rule 8 ele : forgot\n",
      "toast dobj forgot VERB [our]\n",
      ", punct forgot VERB []\n",
      "left conj forgot VERB [out, ingredients]\n",
      "an det omelet NOUN []\n",
      "omelet pobj in ADP [an]\n",
      "an det omelet NOUN []\n",
      "an det omelet NOUN []\n",
      "an det omelet NOUN []\n",
      "rule 7 ele : cheese\n",
      "ie amod cheese NOUN []\n",
      "rule7 touched for omelet\n",
      "in prep cheese NOUN [omelet]\n",
      "omelet pobj in ADP [an]\n",
      "an det omelet NOUN []\n",
      ") punct cheese NOUN []\n",
      "rule 8 ele : ingredients\n",
      "( punct ingredients NOUN []\n",
      "cheese appos ingredients NOUN [ie, in, )]\n",
      ", punct ingredients NOUN []\n",
      "below prep ingredients NOUN [temperatures]\n",
      "the det bacon NOUN []\n",
      "hot amod temperatures NOUN []\n",
      "and cc temperatures NOUN []\n",
      "bacon conj temperatures NOUN [the]\n",
      "the det bacon NOUN []\n",
      "the det bacon NOUN []\n",
      "the det bacon NOUN []\n",
      "rule 7 ele : below\n",
      "temperatures pobj below ADP [hot, and, bacon]\n",
      "hot amod temperatures NOUN []\n",
      "rule7 touched for bacon\n",
      "and cc temperatures NOUN []\n",
      "bacon conj temperatures NOUN [the]\n",
      "the det bacon NOUN []\n",
      "rule 8 ele : ingredients\n",
      "( punct ingredients NOUN []\n",
      "cheese appos ingredients NOUN [ie, in, )]\n",
      ", punct ingredients NOUN []\n",
      "below prep ingredients NOUN [temperatures]\n",
      "the det plate NOUN []\n",
      "plate pobj on ADP [the]\n",
      "the det plate NOUN []\n",
      "the det plate NOUN []\n",
      "the det plate NOUN []\n",
      "rule 7 ele : crumbled\n",
      "it nsubj crumbled VERB []\n",
      "on prep crumbled VERB [plate]\n",
      "plate pobj on ADP [the]\n",
      "the det plate NOUN []\n",
      "touched advcl crumbled VERB [when, you, it]\n",
      "when advmod touched VERB []\n",
      "you nsubj touched VERB []\n",
      "it dobj touched VERB []\n",
      "rule7 touched for plate\n",
      "rule 8 ele : cooked\n",
      "over advmod cooked VERB [so]\n",
      "crumbled ccomp cooked VERB [it, on, touched]\n"
     ]
    },
    {
     "data": {
      "text/plain": "{'mayonnaise': -1,\n 'toast': -1,\n 'ingredients': -1,\n 'cheese': 0,\n 'omelet': 0,\n 'bacon': 1,\n 'plate': 0}"
     },
     "execution_count": 27,
     "metadata": {},
     "output_type": "execute_result"
    }
   ],
   "source": [
    "analyzer.analyze()"
   ],
   "metadata": {
    "collapsed": false,
    "ExecuteTime": {
     "end_time": "2023-06-22T11:20:52.991491Z",
     "start_time": "2023-06-22T11:20:52.976752Z"
    }
   }
  },
  {
   "cell_type": "markdown",
   "source": [
    "## 2.5 Case 4"
   ],
   "metadata": {
    "collapsed": false
   }
  },
  {
   "cell_type": "code",
   "execution_count": 92,
   "outputs": [
    {
     "data": {
      "text/plain": "{'id': '2200',\n 'text': 'The design and atmosphere is just as good.',\n 'aspect_terms': [{'term': 'design',\n   'polarity': 'positive',\n   'from': '4',\n   'to': '10'},\n  {'term': 'atmosphere', 'polarity': 'positive', 'from': '15', 'to': '25'}],\n 'aspect_categories': [{'category': 'ambience', 'polarity': 'positive'}],\n 'words': ['But', 'the', 'staff', 'was', 'so', 'horrible', 'to', 'us.'],\n 'mask': [False, False, True, False, False, False, False, False]}"
     },
     "execution_count": 92,
     "metadata": {},
     "output_type": "execute_result"
    }
   ],
   "source": [
    "index = 12\n",
    "data[index]"
   ],
   "metadata": {
    "collapsed": false,
    "ExecuteTime": {
     "end_time": "2023-06-22T12:37:04.428071Z",
     "start_time": "2023-06-22T12:37:04.388877Z"
    }
   }
  },
  {
   "cell_type": "code",
   "execution_count": 93,
   "outputs": [
    {
     "data": {
      "text/plain": "<IPython.core.display.HTML object>",
      "text/html": "<span class=\"tex2jax_ignore\"><svg xmlns=\"http://www.w3.org/2000/svg\" xmlns:xlink=\"http://www.w3.org/1999/xlink\" xml:lang=\"en\" id=\"2bc49919c7c045298140845c0e56cea8-0\" class=\"displacy\" width=\"1450\" height=\"399.5\" direction=\"ltr\" style=\"max-width: none; height: 399.5px; color: #000000; background: #ffffff; font-family: Arial; direction: ltr\">\n<text class=\"displacy-token\" fill=\"currentColor\" text-anchor=\"middle\" y=\"309.5\">\n    <tspan class=\"displacy-word\" fill=\"currentColor\" x=\"50\">The</tspan>\n    <tspan class=\"displacy-tag\" dy=\"2em\" fill=\"currentColor\" x=\"50\">DET</tspan>\n</text>\n\n<text class=\"displacy-token\" fill=\"currentColor\" text-anchor=\"middle\" y=\"309.5\">\n    <tspan class=\"displacy-word\" fill=\"currentColor\" x=\"225\">design</tspan>\n    <tspan class=\"displacy-tag\" dy=\"2em\" fill=\"currentColor\" x=\"225\">NOUN</tspan>\n</text>\n\n<text class=\"displacy-token\" fill=\"currentColor\" text-anchor=\"middle\" y=\"309.5\">\n    <tspan class=\"displacy-word\" fill=\"currentColor\" x=\"400\">and</tspan>\n    <tspan class=\"displacy-tag\" dy=\"2em\" fill=\"currentColor\" x=\"400\">CCONJ</tspan>\n</text>\n\n<text class=\"displacy-token\" fill=\"currentColor\" text-anchor=\"middle\" y=\"309.5\">\n    <tspan class=\"displacy-word\" fill=\"currentColor\" x=\"575\">atmosphere</tspan>\n    <tspan class=\"displacy-tag\" dy=\"2em\" fill=\"currentColor\" x=\"575\">NOUN</tspan>\n</text>\n\n<text class=\"displacy-token\" fill=\"currentColor\" text-anchor=\"middle\" y=\"309.5\">\n    <tspan class=\"displacy-word\" fill=\"currentColor\" x=\"750\">is</tspan>\n    <tspan class=\"displacy-tag\" dy=\"2em\" fill=\"currentColor\" x=\"750\">AUX</tspan>\n</text>\n\n<text class=\"displacy-token\" fill=\"currentColor\" text-anchor=\"middle\" y=\"309.5\">\n    <tspan class=\"displacy-word\" fill=\"currentColor\" x=\"925\">just</tspan>\n    <tspan class=\"displacy-tag\" dy=\"2em\" fill=\"currentColor\" x=\"925\">ADV</tspan>\n</text>\n\n<text class=\"displacy-token\" fill=\"currentColor\" text-anchor=\"middle\" y=\"309.5\">\n    <tspan class=\"displacy-word\" fill=\"currentColor\" x=\"1100\">as</tspan>\n    <tspan class=\"displacy-tag\" dy=\"2em\" fill=\"currentColor\" x=\"1100\">ADV</tspan>\n</text>\n\n<text class=\"displacy-token\" fill=\"currentColor\" text-anchor=\"middle\" y=\"309.5\">\n    <tspan class=\"displacy-word\" fill=\"currentColor\" x=\"1275\">good.</tspan>\n    <tspan class=\"displacy-tag\" dy=\"2em\" fill=\"currentColor\" x=\"1275\">ADJ</tspan>\n</text>\n\n<g class=\"displacy-arrow\">\n    <path class=\"displacy-arc\" id=\"arrow-2bc49919c7c045298140845c0e56cea8-0-0\" stroke-width=\"2px\" d=\"M70,264.5 C70,177.0 215.0,177.0 215.0,264.5\" fill=\"none\" stroke=\"currentColor\"/>\n    <text dy=\"1.25em\" style=\"font-size: 0.8em; letter-spacing: 1px\">\n        <textPath xlink:href=\"#arrow-2bc49919c7c045298140845c0e56cea8-0-0\" class=\"displacy-label\" startOffset=\"50%\" side=\"left\" fill=\"currentColor\" text-anchor=\"middle\">det</textPath>\n    </text>\n    <path class=\"displacy-arrowhead\" d=\"M70,266.5 L62,254.5 78,254.5\" fill=\"currentColor\"/>\n</g>\n\n<g class=\"displacy-arrow\">\n    <path class=\"displacy-arc\" id=\"arrow-2bc49919c7c045298140845c0e56cea8-0-1\" stroke-width=\"2px\" d=\"M245,264.5 C245,2.0 750.0,2.0 750.0,264.5\" fill=\"none\" stroke=\"currentColor\"/>\n    <text dy=\"1.25em\" style=\"font-size: 0.8em; letter-spacing: 1px\">\n        <textPath xlink:href=\"#arrow-2bc49919c7c045298140845c0e56cea8-0-1\" class=\"displacy-label\" startOffset=\"50%\" side=\"left\" fill=\"currentColor\" text-anchor=\"middle\">nsubj</textPath>\n    </text>\n    <path class=\"displacy-arrowhead\" d=\"M245,266.5 L237,254.5 253,254.5\" fill=\"currentColor\"/>\n</g>\n\n<g class=\"displacy-arrow\">\n    <path class=\"displacy-arc\" id=\"arrow-2bc49919c7c045298140845c0e56cea8-0-2\" stroke-width=\"2px\" d=\"M245,264.5 C245,177.0 390.0,177.0 390.0,264.5\" fill=\"none\" stroke=\"currentColor\"/>\n    <text dy=\"1.25em\" style=\"font-size: 0.8em; letter-spacing: 1px\">\n        <textPath xlink:href=\"#arrow-2bc49919c7c045298140845c0e56cea8-0-2\" class=\"displacy-label\" startOffset=\"50%\" side=\"left\" fill=\"currentColor\" text-anchor=\"middle\">cc</textPath>\n    </text>\n    <path class=\"displacy-arrowhead\" d=\"M390.0,266.5 L398.0,254.5 382.0,254.5\" fill=\"currentColor\"/>\n</g>\n\n<g class=\"displacy-arrow\">\n    <path class=\"displacy-arc\" id=\"arrow-2bc49919c7c045298140845c0e56cea8-0-3\" stroke-width=\"2px\" d=\"M245,264.5 C245,89.5 570.0,89.5 570.0,264.5\" fill=\"none\" stroke=\"currentColor\"/>\n    <text dy=\"1.25em\" style=\"font-size: 0.8em; letter-spacing: 1px\">\n        <textPath xlink:href=\"#arrow-2bc49919c7c045298140845c0e56cea8-0-3\" class=\"displacy-label\" startOffset=\"50%\" side=\"left\" fill=\"currentColor\" text-anchor=\"middle\">conj</textPath>\n    </text>\n    <path class=\"displacy-arrowhead\" d=\"M570.0,266.5 L578.0,254.5 562.0,254.5\" fill=\"currentColor\"/>\n</g>\n\n<g class=\"displacy-arrow\">\n    <path class=\"displacy-arc\" id=\"arrow-2bc49919c7c045298140845c0e56cea8-0-4\" stroke-width=\"2px\" d=\"M945,264.5 C945,89.5 1270.0,89.5 1270.0,264.5\" fill=\"none\" stroke=\"currentColor\"/>\n    <text dy=\"1.25em\" style=\"font-size: 0.8em; letter-spacing: 1px\">\n        <textPath xlink:href=\"#arrow-2bc49919c7c045298140845c0e56cea8-0-4\" class=\"displacy-label\" startOffset=\"50%\" side=\"left\" fill=\"currentColor\" text-anchor=\"middle\">advmod</textPath>\n    </text>\n    <path class=\"displacy-arrowhead\" d=\"M945,266.5 L937,254.5 953,254.5\" fill=\"currentColor\"/>\n</g>\n\n<g class=\"displacy-arrow\">\n    <path class=\"displacy-arc\" id=\"arrow-2bc49919c7c045298140845c0e56cea8-0-5\" stroke-width=\"2px\" d=\"M1120,264.5 C1120,177.0 1265.0,177.0 1265.0,264.5\" fill=\"none\" stroke=\"currentColor\"/>\n    <text dy=\"1.25em\" style=\"font-size: 0.8em; letter-spacing: 1px\">\n        <textPath xlink:href=\"#arrow-2bc49919c7c045298140845c0e56cea8-0-5\" class=\"displacy-label\" startOffset=\"50%\" side=\"left\" fill=\"currentColor\" text-anchor=\"middle\">advmod</textPath>\n    </text>\n    <path class=\"displacy-arrowhead\" d=\"M1120,266.5 L1112,254.5 1128,254.5\" fill=\"currentColor\"/>\n</g>\n\n<g class=\"displacy-arrow\">\n    <path class=\"displacy-arc\" id=\"arrow-2bc49919c7c045298140845c0e56cea8-0-6\" stroke-width=\"2px\" d=\"M770,264.5 C770,2.0 1275.0,2.0 1275.0,264.5\" fill=\"none\" stroke=\"currentColor\"/>\n    <text dy=\"1.25em\" style=\"font-size: 0.8em; letter-spacing: 1px\">\n        <textPath xlink:href=\"#arrow-2bc49919c7c045298140845c0e56cea8-0-6\" class=\"displacy-label\" startOffset=\"50%\" side=\"left\" fill=\"currentColor\" text-anchor=\"middle\">acomp</textPath>\n    </text>\n    <path class=\"displacy-arrowhead\" d=\"M1275.0,266.5 L1283.0,254.5 1267.0,254.5\" fill=\"currentColor\"/>\n</g>\n</svg></span>"
     },
     "metadata": {},
     "output_type": "display_data"
    }
   ],
   "source": [
    "analyzer = AspectSentimentAnalyzer(data[index].text, data[index]['aspect_terms'], debug=True)\n",
    "analyzer.show_dependency_tree()"
   ],
   "metadata": {
    "collapsed": false,
    "ExecuteTime": {
     "end_time": "2023-06-22T12:37:05.104141Z",
     "start_time": "2023-06-22T12:37:04.902647Z"
    }
   }
  },
  {
   "cell_type": "code",
   "execution_count": 94,
   "outputs": [
    {
     "name": "stdout",
     "output_type": "stream",
     "text": [
      "The det design NOUN []\n",
      "and cc design NOUN []\n",
      "atmosphere conj design NOUN []\n",
      "design nsubj is AUX [The, and, atmosphere]\n",
      "The det design NOUN []\n",
      "and cc design NOUN []\n",
      "atmosphere conj design NOUN []\n",
      "good acomp is AUX [just, as]\n",
      "rule2 touched for design\n",
      "rule touched for design with value 0.7\n",
      "just advmod good ADJ []\n",
      "as advmod good ADJ []\n",
      ". punct is AUX []\n",
      "The det design NOUN []\n",
      "and cc design NOUN []\n",
      "atmosphere conj design NOUN []\n",
      "The det design NOUN []\n",
      "and cc design NOUN []\n",
      "atmosphere conj design NOUN []\n",
      "rule5 touched for design\n",
      "rule touched for design with value 0.0\n",
      "rule 7 ele : is\n",
      "design nsubj is AUX [The, and, atmosphere]\n",
      "The det design NOUN []\n",
      "and cc design NOUN []\n",
      "atmosphere conj design NOUN []\n",
      "good acomp is AUX [just, as]\n",
      "just advmod good ADJ []\n",
      "as advmod good ADJ []\n",
      ". punct is AUX []\n",
      "rule 8 ele : is\n",
      "design nsubj is AUX [The, and, atmosphere]\n",
      "good acomp is AUX [just, as]\n",
      ". punct is AUX []\n",
      "rule 9 ele : is\n",
      "design nsubj is AUX [The, and, atmosphere]\n",
      "good acomp is AUX [just, as]\n",
      "rule9 touched for design\n",
      "rule touched for design with value 0.7\n",
      "just advmod good ADJ []\n",
      "as advmod good ADJ []\n",
      ". punct is AUX []\n",
      "The det design NOUN []\n",
      "and cc design NOUN []\n",
      "atmosphere conj design NOUN []\n",
      "rule 7 ele : is\n",
      "design nsubj is AUX [The, and, atmosphere]\n",
      "The det design NOUN []\n",
      "and cc design NOUN []\n",
      "atmosphere conj design NOUN []\n",
      "good acomp is AUX [just, as]\n",
      "just advmod good ADJ []\n",
      "as advmod good ADJ []\n",
      ". punct is AUX []\n",
      "rule 8 ele : is\n",
      "design nsubj is AUX [The, and, atmosphere]\n",
      "good acomp is AUX [just, as]\n",
      ". punct is AUX []\n",
      "rule 9 ele : is\n",
      "design nsubj is AUX [The, and, atmosphere]\n",
      "good acomp is AUX [just, as]\n",
      "rule9 touched for atmosphere\n",
      "rule touched for atmosphere with value 0.7\n",
      "just advmod good ADJ []\n",
      "as advmod good ADJ []\n",
      ". punct is AUX []\n"
     ]
    },
    {
     "data": {
      "text/plain": "{'design': 1.4, 'atmosphere': 0.7}"
     },
     "execution_count": 94,
     "metadata": {},
     "output_type": "execute_result"
    }
   ],
   "source": [
    "analyzer.analyze()"
   ],
   "metadata": {
    "collapsed": false,
    "ExecuteTime": {
     "end_time": "2023-06-22T12:37:06.001380Z",
     "start_time": "2023-06-22T12:37:05.900994Z"
    }
   }
  },
  {
   "cell_type": "markdown",
   "source": [
    "## 2.6 Case 5"
   ],
   "metadata": {
    "collapsed": false
   }
  },
  {
   "cell_type": "code",
   "execution_count": 119,
   "outputs": [
    {
     "data": {
      "text/plain": "{'id': '3195',\n 'text': 'He has visited Thailand and is quite expert on the cuisine.',\n 'aspect_terms': [{'term': 'cuisine',\n   'polarity': 'positive',\n   'from': '51',\n   'to': '58'}],\n 'aspect_categories': [{'category': 'food', 'polarity': 'positive'}],\n 'words': ['But', 'the', 'staff', 'was', 'so', 'horrible', 'to', 'us.'],\n 'mask': [False, False, True, False, False, False, False, False]}"
     },
     "execution_count": 119,
     "metadata": {},
     "output_type": "execute_result"
    }
   ],
   "source": [
    "index = 13\n",
    "data[index]"
   ],
   "metadata": {
    "collapsed": false,
    "ExecuteTime": {
     "end_time": "2023-06-22T12:46:33.328740Z",
     "start_time": "2023-06-22T12:46:33.287814Z"
    }
   }
  },
  {
   "cell_type": "code",
   "execution_count": 120,
   "outputs": [
    {
     "data": {
      "text/plain": "<IPython.core.display.HTML object>",
      "text/html": "<span class=\"tex2jax_ignore\"><svg xmlns=\"http://www.w3.org/2000/svg\" xmlns:xlink=\"http://www.w3.org/1999/xlink\" xml:lang=\"en\" id=\"1c2e875d73694359a70fd7211357f344-0\" class=\"displacy\" width=\"1975\" height=\"399.5\" direction=\"ltr\" style=\"max-width: none; height: 399.5px; color: #000000; background: #ffffff; font-family: Arial; direction: ltr\">\n<text class=\"displacy-token\" fill=\"currentColor\" text-anchor=\"middle\" y=\"309.5\">\n    <tspan class=\"displacy-word\" fill=\"currentColor\" x=\"50\">He</tspan>\n    <tspan class=\"displacy-tag\" dy=\"2em\" fill=\"currentColor\" x=\"50\">PRON</tspan>\n</text>\n\n<text class=\"displacy-token\" fill=\"currentColor\" text-anchor=\"middle\" y=\"309.5\">\n    <tspan class=\"displacy-word\" fill=\"currentColor\" x=\"225\">has</tspan>\n    <tspan class=\"displacy-tag\" dy=\"2em\" fill=\"currentColor\" x=\"225\">AUX</tspan>\n</text>\n\n<text class=\"displacy-token\" fill=\"currentColor\" text-anchor=\"middle\" y=\"309.5\">\n    <tspan class=\"displacy-word\" fill=\"currentColor\" x=\"400\">visited</tspan>\n    <tspan class=\"displacy-tag\" dy=\"2em\" fill=\"currentColor\" x=\"400\">VERB</tspan>\n</text>\n\n<text class=\"displacy-token\" fill=\"currentColor\" text-anchor=\"middle\" y=\"309.5\">\n    <tspan class=\"displacy-word\" fill=\"currentColor\" x=\"575\">Thailand</tspan>\n    <tspan class=\"displacy-tag\" dy=\"2em\" fill=\"currentColor\" x=\"575\">PROPN</tspan>\n</text>\n\n<text class=\"displacy-token\" fill=\"currentColor\" text-anchor=\"middle\" y=\"309.5\">\n    <tspan class=\"displacy-word\" fill=\"currentColor\" x=\"750\">and</tspan>\n    <tspan class=\"displacy-tag\" dy=\"2em\" fill=\"currentColor\" x=\"750\">CCONJ</tspan>\n</text>\n\n<text class=\"displacy-token\" fill=\"currentColor\" text-anchor=\"middle\" y=\"309.5\">\n    <tspan class=\"displacy-word\" fill=\"currentColor\" x=\"925\">is</tspan>\n    <tspan class=\"displacy-tag\" dy=\"2em\" fill=\"currentColor\" x=\"925\">AUX</tspan>\n</text>\n\n<text class=\"displacy-token\" fill=\"currentColor\" text-anchor=\"middle\" y=\"309.5\">\n    <tspan class=\"displacy-word\" fill=\"currentColor\" x=\"1100\">quite</tspan>\n    <tspan class=\"displacy-tag\" dy=\"2em\" fill=\"currentColor\" x=\"1100\">ADV</tspan>\n</text>\n\n<text class=\"displacy-token\" fill=\"currentColor\" text-anchor=\"middle\" y=\"309.5\">\n    <tspan class=\"displacy-word\" fill=\"currentColor\" x=\"1275\">expert</tspan>\n    <tspan class=\"displacy-tag\" dy=\"2em\" fill=\"currentColor\" x=\"1275\">NOUN</tspan>\n</text>\n\n<text class=\"displacy-token\" fill=\"currentColor\" text-anchor=\"middle\" y=\"309.5\">\n    <tspan class=\"displacy-word\" fill=\"currentColor\" x=\"1450\">on</tspan>\n    <tspan class=\"displacy-tag\" dy=\"2em\" fill=\"currentColor\" x=\"1450\">ADP</tspan>\n</text>\n\n<text class=\"displacy-token\" fill=\"currentColor\" text-anchor=\"middle\" y=\"309.5\">\n    <tspan class=\"displacy-word\" fill=\"currentColor\" x=\"1625\">the</tspan>\n    <tspan class=\"displacy-tag\" dy=\"2em\" fill=\"currentColor\" x=\"1625\">DET</tspan>\n</text>\n\n<text class=\"displacy-token\" fill=\"currentColor\" text-anchor=\"middle\" y=\"309.5\">\n    <tspan class=\"displacy-word\" fill=\"currentColor\" x=\"1800\">cuisine.</tspan>\n    <tspan class=\"displacy-tag\" dy=\"2em\" fill=\"currentColor\" x=\"1800\">NOUN</tspan>\n</text>\n\n<g class=\"displacy-arrow\">\n    <path class=\"displacy-arc\" id=\"arrow-1c2e875d73694359a70fd7211357f344-0-0\" stroke-width=\"2px\" d=\"M70,264.5 C70,89.5 395.0,89.5 395.0,264.5\" fill=\"none\" stroke=\"currentColor\"/>\n    <text dy=\"1.25em\" style=\"font-size: 0.8em; letter-spacing: 1px\">\n        <textPath xlink:href=\"#arrow-1c2e875d73694359a70fd7211357f344-0-0\" class=\"displacy-label\" startOffset=\"50%\" side=\"left\" fill=\"currentColor\" text-anchor=\"middle\">nsubj</textPath>\n    </text>\n    <path class=\"displacy-arrowhead\" d=\"M70,266.5 L62,254.5 78,254.5\" fill=\"currentColor\"/>\n</g>\n\n<g class=\"displacy-arrow\">\n    <path class=\"displacy-arc\" id=\"arrow-1c2e875d73694359a70fd7211357f344-0-1\" stroke-width=\"2px\" d=\"M245,264.5 C245,177.0 390.0,177.0 390.0,264.5\" fill=\"none\" stroke=\"currentColor\"/>\n    <text dy=\"1.25em\" style=\"font-size: 0.8em; letter-spacing: 1px\">\n        <textPath xlink:href=\"#arrow-1c2e875d73694359a70fd7211357f344-0-1\" class=\"displacy-label\" startOffset=\"50%\" side=\"left\" fill=\"currentColor\" text-anchor=\"middle\">aux</textPath>\n    </text>\n    <path class=\"displacy-arrowhead\" d=\"M245,266.5 L237,254.5 253,254.5\" fill=\"currentColor\"/>\n</g>\n\n<g class=\"displacy-arrow\">\n    <path class=\"displacy-arc\" id=\"arrow-1c2e875d73694359a70fd7211357f344-0-2\" stroke-width=\"2px\" d=\"M420,264.5 C420,177.0 565.0,177.0 565.0,264.5\" fill=\"none\" stroke=\"currentColor\"/>\n    <text dy=\"1.25em\" style=\"font-size: 0.8em; letter-spacing: 1px\">\n        <textPath xlink:href=\"#arrow-1c2e875d73694359a70fd7211357f344-0-2\" class=\"displacy-label\" startOffset=\"50%\" side=\"left\" fill=\"currentColor\" text-anchor=\"middle\">dobj</textPath>\n    </text>\n    <path class=\"displacy-arrowhead\" d=\"M565.0,266.5 L573.0,254.5 557.0,254.5\" fill=\"currentColor\"/>\n</g>\n\n<g class=\"displacy-arrow\">\n    <path class=\"displacy-arc\" id=\"arrow-1c2e875d73694359a70fd7211357f344-0-3\" stroke-width=\"2px\" d=\"M420,264.5 C420,89.5 745.0,89.5 745.0,264.5\" fill=\"none\" stroke=\"currentColor\"/>\n    <text dy=\"1.25em\" style=\"font-size: 0.8em; letter-spacing: 1px\">\n        <textPath xlink:href=\"#arrow-1c2e875d73694359a70fd7211357f344-0-3\" class=\"displacy-label\" startOffset=\"50%\" side=\"left\" fill=\"currentColor\" text-anchor=\"middle\">cc</textPath>\n    </text>\n    <path class=\"displacy-arrowhead\" d=\"M745.0,266.5 L753.0,254.5 737.0,254.5\" fill=\"currentColor\"/>\n</g>\n\n<g class=\"displacy-arrow\">\n    <path class=\"displacy-arc\" id=\"arrow-1c2e875d73694359a70fd7211357f344-0-4\" stroke-width=\"2px\" d=\"M420,264.5 C420,2.0 925.0,2.0 925.0,264.5\" fill=\"none\" stroke=\"currentColor\"/>\n    <text dy=\"1.25em\" style=\"font-size: 0.8em; letter-spacing: 1px\">\n        <textPath xlink:href=\"#arrow-1c2e875d73694359a70fd7211357f344-0-4\" class=\"displacy-label\" startOffset=\"50%\" side=\"left\" fill=\"currentColor\" text-anchor=\"middle\">conj</textPath>\n    </text>\n    <path class=\"displacy-arrowhead\" d=\"M925.0,266.5 L933.0,254.5 917.0,254.5\" fill=\"currentColor\"/>\n</g>\n\n<g class=\"displacy-arrow\">\n    <path class=\"displacy-arc\" id=\"arrow-1c2e875d73694359a70fd7211357f344-0-5\" stroke-width=\"2px\" d=\"M1120,264.5 C1120,177.0 1265.0,177.0 1265.0,264.5\" fill=\"none\" stroke=\"currentColor\"/>\n    <text dy=\"1.25em\" style=\"font-size: 0.8em; letter-spacing: 1px\">\n        <textPath xlink:href=\"#arrow-1c2e875d73694359a70fd7211357f344-0-5\" class=\"displacy-label\" startOffset=\"50%\" side=\"left\" fill=\"currentColor\" text-anchor=\"middle\">advmod</textPath>\n    </text>\n    <path class=\"displacy-arrowhead\" d=\"M1120,266.5 L1112,254.5 1128,254.5\" fill=\"currentColor\"/>\n</g>\n\n<g class=\"displacy-arrow\">\n    <path class=\"displacy-arc\" id=\"arrow-1c2e875d73694359a70fd7211357f344-0-6\" stroke-width=\"2px\" d=\"M945,264.5 C945,89.5 1270.0,89.5 1270.0,264.5\" fill=\"none\" stroke=\"currentColor\"/>\n    <text dy=\"1.25em\" style=\"font-size: 0.8em; letter-spacing: 1px\">\n        <textPath xlink:href=\"#arrow-1c2e875d73694359a70fd7211357f344-0-6\" class=\"displacy-label\" startOffset=\"50%\" side=\"left\" fill=\"currentColor\" text-anchor=\"middle\">attr</textPath>\n    </text>\n    <path class=\"displacy-arrowhead\" d=\"M1270.0,266.5 L1278.0,254.5 1262.0,254.5\" fill=\"currentColor\"/>\n</g>\n\n<g class=\"displacy-arrow\">\n    <path class=\"displacy-arc\" id=\"arrow-1c2e875d73694359a70fd7211357f344-0-7\" stroke-width=\"2px\" d=\"M1295,264.5 C1295,177.0 1440.0,177.0 1440.0,264.5\" fill=\"none\" stroke=\"currentColor\"/>\n    <text dy=\"1.25em\" style=\"font-size: 0.8em; letter-spacing: 1px\">\n        <textPath xlink:href=\"#arrow-1c2e875d73694359a70fd7211357f344-0-7\" class=\"displacy-label\" startOffset=\"50%\" side=\"left\" fill=\"currentColor\" text-anchor=\"middle\">prep</textPath>\n    </text>\n    <path class=\"displacy-arrowhead\" d=\"M1440.0,266.5 L1448.0,254.5 1432.0,254.5\" fill=\"currentColor\"/>\n</g>\n\n<g class=\"displacy-arrow\">\n    <path class=\"displacy-arc\" id=\"arrow-1c2e875d73694359a70fd7211357f344-0-8\" stroke-width=\"2px\" d=\"M1645,264.5 C1645,177.0 1790.0,177.0 1790.0,264.5\" fill=\"none\" stroke=\"currentColor\"/>\n    <text dy=\"1.25em\" style=\"font-size: 0.8em; letter-spacing: 1px\">\n        <textPath xlink:href=\"#arrow-1c2e875d73694359a70fd7211357f344-0-8\" class=\"displacy-label\" startOffset=\"50%\" side=\"left\" fill=\"currentColor\" text-anchor=\"middle\">det</textPath>\n    </text>\n    <path class=\"displacy-arrowhead\" d=\"M1645,266.5 L1637,254.5 1653,254.5\" fill=\"currentColor\"/>\n</g>\n\n<g class=\"displacy-arrow\">\n    <path class=\"displacy-arc\" id=\"arrow-1c2e875d73694359a70fd7211357f344-0-9\" stroke-width=\"2px\" d=\"M1470,264.5 C1470,89.5 1795.0,89.5 1795.0,264.5\" fill=\"none\" stroke=\"currentColor\"/>\n    <text dy=\"1.25em\" style=\"font-size: 0.8em; letter-spacing: 1px\">\n        <textPath xlink:href=\"#arrow-1c2e875d73694359a70fd7211357f344-0-9\" class=\"displacy-label\" startOffset=\"50%\" side=\"left\" fill=\"currentColor\" text-anchor=\"middle\">pobj</textPath>\n    </text>\n    <path class=\"displacy-arrowhead\" d=\"M1795.0,266.5 L1803.0,254.5 1787.0,254.5\" fill=\"currentColor\"/>\n</g>\n</svg></span>"
     },
     "metadata": {},
     "output_type": "display_data"
    }
   ],
   "source": [
    "analyzer = AspectSentimentAnalyzer(data[index].text, data[index]['aspect_terms'], debug=True)\n",
    "analyzer.show_dependency_tree()"
   ],
   "metadata": {
    "collapsed": false,
    "ExecuteTime": {
     "end_time": "2023-06-22T12:46:34.011292Z",
     "start_time": "2023-06-22T12:46:33.804728Z"
    }
   }
  },
  {
   "cell_type": "code",
   "execution_count": 121,
   "outputs": [
    {
     "name": "stdout",
     "output_type": "stream",
     "text": [
      "the det DET cuisine NOUN []\n",
      "cuisine pobj NOUN on ADP [the]\n",
      "the det DET cuisine NOUN []\n",
      "the det DET cuisine NOUN []\n",
      "the det DET cuisine NOUN []\n",
      "rule 7 ele : expert\n",
      "quite advmod ADV expert NOUN []\n",
      "on prep ADP expert NOUN [cuisine]\n",
      "cuisine pobj NOUN on ADP [the]\n",
      "the det DET cuisine NOUN []\n",
      "rule 8 ele : is\n",
      "expert attr NOUN is AUX [quite, on]\n",
      "rule 9 ele : expert\n",
      "quite advmod ADV expert NOUN []\n",
      "on prep ADP expert NOUN [cuisine]\n",
      "expert attr NOUN is AUX [quite, on]\n",
      "rule 10 ele : expert\n",
      "rule touched for cuisine with value 0.0\n",
      "expert attr NOUN is AUX [quite, on]\n",
      "rule 11 ele : expert\n",
      "rule touched for cuisine with value 0.0\n",
      "quite advmod ADV expert NOUN []\n",
      "rule11 touched for cuisine\n",
      "rule touched for cuisine with value 0.0\n",
      "on prep ADP expert NOUN [cuisine]\n"
     ]
    },
    {
     "data": {
      "text/plain": "{'cuisine': 0.0}"
     },
     "execution_count": 121,
     "metadata": {},
     "output_type": "execute_result"
    }
   ],
   "source": [
    "analyzer.analyze()"
   ],
   "metadata": {
    "collapsed": false,
    "ExecuteTime": {
     "end_time": "2023-06-22T12:46:34.501534Z",
     "start_time": "2023-06-22T12:46:34.458705Z"
    }
   }
  },
  {
   "cell_type": "markdown",
   "source": [
    "## 3. Evaluate"
   ],
   "metadata": {
    "collapsed": false
   }
  },
  {
   "cell_type": "code",
   "execution_count": 62,
   "outputs": [],
   "source": [
    "def calculate_precision(detected_true, detected):\n",
    "    return detected_true / detected if detected else 0\n",
    "\n",
    "\n",
    "def calculate_recall(detected_true, total):\n",
    "    return detected_true / total if total else 0\n",
    "\n",
    "\n",
    "def calculate_f1_score(precision, recall):\n",
    "    return (2 * precision * recall) / (precision + recall) if (precision + recall) else 0\n",
    "\n",
    "from tqdm.notebook import tqdm\n",
    "number_of_rules = 100\n",
    "def analyze_sentiment(analyzer, text, aspect_terms):\n",
    "    \"\"\"\n",
    "    Analyzes the sentiment of given text and aspect terms.\n",
    "\n",
    "    :param analyzer: An instance of AspectSentimentAnalyzer\n",
    "    :param text: The text to analyze\n",
    "    :param aspect_terms: The aspect terms for analysis\n",
    "    :return: A dictionary mapping aspect terms to sentiment scores\n",
    "    \"\"\"\n",
    "    # Get sentiment scores from the analyzer\n",
    "    out = analyzer.analyze(number_of_rules)\n",
    "\n",
    "    # Normalize sentiment scores to 1, -1, or 0\n",
    "    state = out.copy()\n",
    "    for s,v in state.items():\n",
    "        if abs(v) > 0:\n",
    "            state[s] = 1 if v > 0 else -1\n",
    "\n",
    "\n",
    "    return state\n",
    "\n",
    "\n",
    "from concurrent.futures import ThreadPoolExecutor\n",
    "\n",
    "def process_item(arg):\n",
    "    (d, target, target_sentiment, eval_class) = arg\n",
    "    \"\"\"\n",
    "    Process a single item from the dataset.\n",
    "    \"\"\"\n",
    "    # Initialize sentiment analyzer\n",
    "    analyzer = eval_class(d.text, d['aspect_terms'], debug=False)\n",
    "\n",
    "    # Analyze sentiment\n",
    "    state = analyze_sentiment(analyzer, d.text, d['aspect_terms'])\n",
    "\n",
    "    # Characters to check for in aspect terms\n",
    "    special_chars = {' ', '-'}\n",
    "\n",
    "    # Initialize counters for this item\n",
    "    pos = 0\n",
    "    fp = 0\n",
    "    tp = 0\n",
    "\n",
    "    # Loop through each aspect term in the data point\n",
    "    for term in d['aspect_terms']:\n",
    "        # Increment positive counter if aspect term has target sentiment\n",
    "        if term['polarity'] == target:\n",
    "            pos += 1\n",
    "\n",
    "        # If aspect term doesn't have spaces or hyphens and has the target sentiment\n",
    "        if not any(char in term['term'] for char in special_chars) and term['polarity'] == target:\n",
    "            # Increment false positive counter if state doesn't match target sentiment\n",
    "            if state.get(term['term'], -10) != target_sentiment:\n",
    "                fp += 1\n",
    "                break\n",
    "            else:\n",
    "                # Increment true positive counter\n",
    "                tp += 1\n",
    "\n",
    "    # Return counters for this item\n",
    "    return pos, fp, tp\n",
    "\n",
    "\n",
    "def evaluate(data, target=\"positive\", num_threads=16, eval_class=AspectSentimentAnalyzer):\n",
    "    \"\"\"\n",
    "    Evaluates the precision, recall, and f1 score of sentiment analysis on given data using multiple threads.\n",
    "    \"\"\"\n",
    "    # Ensure the target is a valid sentiment\n",
    "    assert target in [\"positive\", \"negative\", \"neutral\"], \"target must be either positive, negative, or neutral\"\n",
    "\n",
    "    # Initialize counters for true positives, false positives, and positive cases\n",
    "    counter = dict(\n",
    "        tp=0,\n",
    "        fp=0,\n",
    "        pos=0\n",
    "    )\n",
    "\n",
    "    # Dummy analyzer to get the sentiment map\n",
    "    dummy_analyzer = AspectSentimentAnalyzer(\"\", [], debug=False)\n",
    "    target_sentiment = dummy_analyzer.sentiment_map[target]\n",
    "\n",
    "    # # Use a thread pool to process items in parallel\n",
    "    # with ThreadPoolExecutor(max_workers=num_threads) as executor:\n",
    "    #     # Process each item and update counters\n",
    "    #     for pos, fp, tp in executor.map(lambda d: process_item(d, target, target_sentiment), data):\n",
    "    #         counter['pos'] += pos\n",
    "    #         counter['fp'] += fp\n",
    "    #         counter['tp'] += tp\n",
    "    out = []\n",
    "    args = [(d, target, target_sentiment, eval_class) for d in data]\n",
    "    if num_threads == 1:\n",
    "        for arg in tqdm(args):\n",
    "            out.append(process_item(arg))\n",
    "    else:\n",
    "        out = track_parallel_progress(process_item, args, num_threads)\n",
    "\n",
    "    for pos, fp, tp in out:\n",
    "        counter['pos'] += pos\n",
    "        counter['fp'] += fp\n",
    "        counter['tp'] += tp\n",
    "    # Calculate precision, recall, and f1 score\n",
    "    precision = calculate_precision(counter['tp'], counter['tp'] + counter['fp'])\n",
    "    recall = calculate_recall(counter['tp'], counter['pos'])\n",
    "    f1_score = calculate_f1_score(precision, recall)\n",
    "\n",
    "    # Return results as a dictionary\n",
    "    return dict(\n",
    "        precision=precision,\n",
    "        recall=recall,\n",
    "        f1_score=f1_score\n",
    "    )\n"
   ],
   "metadata": {
    "collapsed": false,
    "ExecuteTime": {
     "end_time": "2023-06-22T19:38:15.594815Z",
     "start_time": "2023-06-22T19:38:15.563128Z"
    }
   }
  },
  {
   "cell_type": "code",
   "execution_count": 98,
   "outputs": [
    {
     "name": "stdout",
     "output_type": "stream",
     "text": [
      "{'f1_score': 0.6165279429250893,\n",
      " 'precision': 0.7359829666430092,\n",
      " 'recall': 0.5304347826086957}\n"
     ]
    }
   ],
   "source": [
    "evaluate(data, target=\"positive\")"
   ],
   "metadata": {
    "collapsed": false,
    "ExecuteTime": {
     "end_time": "2023-06-23T10:52:48.485403Z",
     "start_time": "2023-06-23T10:52:48.438364Z"
    }
   }
  },
  {
   "cell_type": "code",
   "execution_count": 100,
   "outputs": [
    {
     "name": "stdout",
     "output_type": "stream",
     "text": [
      "{'f1_score': 0.544054747647562,\n",
      " 'precision': 0.6138996138996139,\n",
      " 'recall': 0.48847926267281105}\n"
     ]
    }
   ],
   "source": [
    "evaluate(data, target=\"negative\")"
   ],
   "metadata": {
    "collapsed": false,
    "ExecuteTime": {
     "end_time": "2023-06-23T10:53:29.834760Z",
     "start_time": "2023-06-23T10:53:29.767098Z"
    }
   }
  },
  {
   "cell_type": "code",
   "execution_count": 101,
   "outputs": [
    {
     "name": "stdout",
     "output_type": "stream",
     "text": [
      "{'f1_score': 0.5611650485436893,\n",
      " 'precision': 0.6465324384787472,\n",
      " 'recall': 0.4957118353344768}\n"
     ]
    }
   ],
   "source": [
    "evaluate(data, target=\"neutral\")"
   ],
   "metadata": {
    "collapsed": false,
    "ExecuteTime": {
     "end_time": "2023-06-23T10:53:48.996456Z",
     "start_time": "2023-06-23T10:53:48.926656Z"
    }
   }
  },
  {
   "cell_type": "code",
   "execution_count": 105,
   "outputs": [
    {
     "data": {
      "text/plain": "<Figure size 1000x600 with 1 Axes>",
      "image/png": "[encoded data removed]"
     },
     "metadata": {},
     "output_type": "display_data"
    }
   ],
   "source": [
    "import matplotlib.pyplot as plt\n",
    "import numpy as np\n",
    "\n",
    "data = {\n",
    "    'positive': {\n",
    "        'f1_score': 0.6165279429250893,\n",
    "        'precision': 0.7359829666430092,\n",
    "        'recall': 0.5304347826086957\n",
    "    },\n",
    "    'negative': {\n",
    "        'f1_score': 0.544054747647562,\n",
    "        'precision': 0.6138996138996139,\n",
    "        'recall': 0.48847926267281105\n",
    "    },\n",
    "    'neutral': {\n",
    "        'f1_score': 0.5611650485436893,\n",
    "        'precision': 0.6465324384787472,\n",
    "        'recall': 0.4957118353344768\n",
    "    }\n",
    "}\n",
    "\n",
    "labels = list(data.keys())\n",
    "scores = list(data.values())\n",
    "\n",
    "f1_scores = [score['f1_score'] for score in scores]\n",
    "precisions = [score['precision'] for score in scores]\n",
    "recalls = [score['recall'] for score in scores]\n",
    "\n",
    "x = np.arange(len(labels))\n",
    "width = 0.25\n",
    "\n",
    "fig, ax = plt.subplots(figsize=(10, 6))\n",
    "\n",
    "rects1 = ax.bar(x - width, f1_scores, width, label='F1-score')\n",
    "rects2 = ax.bar(x, precisions, width, label='Precision')\n",
    "rects3 = ax.bar(x + width, recalls, width, label='Recall')\n",
    "\n",
    "# Function to add labels on top of each bar\n",
    "def add_labels(rects):\n",
    "    for rect in rects:\n",
    "        height = rect.get_height()\n",
    "        ax.annotate(f'{height:.2f}', xy=(rect.get_x() + rect.get_width() / 2, height),\n",
    "                    xytext=(0, 3), textcoords=\"offset points\", ha='center', va='bottom')\n",
    "\n",
    "add_labels(rects1)\n",
    "add_labels(rects2)\n",
    "add_labels(rects3)\n",
    "\n",
    "ax.set_xlabel('Sentiment')\n",
    "ax.set_ylabel('Score')\n",
    "ax.set_title('Sentiment Analysis Evaluation')\n",
    "ax.set_xticks(x)\n",
    "ax.set_xticklabels(labels)\n",
    "ax.legend()\n",
    "\n",
    "fig.tight_layout()\n",
    "\n",
    "plt.show()\n"
   ],
   "metadata": {
    "collapsed": false,
    "ExecuteTime": {
     "end_time": "2023-06-23T10:56:15.401541Z",
     "start_time": "2023-06-23T10:56:15.276998Z"
    }
   }
  },
  {
   "cell_type": "code",
   "execution_count": 66,
   "outputs": [
    {
     "name": "stdout",
     "output_type": "stream",
     "text": [
      "Evaluating with 1 rules\n"
     ]
    },
    {
     "data": {
      "text/plain": "  0%|          | 0/2021 [00:00<?, ?it/s]",
      "application/vnd.jupyter.widget-view+json": {
       "version_major": 2,
       "version_minor": 0,
       "model_id": "d8bfeb3b5d934d8ca946813be59e53ad"
      }
     },
     "metadata": {},
     "output_type": "display_data"
    },
    {
     "data": {
      "text/plain": "  0%|          | 0/2021 [00:00<?, ?it/s]",
      "application/vnd.jupyter.widget-view+json": {
       "version_major": 2,
       "version_minor": 0,
       "model_id": "699a4eca6b8a4f008d75374e0483dc58"
      }
     },
     "metadata": {},
     "output_type": "display_data"
    },
    {
     "data": {
      "text/plain": "  0%|          | 0/2021 [00:00<?, ?it/s]",
      "application/vnd.jupyter.widget-view+json": {
       "version_major": 2,
       "version_minor": 0,
       "model_id": "74b221d0867d43e588b5f19505eba638"
      }
     },
     "metadata": {},
     "output_type": "display_data"
    },
    {
     "name": "stdout",
     "output_type": "stream",
     "text": [
      "Evaluating with 2 rules\n"
     ]
    },
    {
     "data": {
      "text/plain": "  0%|          | 0/2021 [00:00<?, ?it/s]",
      "application/vnd.jupyter.widget-view+json": {
       "version_major": 2,
       "version_minor": 0,
       "model_id": "6a01b59b644744c9b83df25acf1af733"
      }
     },
     "metadata": {},
     "output_type": "display_data"
    },
    {
     "data": {
      "text/plain": "  0%|          | 0/2021 [00:00<?, ?it/s]",
      "application/vnd.jupyter.widget-view+json": {
       "version_major": 2,
       "version_minor": 0,
       "model_id": "da59511a540542338f4e6e55e000e524"
      }
     },
     "metadata": {},
     "output_type": "display_data"
    },
    {
     "data": {
      "text/plain": "  0%|          | 0/2021 [00:00<?, ?it/s]",
      "application/vnd.jupyter.widget-view+json": {
       "version_major": 2,
       "version_minor": 0,
       "model_id": "c801b8f9a309471b8c6b9105b7bc86dd"
      }
     },
     "metadata": {},
     "output_type": "display_data"
    },
    {
     "name": "stdout",
     "output_type": "stream",
     "text": [
      "Evaluating with 3 rules\n"
     ]
    },
    {
     "data": {
      "text/plain": "  0%|          | 0/2021 [00:00<?, ?it/s]",
      "application/vnd.jupyter.widget-view+json": {
       "version_major": 2,
       "version_minor": 0,
       "model_id": "7d0f528b94484f8f9a8ad99901d0c92a"
      }
     },
     "metadata": {},
     "output_type": "display_data"
    },
    {
     "data": {
      "text/plain": "  0%|          | 0/2021 [00:00<?, ?it/s]",
      "application/vnd.jupyter.widget-view+json": {
       "version_major": 2,
       "version_minor": 0,
       "model_id": "8f30139246a94abc9db760e8247a6011"
      }
     },
     "metadata": {},
     "output_type": "display_data"
    },
    {
     "data": {
      "text/plain": "  0%|          | 0/2021 [00:00<?, ?it/s]",
      "application/vnd.jupyter.widget-view+json": {
       "version_major": 2,
       "version_minor": 0,
       "model_id": "383a62d344da47568b27edf77fdeb951"
      }
     },
     "metadata": {},
     "output_type": "display_data"
    },
    {
     "name": "stdout",
     "output_type": "stream",
     "text": [
      "Evaluating with 4 rules\n"
     ]
    },
    {
     "data": {
      "text/plain": "  0%|          | 0/2021 [00:00<?, ?it/s]",
      "application/vnd.jupyter.widget-view+json": {
       "version_major": 2,
       "version_minor": 0,
       "model_id": "a938e00df55740c392e925f474aafcad"
      }
     },
     "metadata": {},
     "output_type": "display_data"
    },
    {
     "data": {
      "text/plain": "  0%|          | 0/2021 [00:00<?, ?it/s]",
      "application/vnd.jupyter.widget-view+json": {
       "version_major": 2,
       "version_minor": 0,
       "model_id": "65a74e2703714f04b670043fa0edab7b"
      }
     },
     "metadata": {},
     "output_type": "display_data"
    },
    {
     "data": {
      "text/plain": "  0%|          | 0/2021 [00:00<?, ?it/s]",
      "application/vnd.jupyter.widget-view+json": {
       "version_major": 2,
       "version_minor": 0,
       "model_id": "b49b732547514938bdf4c1cc0beb5ef6"
      }
     },
     "metadata": {},
     "output_type": "display_data"
    },
    {
     "name": "stdout",
     "output_type": "stream",
     "text": [
      "Evaluating with 5 rules\n"
     ]
    },
    {
     "data": {
      "text/plain": "  0%|          | 0/2021 [00:00<?, ?it/s]",
      "application/vnd.jupyter.widget-view+json": {
       "version_major": 2,
       "version_minor": 0,
       "model_id": "d90e4123b79e4e3f85ac8d94394a9441"
      }
     },
     "metadata": {},
     "output_type": "display_data"
    },
    {
     "data": {
      "text/plain": "  0%|          | 0/2021 [00:00<?, ?it/s]",
      "application/vnd.jupyter.widget-view+json": {
       "version_major": 2,
       "version_minor": 0,
       "model_id": "60f5cf9e63f74be7a61babf43e7e4080"
      }
     },
     "metadata": {},
     "output_type": "display_data"
    },
    {
     "data": {
      "text/plain": "  0%|          | 0/2021 [00:00<?, ?it/s]",
      "application/vnd.jupyter.widget-view+json": {
       "version_major": 2,
       "version_minor": 0,
       "model_id": "fa77d3f66a984c57895531d05d218b35"
      }
     },
     "metadata": {},
     "output_type": "display_data"
    },
    {
     "name": "stdout",
     "output_type": "stream",
     "text": [
      "Evaluating with 6 rules\n"
     ]
    },
    {
     "data": {
      "text/plain": "  0%|          | 0/2021 [00:00<?, ?it/s]",
      "application/vnd.jupyter.widget-view+json": {
       "version_major": 2,
       "version_minor": 0,
       "model_id": "390468e6d4534511b358c5a5038a7c7e"
      }
     },
     "metadata": {},
     "output_type": "display_data"
    },
    {
     "data": {
      "text/plain": "  0%|          | 0/2021 [00:00<?, ?it/s]",
      "application/vnd.jupyter.widget-view+json": {
       "version_major": 2,
       "version_minor": 0,
       "model_id": "d19995e392ce4cd989015b7ba53b1571"
      }
     },
     "metadata": {},
     "output_type": "display_data"
    },
    {
     "data": {
      "text/plain": "  0%|          | 0/2021 [00:00<?, ?it/s]",
      "application/vnd.jupyter.widget-view+json": {
       "version_major": 2,
       "version_minor": 0,
       "model_id": "72f4ccecf2be41028ae592722bc3ad19"
      }
     },
     "metadata": {},
     "output_type": "display_data"
    },
    {
     "name": "stdout",
     "output_type": "stream",
     "text": [
      "Evaluating with 7 rules\n"
     ]
    },
    {
     "data": {
      "text/plain": "  0%|          | 0/2021 [00:00<?, ?it/s]",
      "application/vnd.jupyter.widget-view+json": {
       "version_major": 2,
       "version_minor": 0,
       "model_id": "72311c5346b54d9ea8ff30239ac33a36"
      }
     },
     "metadata": {},
     "output_type": "display_data"
    },
    {
     "data": {
      "text/plain": "  0%|          | 0/2021 [00:00<?, ?it/s]",
      "application/vnd.jupyter.widget-view+json": {
       "version_major": 2,
       "version_minor": 0,
       "model_id": "31ff8b0809964984b01b18935a4c1fe0"
      }
     },
     "metadata": {},
     "output_type": "display_data"
    },
    {
     "data": {
      "text/plain": "  0%|          | 0/2021 [00:00<?, ?it/s]",
      "application/vnd.jupyter.widget-view+json": {
       "version_major": 2,
       "version_minor": 0,
       "model_id": "2efb292d1bf0407d8bef921f9d0bdd15"
      }
     },
     "metadata": {},
     "output_type": "display_data"
    },
    {
     "name": "stdout",
     "output_type": "stream",
     "text": [
      "Evaluating with 8 rules\n"
     ]
    },
    {
     "data": {
      "text/plain": "  0%|          | 0/2021 [00:00<?, ?it/s]",
      "application/vnd.jupyter.widget-view+json": {
       "version_major": 2,
       "version_minor": 0,
       "model_id": "5289d3ae659644d484415f5468dda267"
      }
     },
     "metadata": {},
     "output_type": "display_data"
    },
    {
     "data": {
      "text/plain": "  0%|          | 0/2021 [00:00<?, ?it/s]",
      "application/vnd.jupyter.widget-view+json": {
       "version_major": 2,
       "version_minor": 0,
       "model_id": "30fa8e4a14434fcd90516134e708693b"
      }
     },
     "metadata": {},
     "output_type": "display_data"
    },
    {
     "data": {
      "text/plain": "  0%|          | 0/2021 [00:00<?, ?it/s]",
      "application/vnd.jupyter.widget-view+json": {
       "version_major": 2,
       "version_minor": 0,
       "model_id": "f2d52cd666f443d3bfa9527cb795f1af"
      }
     },
     "metadata": {},
     "output_type": "display_data"
    },
    {
     "name": "stdout",
     "output_type": "stream",
     "text": [
      "Evaluating with 9 rules\n"
     ]
    },
    {
     "data": {
      "text/plain": "  0%|          | 0/2021 [00:00<?, ?it/s]",
      "application/vnd.jupyter.widget-view+json": {
       "version_major": 2,
       "version_minor": 0,
       "model_id": "fdf02876088a4af1892931d181219b07"
      }
     },
     "metadata": {},
     "output_type": "display_data"
    },
    {
     "data": {
      "text/plain": "  0%|          | 0/2021 [00:00<?, ?it/s]",
      "application/vnd.jupyter.widget-view+json": {
       "version_major": 2,
       "version_minor": 0,
       "model_id": "14b12472ce62486f909094a927afbf4f"
      }
     },
     "metadata": {},
     "output_type": "display_data"
    },
    {
     "data": {
      "text/plain": "  0%|          | 0/2021 [00:00<?, ?it/s]",
      "application/vnd.jupyter.widget-view+json": {
       "version_major": 2,
       "version_minor": 0,
       "model_id": "174722935a5b450b9fcdda1c68c75938"
      }
     },
     "metadata": {},
     "output_type": "display_data"
    },
    {
     "name": "stdout",
     "output_type": "stream",
     "text": [
      "Evaluating with 10 rules\n"
     ]
    },
    {
     "data": {
      "text/plain": "  0%|          | 0/2021 [00:00<?, ?it/s]",
      "application/vnd.jupyter.widget-view+json": {
       "version_major": 2,
       "version_minor": 0,
       "model_id": "f3323b58fa03405e808a1f71583262df"
      }
     },
     "metadata": {},
     "output_type": "display_data"
    },
    {
     "data": {
      "text/plain": "  0%|          | 0/2021 [00:00<?, ?it/s]",
      "application/vnd.jupyter.widget-view+json": {
       "version_major": 2,
       "version_minor": 0,
       "model_id": "ff5978d8687d4e609ed7ab43c99cf349"
      }
     },
     "metadata": {},
     "output_type": "display_data"
    },
    {
     "data": {
      "text/plain": "  0%|          | 0/2021 [00:00<?, ?it/s]",
      "application/vnd.jupyter.widget-view+json": {
       "version_major": 2,
       "version_minor": 0,
       "model_id": "7060f3d6e4514dcb9ef92efcd25be403"
      }
     },
     "metadata": {},
     "output_type": "display_data"
    },
    {
     "name": "stdout",
     "output_type": "stream",
     "text": [
      "Evaluating with 11 rules\n"
     ]
    },
    {
     "data": {
      "text/plain": "  0%|          | 0/2021 [00:00<?, ?it/s]",
      "application/vnd.jupyter.widget-view+json": {
       "version_major": 2,
       "version_minor": 0,
       "model_id": "eaa789f51a8849b9b1b6e708cb85a9ef"
      }
     },
     "metadata": {},
     "output_type": "display_data"
    },
    {
     "data": {
      "text/plain": "  0%|          | 0/2021 [00:00<?, ?it/s]",
      "application/vnd.jupyter.widget-view+json": {
       "version_major": 2,
       "version_minor": 0,
       "model_id": "fe187e238e4848a3a71875112f68e104"
      }
     },
     "metadata": {},
     "output_type": "display_data"
    },
    {
     "data": {
      "text/plain": "  0%|          | 0/2021 [00:00<?, ?it/s]",
      "application/vnd.jupyter.widget-view+json": {
       "version_major": 2,
       "version_minor": 0,
       "model_id": "e7720cf83c7c4a6fbceb835865cda6b0"
      }
     },
     "metadata": {},
     "output_type": "display_data"
    }
   ],
   "source": [
    "results = []\n",
    "for i in np.arange(1, 12, 1):\n",
    "    number_of_rules = i\n",
    "    print(f\"Evaluating with {number_of_rules} rules\")\n",
    "    result = dict(\n",
    "        number_of_rules=number_of_rules,\n",
    "        positive=evaluate(data, target=\"positive\"),\n",
    "        negative=evaluate(data, target=\"negative\"),\n",
    "        neutral=evaluate(data, target=\"neutral\")\n",
    "    )\n",
    "    results.append(result)"
   ],
   "metadata": {
    "collapsed": false,
    "ExecuteTime": {
     "end_time": "2023-06-22T20:01:18.820649Z",
     "start_time": "2023-06-22T19:40:10.635720Z"
    }
   }
  },
  {
   "cell_type": "code",
   "execution_count": 94,
   "outputs": [
    {
     "data": {
      "text/plain": "<Figure size 1622x500 with 3 Axes>",
      "image/png": "[encoded data removed]"
     },
     "metadata": {},
     "output_type": "display_data"
    }
   ],
   "source": [
    "import json\n",
    "import seaborn as sns\n",
    "import matplotlib.pyplot as plt\n",
    "import pandas as pd\n",
    "\n",
    "# Your data\n",
    "\n",
    "def plot_rule_based_results(res):\n",
    "\n",
    "    # Flatten the data into a DataFrame\n",
    "    flattened_data = []\n",
    "    for entry in res:\n",
    "        number_of_rules = entry[\"number_of_rules\"]\n",
    "        for class_name, metrics in entry.items():\n",
    "            if class_name != \"number_of_rules\":\n",
    "                for metric_name, value in metrics.items():\n",
    "                    flattened_data.append({\n",
    "                        \"number_of_rules\": number_of_rules,\n",
    "                        \"class\": class_name,\n",
    "                        \"metric\": metric_name,\n",
    "                        \"value\": value\n",
    "                    })\n",
    "\n",
    "    # Create DataFrame\n",
    "    df = pd.DataFrame(flattened_data)\n",
    "\n",
    "    # Create a FacetGrid to display multiple plots\n",
    "    g = sns.FacetGrid(df, col=\"metric\", hue=\"class\", height=5)\n",
    "    g.map_dataframe(sns.lineplot, x=\"number_of_rules\", y=\"value\", marker=\"o\")\n",
    "    g.set_axis_labels(\"Number of Rules\", \"Value\")\n",
    "    g.add_legend()\n",
    "\n",
    "    # Show plot\n",
    "    plt.show()\n",
    "\n",
    "\n",
    "# # dump results to file\n",
    "# with open(\"results.json\", \"w\") as f:\n",
    "#     json.dump(results, f, indent=4)\n",
    "plot_rule_based_results(results)"
   ],
   "metadata": {
    "collapsed": false,
    "ExecuteTime": {
     "end_time": "2023-06-23T10:04:22.476901Z",
     "start_time": "2023-06-23T10:04:21.908824Z"
    }
   }
  },
  {
   "cell_type": "code",
   "execution_count": 92,
   "outputs": [
    {
     "name": "stdout",
     "output_type": "stream",
     "text": [
      "[{'negative': {'f1_score': 0.1279707495429616,\n",
      "               'precision': 0.14522821576763487,\n",
      "               'recall': 0.11437908496732026},\n",
      "  'neutral': {'f1_score': 0.8076572470373746,\n",
      "              'precision': 0.9326315789473684,\n",
      "              'recall': 0.7122186495176849},\n",
      "  'number_of_rules': 1,\n",
      "  'positive': {'f1_score': 0.2168413444163354,\n",
      "               'precision': 0.26019080659150046,\n",
      "               'recall': 0.18587360594795538}},\n",
      " {'negative': {'f1_score': 0.3524441015378134,\n",
      "               'precision': 0.424809619238477,\n",
      "               'recall': 0.30114467408585055},\n",
      "  'neutral': {'f1_score': 0.7222222222222222,\n",
      "              'precision': 0.8333333333333334,\n",
      "              'recall': 0.6372549019607843},\n",
      "  'number_of_rules': 2,\n",
      "  'positive': {'f1_score': 0.43336591723688495,\n",
      "               'precision': 0.5175097276264592,\n",
      "               'recall': 0.3727578475336323}},\n",
      " {'negative': {'f1_score': 0.37299416282560305,\n",
      "               'precision': 0.44480961923847695,\n",
      "               'recall': 0.32114467408585057},\n",
      "  'neutral': {'f1_score': 0.7018567251461987,\n",
      "              'precision': 0.8133333333333334,\n",
      "              'recall': 0.6172549019607843},\n",
      "  'number_of_rules': 3,\n",
      "  'positive': {'f1_score': 0.453871916614156,\n",
      "               'precision': 0.5375097276264592,\n",
      "               'recall': 0.3927578475336323}},\n",
      " {'negative': {'f1_score': 0.4044190734675719,\n",
      "               'precision': 0.4654473161033797,\n",
      "               'recall': 0.3575394321766562},\n",
      "  'neutral': {'f1_score': 0.6823776178223627,\n",
      "              'precision': 0.786923076923077,\n",
      "              'recall': 0.6023529411764706},\n",
      "  'number_of_rules': 4,\n",
      "  'positive': {'f1_score': 0.4858894024326527,\n",
      "               'precision': 0.5579503105590062,\n",
      "               'recall': 0.4303131991051454}},\n",
      " {'negative': {'f1_score': 0.4247469719288888,\n",
      "               'precision': 0.4854473161033797,\n",
      "               'recall': 0.37753943217665614},\n",
      "  'neutral': {'f1_score': 0.6582606932900872,\n",
      "              'precision': 0.7569230769230769,\n",
      "              'recall': 0.5823529411764706},\n",
      "  'number_of_rules': 5,\n",
      "  'positive': {'f1_score': 0.5137351720656762,\n",
      "               'precision': 0.5979503105590062,\n",
      "               'recall': 0.45031319910514545}},\n",
      " {'negative': {'f1_score': 0.44504582026631917,\n",
      "               'precision': 0.5054473161033797,\n",
      "               'recall': 0.39753943217665616},\n",
      "  'neutral': {'f1_score': 0.6322827867231767,\n",
      "              'precision': 0.7247863247863247,\n",
      "              'recall': 0.560718954248366},\n",
      "  'number_of_rules': 6,\n",
      "  'positive': {'f1_score': 0.531578042237873,\n",
      "               'precision': 0.6225581395348837,\n",
      "               'recall': 0.4637988826815643}},\n",
      " {'negative': {'f1_score': 0.46326707000864303,\n",
      "               'precision': 0.5224171539961013,\n",
      "               'recall': 0.4161490683229814},\n",
      "  'neutral': {'f1_score': 0.6127497621313036,\n",
      "              'precision': 0.7045951859956237,\n",
      "              'recall': 0.5420875420875421},\n",
      "  'number_of_rules': 7,\n",
      "  'positive': {'f1_score': 0.5461798097575944,\n",
      "               'precision': 0.6510607168983175,\n",
      "               'recall': 0.4704016913319239}},\n",
      " {'negative': {'f1_score': 0.46326707000864303,\n",
      "               'precision': 0.5224171539961013,\n",
      "               'recall': 0.4161490683229814},\n",
      "  'neutral': {'f1_score': 0.6127497621313036,\n",
      "              'precision': 0.7045951859956237,\n",
      "              'recall': 0.5420875420875421},\n",
      "  'number_of_rules': 8,\n",
      "  'positive': {'f1_score': 0.5461798097575944,\n",
      "               'precision': 0.6510607168983175,\n",
      "               'recall': 0.4704016913319239}},\n",
      " {'negative': {'f1_score': 0.5030146425495263,\n",
      "               'precision': 0.5680933852140078,\n",
      "               'recall': 0.45131375579598143},\n",
      "  'neutral': {'f1_score': 0.5952153110047846,\n",
      "              'precision': 0.6850220264317181,\n",
      "              'recall': 0.5262267343485617},\n",
      "  'number_of_rules': 9,\n",
      "  'positive': {'f1_score': 0.5792811839323466,\n",
      "               'precision': 0.6909221902017291,\n",
      "               'recall': 0.4986999479979199}},\n",
      " {'negative': {'f1_score': 0.5055889939810834,\n",
      "               'precision': 0.570873786407767,\n",
      "               'recall': 0.4537037037037037},\n",
      "  'neutral': {'f1_score': 0.5952153110047846,\n",
      "              'precision': 0.6850220264317181,\n",
      "              'recall': 0.5262267343485617},\n",
      "  'number_of_rules': 10,\n",
      "  'positive': {'f1_score': 0.5804892781636969,\n",
      "               'precision': 0.6923631123919308,\n",
      "               'recall': 0.499739989599584}},\n",
      " {'negative': {'f1_score': 0.544054747647562,\n",
      "               'precision': 0.6138996138996139,\n",
      "               'recall': 0.48847926267281105},\n",
      "  'neutral': {'f1_score': 0.5611650485436893,\n",
      "              'precision': 0.6465324384787472,\n",
      "              'recall': 0.4957118353344768},\n",
      "  'number_of_rules': 11,\n",
      "  'positive': {'f1_score': 0.6165279429250893,\n",
      "               'precision': 0.7359829666430092,\n",
      "               'recall': 0.5304347826086957}}]\n"
     ]
    }
   ],
   "source": [
    "results"
   ],
   "metadata": {
    "collapsed": false,
    "ExecuteTime": {
     "end_time": "2023-06-23T10:03:39.426264Z",
     "start_time": "2023-06-23T10:03:39.378719Z"
    }
   }
  },
  {
   "cell_type": "markdown",
   "source": [
    "## 4. Bert Based Sentiment Analysis"
   ],
   "metadata": {
    "collapsed": false
   }
  },
  {
   "cell_type": "code",
   "execution_count": 69,
   "outputs": [
    {
     "name": "stderr",
     "output_type": "stream",
     "text": [
      "/home/akide/anaconda3/envs/ANLP/lib/python3.8/site-packages/transformers/convert_slow_tokenizer.py:454: UserWarning: The sentencepiece tokenizer that you are converting to a fast tokenizer uses the byte fallback option which is not implemented in the fast tokenizers. In practice this means that the fast version of the tokenizer can produce unknown tokens whereas the sentencepiece version would have converted these unknown tokens into a sequence of byte tokens matching the original piece of text.\n",
      "  warnings.warn(\n"
     ]
    },
    {
     "name": "stdout",
     "output_type": "stream",
     "text": [
      "{'food': ('Positive', 0.9973154664039612), 'service': ('Negative', 0.9935430288314819)}\n"
     ]
    }
   ],
   "source": [
    "model_name = \"yangheng/deberta-v3-base-absa-v1.1\"\n",
    "tokenizer = AutoTokenizer.from_pretrained(model_name)\n",
    "model = AutoModelForSequenceClassification.from_pretrained(model_name)\n",
    "\n",
    "aspects = [\"food\", \"service\"]\n",
    "text = \"The food was great but the service was terrible.\"\n",
    "sentiment_aspect = {}\n",
    "for aspect in aspects:\n",
    "  inputs = tokenizer(text, aspect, return_tensors=\"pt\")\n",
    "\n",
    "  with torch.inference_mode():\n",
    "    outputs = model(**inputs)\n",
    "\n",
    "  scores = F.softmax(outputs.logits[0], dim=-1)\n",
    "  label_id = torch.argmax(scores).item()\n",
    "  sentiment_aspect[aspect] = (model.config.id2label[label_id], scores[label_id].item())\n",
    "\n",
    "print(sentiment_aspect)"
   ],
   "metadata": {
    "collapsed": false,
    "ExecuteTime": {
     "end_time": "2023-06-22T20:01:21.643450Z",
     "start_time": "2023-06-22T20:01:19.372985Z"
    }
   }
  },
  {
   "cell_type": "code",
   "execution_count": 70,
   "outputs": [],
   "source": [
    "class BertAspectSentimentAnalyzer(AspectSentimentAnalyzer):\n",
    "    def __init__(self, sentences, aspect_terms, debug=False):\n",
    "        super().__init__(sentences, aspect_terms, debug)\n",
    "        self.model_name = \"yangheng/deberta-v3-base-absa-v1.1\"\n",
    "        self.tokenizer = AutoTokenizer.from_pretrained(self.model_name)\n",
    "        self.model = AutoModelForSequenceClassification.from_pretrained(self.model_name)\n",
    "        self.device = \"cuda:0\" if torch.cuda.is_available() else \"cpu\"\n",
    "        self.model.to(self.device)\n",
    "\n",
    "\n",
    "    def analyze(self, number_of_rules=1):\n",
    "        \"\"\"\n",
    "        Analyzes the sentiment of given text and aspect terms.\n",
    "\n",
    "        :return: A dictionary mapping aspect terms to sentiment scores\n",
    "        \"\"\"\n",
    "        # Initialize sentiment scores\n",
    "        sentiment = {}\n",
    "\n",
    "        for aspect in self.aspect_terms:\n",
    "            # Get sentiment for aspect term\n",
    "            inputs = self.tokenizer(self.sentences, aspect['term'], return_tensors=\"pt\").to(self.device)\n",
    "            with torch.inference_mode():\n",
    "                outputs = self.model(**inputs)\n",
    "\n",
    "                scores = F.softmax(outputs.logits[0], dim=-1)\n",
    "                label_id = torch.argmax(scores).item()\n",
    "                sentiment[aspect['term']] = (model.config.id2label[label_id], scores[label_id].item())\n",
    "\n",
    "        # print(sentiment)\n",
    "        for asp_k, asp_v in sentiment.items():\n",
    "            self.new_acpect_term_state[asp_k] = self.sentiment_map[asp_v[0].lower()]\n",
    "\n",
    "        return self.new_acpect_term_state\n"
   ],
   "metadata": {
    "collapsed": false,
    "ExecuteTime": {
     "end_time": "2023-06-22T20:01:21.664161Z",
     "start_time": "2023-06-22T20:01:21.643870Z"
    }
   }
  },
  {
   "cell_type": "code",
   "execution_count": 71,
   "outputs": [
    {
     "data": {
      "text/plain": "{'staff': -1}"
     },
     "execution_count": 71,
     "metadata": {},
     "output_type": "execute_result"
    }
   ],
   "source": [
    "analyzer = BertAspectSentimentAnalyzer(data[0].text, data[0]['aspect_terms'], debug=True)\n",
    "analyzer.analyze()"
   ],
   "metadata": {
    "collapsed": false,
    "ExecuteTime": {
     "end_time": "2023-06-22T20:01:25.085694Z",
     "start_time": "2023-06-22T20:01:21.664361Z"
    }
   }
  },
  {
   "cell_type": "code",
   "execution_count": 72,
   "outputs": [
    {
     "data": {
      "text/plain": "  0%|          | 0/2021 [00:00<?, ?it/s]",
      "application/vnd.jupyter.widget-view+json": {
       "version_major": 2,
       "version_minor": 0,
       "model_id": "0bb1fe1152594d40ad2546993d7fcc84"
      }
     },
     "metadata": {},
     "output_type": "display_data"
    },
    {
     "data": {
      "text/plain": "{'precision': 0.8885850991114149,\n 'recall': 0.6448412698412699,\n 'f1_score': 0.7473411899971256}"
     },
     "execution_count": 72,
     "metadata": {},
     "output_type": "execute_result"
    }
   ],
   "source": [
    "os.environ[\"TOKENIZERS_PARALLELISM\"] = \"True\"\n",
    "evaluate(data, target=\"positive\", eval_class=BertAspectSentimentAnalyzer, num_threads=1)"
   ],
   "metadata": {
    "collapsed": false,
    "ExecuteTime": {
     "end_time": "2023-06-22T21:05:14.015260Z",
     "start_time": "2023-06-22T20:01:25.083591Z"
    }
   }
  },
  {
   "cell_type": "code",
   "execution_count": 73,
   "outputs": [
    {
     "data": {
      "text/plain": "  0%|          | 0/2021 [00:00<?, ?it/s]",
      "application/vnd.jupyter.widget-view+json": {
       "version_major": 2,
       "version_minor": 0,
       "model_id": "2c2e5ff0480643e39dc49ea3f5d29297"
      }
     },
     "metadata": {},
     "output_type": "display_data"
    },
    {
     "data": {
      "text/plain": "{'precision': 0.8737541528239202,\n 'recall': 0.699468085106383,\n 'f1_score': 0.776957163958641}"
     },
     "execution_count": 73,
     "metadata": {},
     "output_type": "execute_result"
    }
   ],
   "source": [
    "evaluate(data, target=\"negative\", eval_class=BertAspectSentimentAnalyzer, num_threads=1)"
   ],
   "metadata": {
    "collapsed": false,
    "ExecuteTime": {
     "end_time": "2023-06-22T22:06:27.815133Z",
     "start_time": "2023-06-22T21:05:13.615081Z"
    }
   }
  },
  {
   "cell_type": "code",
   "execution_count": 74,
   "outputs": [
    {
     "data": {
      "text/plain": "  0%|          | 0/2021 [00:00<?, ?it/s]",
      "application/vnd.jupyter.widget-view+json": {
       "version_major": 2,
       "version_minor": 0,
       "model_id": "6d0e6aee8fdd432f8324cb15b8507a9a"
      }
     },
     "metadata": {},
     "output_type": "display_data"
    },
    {
     "data": {
      "text/plain": "{'precision': 0.8763102725366876,\n 'recall': 0.6818923327895595,\n 'f1_score': 0.7669724770642201}"
     },
     "execution_count": 74,
     "metadata": {},
     "output_type": "execute_result"
    }
   ],
   "source": [
    "evaluate(data, target=\"neutral\", eval_class=BertAspectSentimentAnalyzer, num_threads=1)"
   ],
   "metadata": {
    "collapsed": false,
    "ExecuteTime": {
     "end_time": "2023-06-22T23:10:47.834106Z",
     "start_time": "2023-06-22T22:06:27.815449Z"
    }
   }
  },
  {
   "cell_type": "code",
   "execution_count": 106,
   "outputs": [
    {
     "data": {
      "text/plain": "<Figure size 1000x600 with 1 Axes>",
      "image/png": "[encoded data removed]"
     },
     "metadata": {},
     "output_type": "display_data"
    }
   ],
   "source": [
    "import matplotlib.pyplot as plt\n",
    "import numpy as np\n",
    "\n",
    "data = {\n",
    "  'positive':\n",
    "      {'precision': 0.8885850991114149,\n",
    "        'recall': 0.6448412698412699,\n",
    "        'f1_score': 0.7473411899971256},\n",
    "'negative': {\n",
    "    'precision': 0.8737541528239202,\n",
    "    'recall': 0.699468085106383,\n",
    "    'f1_score': 0.776957163958641},\n",
    "  'neutral':{\n",
    "        'precision': 0.8763102725366876,\n",
    "        'recall': 0.6818923327895595,\n",
    "        'f1_score': 0.7669724770642201}}\n",
    "\n",
    "labels = list(data.keys())\n",
    "scores = list(data.values())\n",
    "\n",
    "f1_scores = [score['f1_score'] for score in scores]\n",
    "precisions = [score['precision'] for score in scores]\n",
    "recalls = [score['recall'] for score in scores]\n",
    "\n",
    "x = np.arange(len(labels))\n",
    "width = 0.25\n",
    "\n",
    "fig, ax = plt.subplots(figsize=(10, 6))\n",
    "\n",
    "rects1 = ax.bar(x - width, f1_scores, width, label='F1-score')\n",
    "rects2 = ax.bar(x, precisions, width, label='Precision')\n",
    "rects3 = ax.bar(x + width, recalls, width, label='Recall')\n",
    "\n",
    "# Function to add labels on top of each bar\n",
    "def add_labels(rects):\n",
    "    for rect in rects:\n",
    "        height = rect.get_height()\n",
    "        ax.annotate(f'{height:.2f}', xy=(rect.get_x() + rect.get_width() / 2, height),\n",
    "                    xytext=(0, 3), textcoords=\"offset points\", ha='center', va='bottom')\n",
    "\n",
    "add_labels(rects1)\n",
    "add_labels(rects2)\n",
    "add_labels(rects3)\n",
    "\n",
    "ax.set_xlabel('Sentiment')\n",
    "ax.set_ylabel('Score')\n",
    "ax.set_title('Sentiment Analysis Evaluation')\n",
    "ax.set_xticks(x)\n",
    "ax.set_xticklabels(labels)\n",
    "ax.legend()\n",
    "\n",
    "fig.tight_layout()\n",
    "\n",
    "plt.show()\n"
   ],
   "metadata": {
    "collapsed": false,
    "ExecuteTime": {
     "end_time": "2023-06-23T10:58:09.757191Z",
     "start_time": "2023-06-23T10:58:09.639660Z"
    }
   }
  },
  {
   "cell_type": "markdown",
   "metadata": {
    "collapsed": false,
    "ExecuteTime": {
     "end_time": "2023-06-22T16:53:57.817289Z",
     "start_time": "2023-06-22T16:53:57.751909Z"
    }
   },
   "source": [
    "## Save the Notebook"
   ],
   "outputs": [],
   "execution_count": 55
  },
  {
   "cell_type": "code",
   "execution_count": 108,
   "metadata": {
    "collapsed": false,
    "ExecuteTime": {
     "end_time": "2023-06-23T10:59:22.085459Z",
     "start_time": "2023-06-23T10:59:09.055882Z"
    }
   },
   "outputs": [
    {
     "data": {
      "text/plain": "<IPython.core.display.Javascript object>",
      "application/javascript": "window.require && require([\"base/js/namespace\"],function(Jupyter){Jupyter.notebook.save_checkpoint()})"
     },
     "metadata": {},
     "output_type": "display_data"
    },
    {
     "name": "stdout",
     "output_type": "stream",
     "text": [
      "[jovian] Updating notebook \"akide/anlp-assignment-3\" on https://jovian.com/\u001B[0m\n",
      "[jovian] Capturing environment..\u001B[0m\n"
     ]
    },
    {
     "name": "stderr",
     "output_type": "stream",
     "text": [
      "/bin/sh: 1: conda: not found\n",
      "/bin/sh: 1: conda: not found\n",
      "\u001B[31m[jovian] Error: Failed to read Anaconda environment using command: \"conda env export -n base --no-builds\"\u001B[0m\n"
     ]
    },
    {
     "name": "stdout",
     "output_type": "stream",
     "text": [
      "[jovian] Uploading additional files...\u001B[0m\n",
      "[jovian] Committed successfully! https://jovian.com/akide/anlp-assignment-3\u001B[0m\n"
     ]
    },
    {
     "data": {
      "text/plain": "'https://jovian.com/akide/anlp-assignment-3'"
     },
     "execution_count": 108,
     "metadata": {},
     "output_type": "execute_result"
    }
   ],
   "source": [
    "import glob\n",
    "\n",
    "files = glob.glob('*.py')\n",
    "# outputs = glob.glob('*.csv')\n",
    "outputs = glob.glob('*.png')\n",
    "outputs += glob.glob('*.PNG')\n",
    "# outputs += glob.glob('*.txt')\n",
    "# outputs = glob.glob('figures/*')\n",
    "# outputs.append('download.sh')\n",
    "import jovian\n",
    "\n",
    "jovian.commit(project='akide/ANLP_assignment_3',\n",
    "              filename='ANLP_A3.ipynb',\n",
    "              files=files,\n",
    "              new_project=False,\n",
    "              outputs=outputs,\n",
    "              environment='auto')"
   ]
  },
  {
   "cell_type": "code",
   "execution_count": 83,
   "metadata": {
    "collapsed": false,
    "ExecuteTime": {
     "end_time": "2023-06-22T18:21:53.268689Z",
     "start_time": "2023-06-22T18:21:53.251647Z"
    }
   },
   "outputs": [],
   "source": []
  },
  {
   "cell_type": "code",
   "execution_count": null,
   "outputs": [],
   "source": [],
   "metadata": {
    "collapsed": false
   }
  }
 ],
 "metadata": {
  "kernelspec": {
   "display_name": "Python 3 (ipykernel)",
   "language": "python",
   "name": "python3"
  },
  "language_info": {
   "codemirror_mode": {
    "name": "ipython",
    "version": 3
   },
   "file_extension": ".py",
   "mimetype": "text/x-python",
   "name": "python",
   "nbconvert_exporter": "python",
   "pygments_lexer": "ipython3",
   "version": "3.8.10"
  }
 },
 "nbformat": 4,
 "nbformat_minor": 0
}
