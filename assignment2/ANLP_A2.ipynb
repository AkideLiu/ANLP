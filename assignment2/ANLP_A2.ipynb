{
 "cells": [
  {
   "cell_type": "markdown",
   "metadata": {
    "collapsed": false
   },
   "source": [
    "<h2 align=\"center\"> The University of Adelaide, School of Computer Science </h2>\n",
    "<h1 align=\"center\"><strong><b> Applied Natural Language Processing </b></strong></h1>\n",
    "<h2 align=\"center\"> Semester 1, 2023 Assignment 2: Building a text matching system for question matching </h2>\n",
    "<h2 align=\"center\"> Author: Akide Liu </h2>\n",
    "<h3 align=\"center\"> Student ID: a1743748 </h3>\n"
   ]
  },
  {
   "cell_type": "markdown",
   "metadata": {
    "collapsed": false
   },
   "source": [
    "## 0. Import libraries and set up the environment"
   ]
  },
  {
   "cell_type": "code",
   "execution_count": 35,
   "metadata": {
    "collapsed": true,
    "ExecuteTime": {
     "end_time": "2023-05-30T13:14:48.857788Z",
     "start_time": "2023-05-30T13:14:48.699420Z"
    }
   },
   "outputs": [
    {
     "name": "stdout",
     "output_type": "stream",
     "text": [
      "The autoreload extension is already loaded. To reload it, use:\n",
      "  %reload_ext autoreload\n"
     ]
    }
   ],
   "source": [
    "import time\n",
    "\n",
    "# import libs\n",
    "from utils import *\n",
    "\n",
    "# Matplotlib is a useful plotting library for python\n",
    "import matplotlib.pyplot as plt\n",
    "# This code is to make matplotlib figures appear inline in the\n",
    "# notebook rather than in a new window.\n",
    "%matplotlib inline\n",
    "plt.rcParams['figure.figsize'] = (10.0, 8.0)  # set default size of plots\n",
    "plt.rcParams['image.interpolation'] = 'nearest'\n",
    "plt.rcParams['image.cmap'] = 'gray'\n",
    "\n",
    "# Some more magic so that the notebook will reload external python modules;\n",
    "# see http://stackoverflow.com/questions/1907993/autoreload-of-modules-in-ipython\n",
    "%load_ext autoreload\n",
    "%autoreload 2\n",
    "%reload_ext autoreload"
   ]
  },
  {
   "cell_type": "markdown",
   "metadata": {
    "collapsed": false
   },
   "source": [
    "## 1. Write code for data loading and text preprocessing 5%"
   ]
  },
  {
   "cell_type": "markdown",
   "source": [
    "## 1.1 Load the data"
   ],
   "metadata": {
    "collapsed": false
   }
  },
  {
   "cell_type": "code",
   "execution_count": 36,
   "outputs": [
    {
     "name": "stderr",
     "output_type": "stream",
     "text": [
      "/tmp/ipykernel_1339937/7530907.py:2: FutureWarning: The error_bad_lines argument has been deprecated and will be removed in a future version. Use on_bad_lines in the future.\n",
      "\n",
      "\n",
      "  df = pd.read_csv('data.tsv', sep=\"\\t\",error_bad_lines=False)\n",
      "Skipping line 83032: expected 6 fields, saw 7\n",
      "\n",
      "Skipping line 154657: expected 6 fields, saw 7\n",
      "\n",
      "Skipping line 323916: expected 6 fields, saw 7\n",
      "\n",
      "/tmp/ipykernel_1339937/7530907.py:2: DtypeWarning: Columns (1) have mixed types. Specify dtype option on import or set low_memory=False.\n",
      "  df = pd.read_csv('data.tsv', sep=\"\\t\",error_bad_lines=False)\n"
     ]
    },
    {
     "data": {
      "text/plain": "       id    qid1      qid2  \\\n0  133273  213221  213222.0   \n1  402555  536040  536041.0   \n2  360472  364011  490273.0   \n3  150662  155721    7256.0   \n4  183004  279958  279959.0   \n\n                                           question1  \\\n0  How is the life of a math student? Could you d...   \n1                How do I control my horny emotions?   \n2       What causes stool color to change to yellow?   \n3                        What can one do after MBBS?   \n4  Where can I find a power outlet for my laptop ...   \n\n                                           question2  is_duplicate  \n0  Which level of prepration is enough for the ex...           0.0  \n1                 How do you control your horniness?           1.0  \n2  What can cause stool to come out as little balls?           0.0  \n3                       What do i do after my MBBS ?           1.0  \n4  Would a second airport in Sydney, Australia be...           0.0  ",
      "text/html": "<div>\n<style scoped>\n    .dataframe tbody tr th:only-of-type {\n        vertical-align: middle;\n    }\n\n    .dataframe tbody tr th {\n        vertical-align: top;\n    }\n\n    .dataframe thead th {\n        text-align: right;\n    }\n</style>\n<table border=\"1\" class=\"dataframe\">\n  <thead>\n    <tr style=\"text-align: right;\">\n      <th></th>\n      <th>id</th>\n      <th>qid1</th>\n      <th>qid2</th>\n      <th>question1</th>\n      <th>question2</th>\n      <th>is_duplicate</th>\n    </tr>\n  </thead>\n  <tbody>\n    <tr>\n      <th>0</th>\n      <td>133273</td>\n      <td>213221</td>\n      <td>213222.0</td>\n      <td>How is the life of a math student? Could you d...</td>\n      <td>Which level of prepration is enough for the ex...</td>\n      <td>0.0</td>\n    </tr>\n    <tr>\n      <th>1</th>\n      <td>402555</td>\n      <td>536040</td>\n      <td>536041.0</td>\n      <td>How do I control my horny emotions?</td>\n      <td>How do you control your horniness?</td>\n      <td>1.0</td>\n    </tr>\n    <tr>\n      <th>2</th>\n      <td>360472</td>\n      <td>364011</td>\n      <td>490273.0</td>\n      <td>What causes stool color to change to yellow?</td>\n      <td>What can cause stool to come out as little balls?</td>\n      <td>0.0</td>\n    </tr>\n    <tr>\n      <th>3</th>\n      <td>150662</td>\n      <td>155721</td>\n      <td>7256.0</td>\n      <td>What can one do after MBBS?</td>\n      <td>What do i do after my MBBS ?</td>\n      <td>1.0</td>\n    </tr>\n    <tr>\n      <th>4</th>\n      <td>183004</td>\n      <td>279958</td>\n      <td>279959.0</td>\n      <td>Where can I find a power outlet for my laptop ...</td>\n      <td>Would a second airport in Sydney, Australia be...</td>\n      <td>0.0</td>\n    </tr>\n  </tbody>\n</table>\n</div>"
     },
     "execution_count": 36,
     "metadata": {},
     "output_type": "execute_result"
    }
   ],
   "source": [
    "# Read the CSV file\n",
    "df = pd.read_csv('data.tsv', sep=\"\\t\",error_bad_lines=False)\n",
    "\n",
    "# print the first 5 rows\n",
    "df.head()"
   ],
   "metadata": {
    "collapsed": false,
    "ExecuteTime": {
     "end_time": "2023-05-30T13:14:50.545806Z",
     "start_time": "2023-05-30T13:14:50.042983Z"
    }
   }
  },
  {
   "cell_type": "code",
   "execution_count": 37,
   "outputs": [
    {
     "name": "stdout",
     "output_type": "stream",
     "text": [
      "<class 'pandas.core.frame.DataFrame'>\n",
      "RangeIndex: 363192 entries, 0 to 363191\n",
      "Data columns (total 6 columns):\n",
      " #   Column        Non-Null Count   Dtype  \n",
      "---  ------        --------------   -----  \n",
      " 0   id            363192 non-null  object \n",
      " 1   qid1          363192 non-null  object \n",
      " 2   qid2          363185 non-null  float64\n",
      " 3   question1     363181 non-null  object \n",
      " 4   question2     363180 non-null  object \n",
      " 5   is_duplicate  363180 non-null  float64\n",
      "dtypes: float64(2), object(4)\n",
      "memory usage: 16.6+ MB\n"
     ]
    }
   ],
   "source": [
    "df.info()"
   ],
   "metadata": {
    "collapsed": false,
    "ExecuteTime": {
     "end_time": "2023-05-30T13:14:50.738212Z",
     "start_time": "2023-05-30T13:14:50.534773Z"
    }
   }
  },
  {
   "cell_type": "code",
   "execution_count": 38,
   "outputs": [],
   "source": [
    "# remove errors in the df, if the type of question are not string, then remove it\n",
    "df = df[df['question1'].apply(lambda x: type(x) == str)]\n",
    "df = df[df['question2'].apply(lambda x: type(x) == str)]"
   ],
   "metadata": {
    "collapsed": false,
    "ExecuteTime": {
     "end_time": "2023-05-30T13:14:51.019951Z",
     "start_time": "2023-05-30T13:14:50.941780Z"
    }
   }
  },
  {
   "cell_type": "markdown",
   "source": [
    "## 1.2 Preprocess the data"
   ],
   "metadata": {
    "collapsed": false
   }
  },
  {
   "cell_type": "code",
   "execution_count": 39,
   "outputs": [
    {
     "data": {
      "text/plain": "'life math student could describe experiences'"
     },
     "execution_count": 39,
     "metadata": {},
     "output_type": "execute_result"
    }
   ],
   "source": [
    "import string\n",
    "import re\n",
    "def preprocess(text):\n",
    "\n",
    "    if type(text) != str:\n",
    "        return \"\"\n",
    "    if '\\t' in text:\n",
    "        return \"\"\n",
    "    # Lowercase the text\n",
    "    text = text.lower()\n",
    "\n",
    "    text = text.split()\n",
    "\n",
    "    text = [w for w in text if not w in nltk.corpus.stopwords.words('english')]\n",
    "\n",
    "    text = ' '.join(text)\n",
    "\n",
    "    # Tokenize the text by replacing punctuation with spaces\n",
    "    translator = str.maketrans(string.punctuation, ' '*len(string.punctuation))\n",
    "    text = text.translate(translator)\n",
    "\n",
    "    # Replace all whitespace with a single space\n",
    "    text = re.sub('\\s+', ' ', text)\n",
    "\n",
    "    # Strip leading and trailing whitespace\n",
    "    text = text.strip()\n",
    "\n",
    "    return text\n",
    "\n",
    "preprocess(df['question1'].iloc[0])"
   ],
   "metadata": {
    "collapsed": false,
    "ExecuteTime": {
     "end_time": "2023-05-30T13:14:52.215419Z",
     "start_time": "2023-05-30T13:14:52.169072Z"
    }
   }
  },
  {
   "cell_type": "code",
   "execution_count": 40,
   "outputs": [
    {
     "name": "stdout",
     "output_type": "stream",
     "text": [
      "huggingface/tokenizers: The current process just got forked, after parallelism has already been used. Disabling parallelism to avoid deadlocks...\n",
      "To disable this warning, you can either:\n",
      "\t- Avoid using `tokenizers` before the fork if possible\n",
      "\t- Explicitly set the environment variable TOKENIZERS_PARALLELISM=(true | false)\n",
      "huggingface/tokenizers: The current process just got forked, after parallelism has already been used. Disabling parallelism to avoid deadlocks...\n",
      "To disable this warning, you can either:\n",
      "\t- Avoid using `tokenizers` before the fork if possible\n",
      "\t- Explicitly set the environment variable TOKENIZERS_PARALLELISM=(true | false)\n",
      "huggingface/tokenizers: The current process just got forked, after parallelism has already been used. Disabling parallelism to avoid deadlocks...\n",
      "To disable this warning, you can either:\n",
      "\t- Avoid using `tokenizers` before the fork if possible\n",
      "\t- Explicitly set the environment variable TOKENIZERS_PARALLELISM=(true | false)\n",
      "huggingface/tokenizers: The current process just got forked, after parallelism has already been used. Disabling parallelism to avoid deadlocks...\n",
      "To disable this warning, you can either:\n",
      "\t- Avoid using `tokenizers` before the fork if possible\n",
      "\t- Explicitly set the environment variable TOKENIZERS_PARALLELISM=(true | false)\n",
      "huggingface/tokenizers: The current process just got forked, after parallelism has already been used. Disabling parallelism to avoid deadlocks...\n",
      "To disable this warning, you can either:\n",
      "\t- Avoid using `tokenizers` before the fork if possible\n",
      "\t- Explicitly set the environment variable TOKENIZERS_PARALLELISM=(true | false)\n",
      "huggingface/tokenizers: The current process just got forked, after parallelism has already been used. Disabling parallelism to avoid deadlocks...\n",
      "To disable this warning, you can either:\n",
      "\t- Avoid using `tokenizers` before the fork if possible\n",
      "\t- Explicitly set the environment variable TOKENIZERS_PARALLELISM=(true | false)\n",
      "huggingface/tokenizers: The current process just got forked, after parallelism has already been used. Disabling parallelism to avoid deadlocks...\n",
      "To disable this warning, you can either:\n",
      "\t- Avoid using `tokenizers` before the fork if possible\n",
      "\t- Explicitly set the environment variable TOKENIZERS_PARALLELISM=(true | false)\n",
      "huggingface/tokenizers: The current process just got forked, after parallelism has already been used. Disabling parallelism to avoid deadlocks...\n",
      "To disable this warning, you can either:\n",
      "\t- Avoid using `tokenizers` before the fork if possible\n",
      "\t- Explicitly set the environment variable TOKENIZERS_PARALLELISM=(true | false)\n",
      "huggingface/tokenizers: The current process just got forked, after parallelism has already been used. Disabling parallelism to avoid deadlocks...\n",
      "To disable this warning, you can either:\n",
      "\t- Avoid using `tokenizers` before the fork if possible\n",
      "\t- Explicitly set the environment variable TOKENIZERS_PARALLELISM=(true | false)\n",
      "huggingface/tokenizers: The current process just got forked, after parallelism has already been used. Disabling parallelism to avoid deadlocks...\n",
      "To disable this warning, you can either:\n",
      "\t- Avoid using `tokenizers` before the fork if possible\n",
      "\t- Explicitly set the environment variable TOKENIZERS_PARALLELISM=(true | false)\n"
     ]
    },
    {
     "data": {
      "text/plain": "  0%|          | 0/363179 [00:00<?, ?it/s]",
      "application/vnd.jupyter.widget-view+json": {
       "version_major": 2,
       "version_minor": 0,
       "model_id": "f77b8935d02a43d9a03968d52c544677"
      }
     },
     "metadata": {},
     "output_type": "display_data"
    },
    {
     "name": "stdout",
     "output_type": "stream",
     "text": [
      "huggingface/tokenizers: The current process just got forked, after parallelism has already been used. Disabling parallelism to avoid deadlocks...\n",
      "To disable this warning, you can either:\n",
      "\t- Avoid using `tokenizers` before the fork if possible\n",
      "\t- Explicitly set the environment variable TOKENIZERS_PARALLELISM=(true | false)\n"
     ]
    }
   ],
   "source": [
    "df[\"question1_preprocessed\"] = track_parallel_progress(preprocess, df['question1'].to_list(), nproc=10)"
   ],
   "metadata": {
    "collapsed": false,
    "ExecuteTime": {
     "end_time": "2023-05-30T13:15:06.841008Z",
     "start_time": "2023-05-30T13:14:52.974812Z"
    }
   }
  },
  {
   "cell_type": "code",
   "execution_count": 41,
   "outputs": [
    {
     "name": "stdout",
     "output_type": "stream",
     "text": [
      "huggingface/tokenizers: The current process just got forked, after parallelism has already been used. Disabling parallelism to avoid deadlocks...\n",
      "To disable this warning, you can either:\n",
      "\t- Avoid using `tokenizers` before the fork if possible\n",
      "\t- Explicitly set the environment variable TOKENIZERS_PARALLELISM=(true | false)\n",
      "huggingface/tokenizers: The current process just got forked, after parallelism has already been used. Disabling parallelism to avoid deadlocks...\n",
      "To disable this warning, you can either:\n",
      "\t- Avoid using `tokenizers` before the fork if possible\n",
      "\t- Explicitly set the environment variable TOKENIZERS_PARALLELISM=(true | false)\n",
      "huggingface/tokenizers: The current process just got forked, after parallelism has already been used. Disabling parallelism to avoid deadlocks...\n",
      "To disable this warning, you can either:\n",
      "\t- Avoid using `tokenizers` before the fork if possible\n",
      "\t- Explicitly set the environment variable TOKENIZERS_PARALLELISM=(true | false)\n",
      "huggingface/tokenizers: The current process just got forked, after parallelism has already been used. Disabling parallelism to avoid deadlocks...\n",
      "To disable this warning, you can either:\n",
      "\t- Avoid using `tokenizers` before the fork if possible\n",
      "\t- Explicitly set the environment variable TOKENIZERS_PARALLELISM=(true | false)\n",
      "huggingface/tokenizers: The current process just got forked, after parallelism has already been used. Disabling parallelism to avoid deadlocks...\n",
      "To disable this warning, you can either:\n",
      "\t- Avoid using `tokenizers` before the fork if possible\n",
      "\t- Explicitly set the environment variable TOKENIZERS_PARALLELISM=(true | false)\n",
      "huggingface/tokenizers: The current process just got forked, after parallelism has already been used. Disabling parallelism to avoid deadlocks...\n",
      "To disable this warning, you can either:\n",
      "\t- Avoid using `tokenizers` before the fork if possible\n",
      "\t- Explicitly set the environment variable TOKENIZERS_PARALLELISM=(true | false)\n",
      "huggingface/tokenizers: The current process just got forked, after parallelism has already been used. Disabling parallelism to avoid deadlocks...\n",
      "To disable this warning, you can either:\n",
      "\t- Avoid using `tokenizers` before the fork if possible\n",
      "\t- Explicitly set the environment variable TOKENIZERS_PARALLELISM=(true | false)\n",
      "huggingface/tokenizers: The current process just got forked, after parallelism has already been used. Disabling parallelism to avoid deadlocks...\n",
      "To disable this warning, you can either:\n",
      "\t- Avoid using `tokenizers` before the fork if possible\n",
      "\t- Explicitly set the environment variable TOKENIZERS_PARALLELISM=(true | false)\n",
      "huggingface/tokenizers: The current process just got forked, after parallelism has already been used. Disabling parallelism to avoid deadlocks...\n",
      "To disable this warning, you can either:\n",
      "\t- Avoid using `tokenizers` before the fork if possible\n",
      "\t- Explicitly set the environment variable TOKENIZERS_PARALLELISM=(true | false)\n",
      "huggingface/tokenizers: The current process just got forked, after parallelism has already been used. Disabling parallelism to avoid deadlocks...\n",
      "To disable this warning, you can either:\n",
      "\t- Avoid using `tokenizers` before the fork if possible\n",
      "\t- Explicitly set the environment variable TOKENIZERS_PARALLELISM=(true | false)\n"
     ]
    },
    {
     "data": {
      "text/plain": "  0%|          | 0/363179 [00:00<?, ?it/s]",
      "application/vnd.jupyter.widget-view+json": {
       "version_major": 2,
       "version_minor": 0,
       "model_id": "5d683829c84d448b9096be81dab41c2c"
      }
     },
     "metadata": {},
     "output_type": "display_data"
    }
   ],
   "source": [
    "df[\"question2_preprocessed\"] = track_parallel_progress(preprocess, df['question2'].to_list(), nproc=10)"
   ],
   "metadata": {
    "collapsed": false,
    "ExecuteTime": {
     "end_time": "2023-05-30T13:15:20.987912Z",
     "start_time": "2023-05-30T13:15:06.834950Z"
    }
   }
  },
  {
   "cell_type": "markdown",
   "source": [
    "## 1.3 collect the query set and candidate set\n",
    "\n",
    "collect the query set, Specifically, we will use the first 100 questions with is_duplicate = 1 to form 100 queries."
   ],
   "metadata": {
    "collapsed": false
   }
  },
  {
   "cell_type": "code",
   "execution_count": 42,
   "outputs": [
    {
     "data": {
      "text/plain": "'control horny emotions'"
     },
     "execution_count": 42,
     "metadata": {},
     "output_type": "execute_result"
    }
   ],
   "source": [
    "# collect the query set\n",
    "df_backup = df.copy()\n",
    "query_set = df[df['is_duplicate'] == 1]['question1_preprocessed'].head(100).tolist()\n",
    "\n",
    "query_id = []\n",
    "for q in query_set:\n",
    "    query_id.append(df[df['question1_preprocessed'] == q].index.tolist()[0])\n",
    "\n",
    "query_set[0]"
   ],
   "metadata": {
    "collapsed": false,
    "ExecuteTime": {
     "end_time": "2023-05-30T13:15:22.039884Z",
     "start_time": "2023-05-30T13:15:20.988139Z"
    }
   }
  },
  {
   "cell_type": "code",
   "execution_count": 43,
   "outputs": [
    {
     "name": "stdout",
     "output_type": "stream",
     "text": [
      "(363179, 8)\n",
      "10000\n",
      "control horniness\n"
     ]
    }
   ],
   "source": [
    "# remove columns level duplicates for question2\n",
    "\n",
    "print(df.shape)\n",
    "candidate_set = df.drop_duplicates(subset=['question2_preprocessed'])\n",
    "candidate_set = candidate_set[candidate_set['question2_preprocessed'] != '']\n",
    "candidate_set = candidate_set['question2_preprocessed'].tolist()[0:10000]\n",
    "print(len(candidate_set))\n",
    "print(candidate_set[1])"
   ],
   "metadata": {
    "collapsed": false,
    "ExecuteTime": {
     "end_time": "2023-05-30T13:15:22.172874Z",
     "start_time": "2023-05-30T13:15:22.040139Z"
    }
   }
  },
  {
   "cell_type": "markdown",
   "source": [
    "## 2. Write code for building inverted index with TF-IDF and performing text matching 25%"
   ],
   "metadata": {
    "collapsed": false
   }
  },
  {
   "cell_type": "markdown",
   "source": [
    "## 2.1 Build the inverted index with TF-IDF By Pure Python"
   ],
   "metadata": {
    "collapsed": false
   }
  },
  {
   "cell_type": "code",
   "execution_count": 10,
   "outputs": [],
   "source": [
    "from collections import defaultdict\n",
    "import math\n",
    "\n",
    "class TFIDF:\n",
    "    def __init__(self):\n",
    "        self.documents = None\n",
    "        self.inverted_index = defaultdict(dict)\n",
    "        self.document_frequencies = defaultdict(int)\n",
    "\n",
    "    def build_index(self, documents):\n",
    "        self.documents = documents\n",
    "        for doc_id, doc in tqdm(enumerate(documents), desc=\"Building index\"):\n",
    "            terms = doc.lower().split()\n",
    "            term_count = len(terms)\n",
    "            term_frequency = defaultdict(int)\n",
    "            for term in terms:\n",
    "                term_frequency[term] += 1\n",
    "            for term, frequency in term_frequency.items():\n",
    "                self.inverted_index[term][doc_id] = frequency / term_count  # calculate relative frequency\n",
    "            for term in set(terms):\n",
    "                self.document_frequencies[term] += 1\n",
    "\n",
    "        num_documents = len(self.documents)\n",
    "        for term in self.inverted_index:\n",
    "            df = self.document_frequencies[term]\n",
    "            idf = math.log(num_documents / df)\n",
    "            for doc_id, tf in self.inverted_index[term].items():\n",
    "                tf_idf = tf * idf\n",
    "                self.inverted_index[term][doc_id] = tf_idf\n",
    "\n",
    "    def search(self, query, top_k=1):\n",
    "        query_terms = query.lower().split()\n",
    "        scores = defaultdict(float)\n",
    "        for term in query_terms:\n",
    "            if term in self.inverted_index:\n",
    "                for doc_id, tf_idf in self.inverted_index[term].items():\n",
    "                    scores[doc_id] += tf_idf\n",
    "\n",
    "        sorted_scores = sorted(scores.items(), key=lambda x: x[1], reverse=True)\n",
    "        results = []\n",
    "        for doc_id, score in sorted_scores:\n",
    "            results.append((self.documents[doc_id], score, doc_id))\n",
    "        return results[0:top_k]\n"
   ],
   "metadata": {
    "collapsed": false,
    "ExecuteTime": {
     "end_time": "2023-05-29T17:25:58.980516Z",
     "start_time": "2023-05-29T17:25:58.930450Z"
    }
   }
  },
  {
   "cell_type": "code",
   "execution_count": 45,
   "outputs": [],
   "source": [
    "def evaluate(target_class, q_data, q_gt, train_data, top_k=1, **kwargs):\n",
    "    matcher = target_class(**kwargs)\n",
    "    matcher.build_index(train_data)\n",
    "    correct = 0\n",
    "    for q, gt in tqdm(zip(q_data, q_gt), desc=\"Evaluating\"):\n",
    "        results = matcher.search(q, top_k=top_k)\n",
    "        for result in results:\n",
    "            if result[2] == gt:\n",
    "                correct += 1\n",
    "                break\n",
    "    print(f\"Accuracy: Top-K={top_k}\", correct / len(q_data))\n",
    "    return correct / len(q_data)"
   ],
   "metadata": {
    "collapsed": false,
    "ExecuteTime": {
     "end_time": "2023-05-30T13:15:22.200902Z",
     "start_time": "2023-05-30T13:15:22.159370Z"
    }
   }
  },
  {
   "cell_type": "code",
   "execution_count": 12,
   "outputs": [
    {
     "data": {
      "text/plain": "Building index: 0it [00:00, ?it/s]",
      "application/vnd.jupyter.widget-view+json": {
       "version_major": 2,
       "version_minor": 0,
       "model_id": "2298c035ad2d4fd98830f96a98d9c3e9"
      }
     },
     "metadata": {},
     "output_type": "display_data"
    },
    {
     "name": "stdout",
     "output_type": "stream",
     "text": [
      "control horny emotions\n",
      "control horniness\n"
     ]
    },
    {
     "data": {
      "text/plain": "[('control emotions', 6.5227011681341, 2272),\n ('control emotions anger', 4.348467445422733, 2020),\n ('control emotions reactions nervousness', 3.26135058406705, 4717)]"
     },
     "execution_count": 12,
     "metadata": {},
     "output_type": "execute_result"
    }
   ],
   "source": [
    "tfidf = TFIDF()\n",
    "tfidf.build_index(candidate_set)\n",
    "print(query_set[0])\n",
    "print(candidate_set[query_id[0]])\n",
    "tfidf.search(query_set[0],top_k=3)"
   ],
   "metadata": {
    "collapsed": false,
    "ExecuteTime": {
     "end_time": "2023-05-29T17:25:59.032528Z",
     "start_time": "2023-05-29T17:25:58.965617Z"
    }
   }
  },
  {
   "cell_type": "markdown",
   "source": [
    "### Top2 accuracy"
   ],
   "metadata": {
    "collapsed": false
   }
  },
  {
   "cell_type": "code",
   "execution_count": 13,
   "outputs": [
    {
     "data": {
      "text/plain": "Building index: 0it [00:00, ?it/s]",
      "application/vnd.jupyter.widget-view+json": {
       "version_major": 2,
       "version_minor": 0,
       "model_id": "f9607bd8931f4bd794dcdca668072918"
      }
     },
     "metadata": {},
     "output_type": "display_data"
    },
    {
     "data": {
      "text/plain": "Evaluating: 0it [00:00, ?it/s]",
      "application/vnd.jupyter.widget-view+json": {
       "version_major": 2,
       "version_minor": 0,
       "model_id": "03db190e88584569976f23745a0bb9c2"
      }
     },
     "metadata": {},
     "output_type": "display_data"
    },
    {
     "name": "stdout",
     "output_type": "stream",
     "text": [
      "Accuracy: Top-K=2 0.68\n"
     ]
    },
    {
     "data": {
      "text/plain": "0.68"
     },
     "execution_count": 13,
     "metadata": {},
     "output_type": "execute_result"
    }
   ],
   "source": [
    "evaluate(TFIDF, query_set, query_id, candidate_set, top_k=2)"
   ],
   "metadata": {
    "collapsed": false,
    "ExecuteTime": {
     "end_time": "2023-05-29T17:25:59.137378Z",
     "start_time": "2023-05-29T17:25:59.031298Z"
    }
   }
  },
  {
   "cell_type": "markdown",
   "source": [
    "### Top5 accuracy"
   ],
   "metadata": {
    "collapsed": false
   }
  },
  {
   "cell_type": "code",
   "execution_count": 14,
   "outputs": [
    {
     "data": {
      "text/plain": "Building index: 0it [00:00, ?it/s]",
      "application/vnd.jupyter.widget-view+json": {
       "version_major": 2,
       "version_minor": 0,
       "model_id": "4cf42e4398634b598f9ac950b86ef85f"
      }
     },
     "metadata": {},
     "output_type": "display_data"
    },
    {
     "data": {
      "text/plain": "Evaluating: 0it [00:00, ?it/s]",
      "application/vnd.jupyter.widget-view+json": {
       "version_major": 2,
       "version_minor": 0,
       "model_id": "83e6ffecaf09422aabf3394980005ffe"
      }
     },
     "metadata": {},
     "output_type": "display_data"
    },
    {
     "name": "stdout",
     "output_type": "stream",
     "text": [
      "Accuracy: Top-K=5 0.84\n"
     ]
    },
    {
     "data": {
      "text/plain": "0.84"
     },
     "execution_count": 14,
     "metadata": {},
     "output_type": "execute_result"
    }
   ],
   "source": [
    "evaluate(TFIDF, query_set, query_id, candidate_set, top_k=5)"
   ],
   "metadata": {
    "collapsed": false,
    "ExecuteTime": {
     "end_time": "2023-05-29T17:25:59.215474Z",
     "start_time": "2023-05-29T17:25:59.086297Z"
    }
   }
  },
  {
   "cell_type": "markdown",
   "source": [
    "## 2.2 Build the inverted index with TF-IDF By Sklearn (verfiy the result)"
   ],
   "metadata": {
    "collapsed": false
   }
  },
  {
   "cell_type": "code",
   "execution_count": 15,
   "outputs": [],
   "source": [
    "from sklearn.feature_extraction.text import TfidfVectorizer\n",
    "\n",
    "\n",
    "class InvertedIndex:\n",
    "    def __init__(self):\n",
    "        self.vectorizer = TfidfVectorizer()\n",
    "\n",
    "    def build_index(self, documents):\n",
    "        self.documents = documents\n",
    "        self.tfidf_matrix = self.vectorizer.fit_transform(self.documents)\n",
    "\n",
    "    def search(self, query, top_k=1):\n",
    "        query_vector = self.vectorizer.transform([query])\n",
    "        scores = self.tfidf_matrix.dot(query_vector.T).toarray().flatten()\n",
    "        sorted_indices = scores.argsort()[::-1]\n",
    "        results = [(self.documents[i], scores[i], i) for i in sorted_indices if scores[i] > 0]\n",
    "        return results[0:top_k]\n",
    "\n",
    "index = InvertedIndex()\n",
    "index.build_index(candidate_set)"
   ],
   "metadata": {
    "collapsed": false,
    "ExecuteTime": {
     "end_time": "2023-05-29T17:25:59.226340Z",
     "start_time": "2023-05-29T17:25:59.175566Z"
    }
   }
  },
  {
   "cell_type": "code",
   "execution_count": 16,
   "outputs": [
    {
     "data": {
      "text/plain": "[('control emotions', 1.0, 2272),\n ('control emotions anger', 0.7966226755142278, 2020),\n ('control anger impulsive emotions', 0.647119109904462, 4771)]"
     },
     "execution_count": 16,
     "metadata": {},
     "output_type": "execute_result"
    }
   ],
   "source": [
    "index.search(query_set[0],top_k=3)"
   ],
   "metadata": {
    "collapsed": false,
    "ExecuteTime": {
     "end_time": "2023-05-29T17:25:59.301730Z",
     "start_time": "2023-05-29T17:25:59.217963Z"
    }
   }
  },
  {
   "cell_type": "code",
   "execution_count": 17,
   "outputs": [
    {
     "data": {
      "text/plain": "Evaluating: 0it [00:00, ?it/s]",
      "application/vnd.jupyter.widget-view+json": {
       "version_major": 2,
       "version_minor": 0,
       "model_id": "f88f849f392545a294fcbdc00043492b"
      }
     },
     "metadata": {},
     "output_type": "display_data"
    },
    {
     "name": "stdout",
     "output_type": "stream",
     "text": [
      "Accuracy: Top-K=2 0.74\n"
     ]
    },
    {
     "data": {
      "text/plain": "0.74"
     },
     "execution_count": 17,
     "metadata": {},
     "output_type": "execute_result"
    }
   ],
   "source": [
    "evaluate(InvertedIndex, query_set, query_id, candidate_set, top_k=2)"
   ],
   "metadata": {
    "collapsed": false,
    "ExecuteTime": {
     "end_time": "2023-05-29T17:25:59.384550Z",
     "start_time": "2023-05-29T17:25:59.218124Z"
    }
   }
  },
  {
   "cell_type": "code",
   "execution_count": 18,
   "outputs": [
    {
     "data": {
      "text/plain": "Evaluating: 0it [00:00, ?it/s]",
      "application/vnd.jupyter.widget-view+json": {
       "version_major": 2,
       "version_minor": 0,
       "model_id": "6681735801a44fdaaecbf5c8a93d6acf"
      }
     },
     "metadata": {},
     "output_type": "display_data"
    },
    {
     "name": "stdout",
     "output_type": "stream",
     "text": [
      "Accuracy: Top-K=5 0.86\n"
     ]
    },
    {
     "data": {
      "text/plain": "0.86"
     },
     "execution_count": 18,
     "metadata": {},
     "output_type": "execute_result"
    }
   ],
   "source": [
    "evaluate(InvertedIndex, query_set, query_id, candidate_set, top_k=5)"
   ],
   "metadata": {
    "collapsed": false,
    "ExecuteTime": {
     "end_time": "2023-05-29T17:25:59.558716Z",
     "start_time": "2023-05-29T17:25:59.379088Z"
    }
   }
  },
  {
   "cell_type": "code",
   "execution_count": 19,
   "outputs": [],
   "source": [
    "def SearchQuestion(question,top_k=1, need_preprocess=True):\n",
    "    raw_q = question\n",
    "    if need_preprocess:\n",
    "        question = preprocess(question)\n",
    "\n",
    "    results = tfidf.search(question, top_k)\n",
    "    print(\n",
    "        f\"Raw question: {raw_q}\\n\"\n",
    "        f\"Query: {question}\\n\"\n",
    "        f\"Results: {results}\\n\"\n",
    "    )\n",
    "    return results"
   ],
   "metadata": {
    "collapsed": false,
    "ExecuteTime": {
     "end_time": "2023-05-29T17:25:59.612368Z",
     "start_time": "2023-05-29T17:25:59.554454Z"
    }
   }
  },
  {
   "cell_type": "code",
   "execution_count": 20,
   "outputs": [
    {
     "name": "stdout",
     "output_type": "stream",
     "text": [
      "Raw question: How is weather today ? \n",
      "Query: weather today\n",
      "Results: [('challenges face today', 1.8664741531106526, 4687), ('people evil today', 1.8664741531106526, 7051), ('eat ice cream weather cold', 1.6223456166616146, 875)]\n",
      "\n"
     ]
    }
   ],
   "source": [
    "_ = SearchQuestion(\"How is weather today ? \",top_k=3)"
   ],
   "metadata": {
    "collapsed": false,
    "ExecuteTime": {
     "end_time": "2023-05-29T17:25:59.628591Z",
     "start_time": "2023-05-29T17:25:59.598858Z"
    }
   }
  },
  {
   "cell_type": "markdown",
   "source": [],
   "metadata": {
    "collapsed": false
   }
  },
  {
   "cell_type": "markdown",
   "source": [
    "# 3. Write code for building text matching with sentence embedding. The sentence embedding is calculated by averaging word embedding. 10%"
   ],
   "metadata": {
    "collapsed": false
   }
  },
  {
   "cell_type": "code",
   "execution_count": 44,
   "outputs": [],
   "source": [
    "import numpy as np\n",
    "from numpy.linalg import norm\n",
    "\n",
    "class GloveTextMatching:\n",
    "    def __init__(self,dim=300):\n",
    "        self.document_embeddings = None\n",
    "        self.documents = None\n",
    "        self.word_embeddings = self.load_glove_embeddings(f'glove.6B.{dim}d.txt')\n",
    "        self.dim = self.word_embeddings['hello'].shape[0]\n",
    "\n",
    "    def build_index(self, documents):\n",
    "        self.documents = documents\n",
    "        self.document_embeddings = np.array([self.calculate_sentence_embedding(doc) for doc in self.documents])\n",
    "\n",
    "    def load_glove_embeddings(self, file_path):\n",
    "        embeddings = {}\n",
    "        with open(file_path, 'r', encoding='utf-8') as f:\n",
    "            for line in f:\n",
    "                values = line.split()\n",
    "                word = values[0]\n",
    "                embedding = np.asarray(values[1:], dtype='float32')\n",
    "                embeddings[word] = embedding\n",
    "        return embeddings\n",
    "\n",
    "    def calculate_sentence_embedding(self, sentence):\n",
    "        tokens = sentence.split()\n",
    "        embeddings = [self.word_embeddings.get(token, np.ones((self.dim,))) for token in tokens]\n",
    "        if len(embeddings) == 0:\n",
    "            return np.zeros((self.dim,))\n",
    "        else:\n",
    "            return np.mean(embeddings, axis=0)\n",
    "\n",
    "    def search(self, query, top_k=1):\n",
    "        query = preprocess(query)  # Make sure to define or import preprocess\n",
    "        query_embedding = self.calculate_sentence_embedding(query)\n",
    "\n",
    "        document_norms = norm(self.document_embeddings, axis=1)\n",
    "        query_norm = norm(query_embedding)\n",
    "        cosine_similarities = np.dot(self.document_embeddings, query_embedding)/(document_norms * query_norm + 1e-8)\n",
    "\n",
    "        top_k_indices = cosine_similarities.argsort()[-top_k:][::-1]\n",
    "\n",
    "        results = [(self.documents[i], cosine_similarities[i], i) for i in top_k_indices]\n",
    "        return results\n"
   ],
   "metadata": {
    "collapsed": false,
    "ExecuteTime": {
     "end_time": "2023-05-30T13:15:22.173707Z",
     "start_time": "2023-05-30T13:15:22.136291Z"
    }
   }
  },
  {
   "cell_type": "code",
   "execution_count": 22,
   "outputs": [
    {
     "name": "stdout",
     "output_type": "stream",
     "text": [
      "best books cosmology\n",
      "best book cosmology\n"
     ]
    },
    {
     "data": {
      "text/plain": "[('best book cosmology', 0.9501094039853716, 27),\n ('best contemporary romance books', 0.7740184942416759, 6732),\n ('best books politics', 0.7708773473371627, 3230),\n ('best books learn astronomy beginners', 0.7677869660639486, 3478),\n ('best books physical chemistry', 0.7633081611650696, 9297)]"
     },
     "execution_count": 22,
     "metadata": {},
     "output_type": "execute_result"
    }
   ],
   "source": [
    "glove_text_matching = GloveTextMatching()\n",
    "glove_text_matching.build_index(candidate_set[0:10000])\n",
    "print(query_set[10])\n",
    "print(candidate_set[query_id[10]])\n",
    "glove_text_matching.search(query_set[10],top_k=5)"
   ],
   "metadata": {
    "collapsed": false,
    "ExecuteTime": {
     "end_time": "2023-05-29T17:26:08.976032Z",
     "start_time": "2023-05-29T17:25:59.599198Z"
    }
   }
  },
  {
   "cell_type": "code",
   "execution_count": 23,
   "outputs": [
    {
     "data": {
      "text/plain": "(300,)"
     },
     "execution_count": 23,
     "metadata": {},
     "output_type": "execute_result"
    }
   ],
   "source": [
    "glove_text_matching.word_embeddings['hello'].shape"
   ],
   "metadata": {
    "collapsed": false,
    "ExecuteTime": {
     "end_time": "2023-05-29T17:26:09.054698Z",
     "start_time": "2023-05-29T17:26:08.976896Z"
    }
   }
  },
  {
   "cell_type": "code",
   "execution_count": 24,
   "outputs": [
    {
     "data": {
      "text/plain": "'lifestyle'"
     },
     "execution_count": 24,
     "metadata": {},
     "output_type": "execute_result"
    }
   ],
   "source": [
    "candidate_set[10].split()[2]"
   ],
   "metadata": {
    "collapsed": false,
    "ExecuteTime": {
     "end_time": "2023-05-29T17:26:09.055086Z",
     "start_time": "2023-05-29T17:26:09.021667Z"
    }
   }
  },
  {
   "cell_type": "markdown",
   "source": [
    "### Top2 accuracy"
   ],
   "metadata": {
    "collapsed": false
   }
  },
  {
   "cell_type": "code",
   "execution_count": 25,
   "outputs": [
    {
     "data": {
      "text/plain": "Evaluating: 0it [00:00, ?it/s]",
      "application/vnd.jupyter.widget-view+json": {
       "version_major": 2,
       "version_minor": 0,
       "model_id": "30bedf79916a41c08c36b324c732f9a9"
      }
     },
     "metadata": {},
     "output_type": "display_data"
    },
    {
     "name": "stdout",
     "output_type": "stream",
     "text": [
      "Accuracy: Top-K=2 0.69\n"
     ]
    },
    {
     "data": {
      "text/plain": "0.69"
     },
     "execution_count": 25,
     "metadata": {},
     "output_type": "execute_result"
    }
   ],
   "source": [
    "evaluate(GloveTextMatching, query_set, query_id, candidate_set, top_k=2)"
   ],
   "metadata": {
    "collapsed": false,
    "ExecuteTime": {
     "end_time": "2023-05-29T17:26:18.837988Z",
     "start_time": "2023-05-29T17:26:09.021893Z"
    }
   }
  },
  {
   "cell_type": "markdown",
   "source": [
    "### Top5 accuracy"
   ],
   "metadata": {
    "collapsed": false
   }
  },
  {
   "cell_type": "code",
   "execution_count": 26,
   "outputs": [
    {
     "data": {
      "text/plain": "Evaluating: 0it [00:00, ?it/s]",
      "application/vnd.jupyter.widget-view+json": {
       "version_major": 2,
       "version_minor": 0,
       "model_id": "e1bf0d7a95f1422e9d6adbc82ed01188"
      }
     },
     "metadata": {},
     "output_type": "display_data"
    },
    {
     "name": "stdout",
     "output_type": "stream",
     "text": [
      "Accuracy: Top-K=5 0.77\n"
     ]
    },
    {
     "data": {
      "text/plain": "0.77"
     },
     "execution_count": 26,
     "metadata": {},
     "output_type": "execute_result"
    }
   ],
   "source": [
    "evaluate(GloveTextMatching, query_set, query_id, candidate_set, top_k=5)"
   ],
   "metadata": {
    "collapsed": false,
    "ExecuteTime": {
     "end_time": "2023-05-29T17:26:28.547835Z",
     "start_time": "2023-05-29T17:26:18.837667Z"
    }
   }
  },
  {
   "cell_type": "markdown",
   "source": [
    "# 4. Write code for building text matching with sentence embedding. The sentence embedding is calculated by using an alternative strategy other than averaging word embedding, e.g., downweight frequent words, or using the method in Sanjeev Arora, Yingyu Liang, Tengyu Ma, A SIMPLE BUT TOUGH-TO-BEAT BASELINE FOR SENTENCE EMBEDDINGS, ICLR 2017. 10%"
   ],
   "metadata": {
    "collapsed": false
   }
  },
  {
   "cell_type": "markdown",
   "source": [
    "## 4.1 Downweight frequent words"
   ],
   "metadata": {
    "collapsed": false
   }
  },
  {
   "cell_type": "code",
   "execution_count": 27,
   "outputs": [],
   "source": [
    "from collections import Counter\n",
    "import numpy as np\n",
    "\n",
    "class DownWeightGloveTextMatching(GloveTextMatching):\n",
    "    def __init__(self, a=0.5, dim=300):\n",
    "        super().__init__(dim=dim)\n",
    "        self.a = a\n",
    "        print(f'Using a = {self.a}')\n",
    "\n",
    "    def build_index(self, documents):\n",
    "        word_frequencies = Counter()\n",
    "        for doc in documents:\n",
    "            tokens = doc.split()\n",
    "            word_frequencies.update(tokens)\n",
    "        self.word_frequencies = word_frequencies\n",
    "        super().build_index(documents)\n",
    "\n",
    "    def calculate_sentence_embedding(self, sentence):\n",
    "        tokens = sentence.split()\n",
    "        embeddings = []\n",
    "        weights = []\n",
    "        for token in tokens:\n",
    "            if token in self.word_embeddings:\n",
    "                embeddings.append(self.word_embeddings[token])\n",
    "                weights.append(np.log(self.a / (self.a + self.word_frequencies[token])))\n",
    "            else:\n",
    "                embeddings.append(np.ones((self.dim,)))\n",
    "                weights.append(1e-8)\n",
    "        if embeddings:\n",
    "            embedding = np.average(embeddings, axis=0, weights=weights)\n",
    "        else:\n",
    "            embedding = np.zeros((self.dim,))\n",
    "        return embedding"
   ],
   "metadata": {
    "collapsed": false,
    "ExecuteTime": {
     "end_time": "2023-05-29T17:26:28.548014Z",
     "start_time": "2023-05-29T17:26:28.545832Z"
    }
   }
  },
  {
   "cell_type": "code",
   "execution_count": 28,
   "outputs": [
    {
     "name": "stdout",
     "output_type": "stream",
     "text": [
      "Using a = 0.5\n"
     ]
    },
    {
     "data": {
      "text/plain": "[('control emotions', 0.99999999959915, 2272),\n ('control emotions reactions nervousness', 0.9528656707915971, 4717),\n ('control emotions anger', 0.9371752084382537, 2020)]"
     },
     "execution_count": 28,
     "metadata": {},
     "output_type": "execute_result"
    }
   ],
   "source": [
    "glove_text_matching = DownWeightGloveTextMatching()\n",
    "glove_text_matching.build_index(candidate_set)\n",
    "glove_text_matching.search(query_set[0],top_k=3)"
   ],
   "metadata": {
    "collapsed": false,
    "ExecuteTime": {
     "end_time": "2023-05-29T17:26:37.977556Z",
     "start_time": "2023-05-29T17:26:28.546050Z"
    }
   }
  },
  {
   "cell_type": "markdown",
   "source": [
    "### Top2 accuracy"
   ],
   "metadata": {
    "collapsed": false
   }
  },
  {
   "cell_type": "code",
   "execution_count": 29,
   "outputs": [
    {
     "name": "stdout",
     "output_type": "stream",
     "text": [
      "Using a = 0.5\n"
     ]
    },
    {
     "data": {
      "text/plain": "Evaluating: 0it [00:00, ?it/s]",
      "application/vnd.jupyter.widget-view+json": {
       "version_major": 2,
       "version_minor": 0,
       "model_id": "4de0808dfa184b70bce54cecd98ccc38"
      }
     },
     "metadata": {},
     "output_type": "display_data"
    },
    {
     "name": "stdout",
     "output_type": "stream",
     "text": [
      "Accuracy: Top-K=2 0.61\n"
     ]
    },
    {
     "data": {
      "text/plain": "0.61"
     },
     "execution_count": 29,
     "metadata": {},
     "output_type": "execute_result"
    }
   ],
   "source": [
    "evaluate(DownWeightGloveTextMatching, query_set, query_id, candidate_set, top_k=2)"
   ],
   "metadata": {
    "collapsed": false,
    "ExecuteTime": {
     "end_time": "2023-05-29T17:26:47.745709Z",
     "start_time": "2023-05-29T17:26:37.948198Z"
    }
   }
  },
  {
   "cell_type": "markdown",
   "source": [],
   "metadata": {
    "collapsed": false
   }
  },
  {
   "cell_type": "markdown",
   "source": [
    "### Top5 accuracy"
   ],
   "metadata": {
    "collapsed": false
   }
  },
  {
   "cell_type": "code",
   "execution_count": 30,
   "outputs": [
    {
     "name": "stdout",
     "output_type": "stream",
     "text": [
      "Using a = 0.5\n"
     ]
    },
    {
     "data": {
      "text/plain": "Evaluating: 0it [00:00, ?it/s]",
      "application/vnd.jupyter.widget-view+json": {
       "version_major": 2,
       "version_minor": 0,
       "model_id": "550d8e13109449bf9728c82af4ef2e74"
      }
     },
     "metadata": {},
     "output_type": "display_data"
    },
    {
     "name": "stdout",
     "output_type": "stream",
     "text": [
      "Accuracy: Top-K=5 0.71\n"
     ]
    },
    {
     "data": {
      "text/plain": "0.71"
     },
     "execution_count": 30,
     "metadata": {},
     "output_type": "execute_result"
    }
   ],
   "source": [
    "evaluate(DownWeightGloveTextMatching, query_set, query_id, candidate_set, top_k=5)"
   ],
   "metadata": {
    "collapsed": false,
    "ExecuteTime": {
     "end_time": "2023-05-29T17:26:57.518214Z",
     "start_time": "2023-05-29T17:26:47.733272Z"
    }
   }
  },
  {
   "cell_type": "markdown",
   "source": [
    "### Eval A values"
   ],
   "metadata": {
    "collapsed": false
   }
  },
  {
   "cell_type": "code",
   "execution_count": 31,
   "outputs": [],
   "source": [
    "def evaluate_a_values(method=DownWeightGloveTextMatching, a_list=None):\n",
    "    if a_list is None:\n",
    "        a_list = [5e-4,5e-3,0.05, 0.1, 0.3, 0.5, 0.7, 0.9, 1, 2, 3]\n",
    "    result = []\n",
    "    for a in a_list:\n",
    "        top2 = evaluate(method, query_set, query_id, candidate_set, top_k=2, a=a)\n",
    "        top5 = evaluate(method, query_set, query_id, candidate_set, top_k=5, a=a)\n",
    "        result.append({\n",
    "            'a': a,\n",
    "            'top2': top2,\n",
    "            'top5': top5\n",
    "        })\n",
    "    return result"
   ],
   "metadata": {
    "collapsed": false,
    "ExecuteTime": {
     "end_time": "2023-05-29T17:26:57.518439Z",
     "start_time": "2023-05-29T17:26:57.517174Z"
    }
   }
  },
  {
   "cell_type": "code",
   "execution_count": 32,
   "outputs": [
    {
     "name": "stdout",
     "output_type": "stream",
     "text": [
      "Using a = 0.0005\n"
     ]
    },
    {
     "data": {
      "text/plain": "Evaluating: 0it [00:00, ?it/s]",
      "application/vnd.jupyter.widget-view+json": {
       "version_major": 2,
       "version_minor": 0,
       "model_id": "3d5aed6f73c94538b41ca292c86e406e"
      }
     },
     "metadata": {},
     "output_type": "display_data"
    },
    {
     "name": "stdout",
     "output_type": "stream",
     "text": [
      "Accuracy: Top-K=2 0.7\n",
      "Using a = 0.0005\n"
     ]
    },
    {
     "data": {
      "text/plain": "Evaluating: 0it [00:00, ?it/s]",
      "application/vnd.jupyter.widget-view+json": {
       "version_major": 2,
       "version_minor": 0,
       "model_id": "f3c485dfd4bd403d8e994b869f10c7ee"
      }
     },
     "metadata": {},
     "output_type": "display_data"
    },
    {
     "name": "stdout",
     "output_type": "stream",
     "text": [
      "Accuracy: Top-K=5 0.79\n",
      "Using a = 0.005\n"
     ]
    },
    {
     "data": {
      "text/plain": "Evaluating: 0it [00:00, ?it/s]",
      "application/vnd.jupyter.widget-view+json": {
       "version_major": 2,
       "version_minor": 0,
       "model_id": "9fe260357151488ebe026aa02e4466b6"
      }
     },
     "metadata": {},
     "output_type": "display_data"
    },
    {
     "name": "stdout",
     "output_type": "stream",
     "text": [
      "Accuracy: Top-K=2 0.68\n",
      "Using a = 0.005\n"
     ]
    },
    {
     "data": {
      "text/plain": "Evaluating: 0it [00:00, ?it/s]",
      "application/vnd.jupyter.widget-view+json": {
       "version_major": 2,
       "version_minor": 0,
       "model_id": "ec5204fba55d4b65ae5f18396272c556"
      }
     },
     "metadata": {},
     "output_type": "display_data"
    },
    {
     "name": "stdout",
     "output_type": "stream",
     "text": [
      "Accuracy: Top-K=5 0.79\n",
      "Using a = 0.05\n"
     ]
    },
    {
     "data": {
      "text/plain": "Evaluating: 0it [00:00, ?it/s]",
      "application/vnd.jupyter.widget-view+json": {
       "version_major": 2,
       "version_minor": 0,
       "model_id": "9f8a965c563b4ab0ba1cde8f5c23d09b"
      }
     },
     "metadata": {},
     "output_type": "display_data"
    },
    {
     "name": "stdout",
     "output_type": "stream",
     "text": [
      "Accuracy: Top-K=2 0.67\n",
      "Using a = 0.05\n"
     ]
    },
    {
     "data": {
      "text/plain": "Evaluating: 0it [00:00, ?it/s]",
      "application/vnd.jupyter.widget-view+json": {
       "version_major": 2,
       "version_minor": 0,
       "model_id": "9cf5cfae1fdf47aba2f7bc10643da829"
      }
     },
     "metadata": {},
     "output_type": "display_data"
    },
    {
     "name": "stdout",
     "output_type": "stream",
     "text": [
      "Accuracy: Top-K=5 0.78\n",
      "Using a = 0.1\n"
     ]
    },
    {
     "data": {
      "text/plain": "Evaluating: 0it [00:00, ?it/s]",
      "application/vnd.jupyter.widget-view+json": {
       "version_major": 2,
       "version_minor": 0,
       "model_id": "745bf64334b0424ab3de4bcc10528826"
      }
     },
     "metadata": {},
     "output_type": "display_data"
    },
    {
     "name": "stdout",
     "output_type": "stream",
     "text": [
      "Accuracy: Top-K=2 0.69\n",
      "Using a = 0.1\n"
     ]
    },
    {
     "data": {
      "text/plain": "Evaluating: 0it [00:00, ?it/s]",
      "application/vnd.jupyter.widget-view+json": {
       "version_major": 2,
       "version_minor": 0,
       "model_id": "9b46be8cb9f74d69a9af94bf3189fd3a"
      }
     },
     "metadata": {},
     "output_type": "display_data"
    },
    {
     "name": "stdout",
     "output_type": "stream",
     "text": [
      "Accuracy: Top-K=5 0.77\n",
      "Using a = 0.3\n"
     ]
    },
    {
     "data": {
      "text/plain": "Evaluating: 0it [00:00, ?it/s]",
      "application/vnd.jupyter.widget-view+json": {
       "version_major": 2,
       "version_minor": 0,
       "model_id": "dce16837521a41ba91bbef95bfcb9775"
      }
     },
     "metadata": {},
     "output_type": "display_data"
    },
    {
     "name": "stdout",
     "output_type": "stream",
     "text": [
      "Accuracy: Top-K=2 0.64\n",
      "Using a = 0.3\n"
     ]
    },
    {
     "data": {
      "text/plain": "Evaluating: 0it [00:00, ?it/s]",
      "application/vnd.jupyter.widget-view+json": {
       "version_major": 2,
       "version_minor": 0,
       "model_id": "305392cc900840e898a7fb8c6f45b90f"
      }
     },
     "metadata": {},
     "output_type": "display_data"
    },
    {
     "name": "stdout",
     "output_type": "stream",
     "text": [
      "Accuracy: Top-K=5 0.74\n",
      "Using a = 0.5\n"
     ]
    },
    {
     "data": {
      "text/plain": "Evaluating: 0it [00:00, ?it/s]",
      "application/vnd.jupyter.widget-view+json": {
       "version_major": 2,
       "version_minor": 0,
       "model_id": "470ef4240fd2494ca73e04119169aa3e"
      }
     },
     "metadata": {},
     "output_type": "display_data"
    },
    {
     "name": "stdout",
     "output_type": "stream",
     "text": [
      "Accuracy: Top-K=2 0.61\n",
      "Using a = 0.5\n"
     ]
    },
    {
     "data": {
      "text/plain": "Evaluating: 0it [00:00, ?it/s]",
      "application/vnd.jupyter.widget-view+json": {
       "version_major": 2,
       "version_minor": 0,
       "model_id": "db8a6574a24342aaa3c0c5cdcbabe1e6"
      }
     },
     "metadata": {},
     "output_type": "display_data"
    },
    {
     "name": "stdout",
     "output_type": "stream",
     "text": [
      "Accuracy: Top-K=5 0.71\n",
      "Using a = 0.7\n"
     ]
    },
    {
     "data": {
      "text/plain": "Evaluating: 0it [00:00, ?it/s]",
      "application/vnd.jupyter.widget-view+json": {
       "version_major": 2,
       "version_minor": 0,
       "model_id": "fffa495c0eaf4c8c937122e98073cfb6"
      }
     },
     "metadata": {},
     "output_type": "display_data"
    },
    {
     "name": "stdout",
     "output_type": "stream",
     "text": [
      "Accuracy: Top-K=2 0.59\n",
      "Using a = 0.7\n"
     ]
    },
    {
     "data": {
      "text/plain": "Evaluating: 0it [00:00, ?it/s]",
      "application/vnd.jupyter.widget-view+json": {
       "version_major": 2,
       "version_minor": 0,
       "model_id": "c45a380dd7a840eaa2c97d4b56f246c5"
      }
     },
     "metadata": {},
     "output_type": "display_data"
    },
    {
     "name": "stdout",
     "output_type": "stream",
     "text": [
      "Accuracy: Top-K=5 0.7\n",
      "Using a = 0.9\n"
     ]
    },
    {
     "data": {
      "text/plain": "Evaluating: 0it [00:00, ?it/s]",
      "application/vnd.jupyter.widget-view+json": {
       "version_major": 2,
       "version_minor": 0,
       "model_id": "94f8495d426a4e56a0f4b7a841624345"
      }
     },
     "metadata": {},
     "output_type": "display_data"
    },
    {
     "name": "stdout",
     "output_type": "stream",
     "text": [
      "Accuracy: Top-K=2 0.59\n",
      "Using a = 0.9\n"
     ]
    },
    {
     "data": {
      "text/plain": "Evaluating: 0it [00:00, ?it/s]",
      "application/vnd.jupyter.widget-view+json": {
       "version_major": 2,
       "version_minor": 0,
       "model_id": "725989a5929543e99dde91c01fc4a3da"
      }
     },
     "metadata": {},
     "output_type": "display_data"
    },
    {
     "name": "stdout",
     "output_type": "stream",
     "text": [
      "Accuracy: Top-K=5 0.7\n",
      "Using a = 1\n"
     ]
    },
    {
     "data": {
      "text/plain": "Evaluating: 0it [00:00, ?it/s]",
      "application/vnd.jupyter.widget-view+json": {
       "version_major": 2,
       "version_minor": 0,
       "model_id": "dbe3048caf534bc88ceed14e55acd38d"
      }
     },
     "metadata": {},
     "output_type": "display_data"
    },
    {
     "name": "stdout",
     "output_type": "stream",
     "text": [
      "Accuracy: Top-K=2 0.59\n",
      "Using a = 1\n"
     ]
    },
    {
     "data": {
      "text/plain": "Evaluating: 0it [00:00, ?it/s]",
      "application/vnd.jupyter.widget-view+json": {
       "version_major": 2,
       "version_minor": 0,
       "model_id": "4c1660fe6fec4db2821b764260ca6cfa"
      }
     },
     "metadata": {},
     "output_type": "display_data"
    },
    {
     "name": "stdout",
     "output_type": "stream",
     "text": [
      "Accuracy: Top-K=5 0.69\n",
      "Using a = 2\n"
     ]
    },
    {
     "data": {
      "text/plain": "Evaluating: 0it [00:00, ?it/s]",
      "application/vnd.jupyter.widget-view+json": {
       "version_major": 2,
       "version_minor": 0,
       "model_id": "4a8a7af08de24167b14fcd3072467035"
      }
     },
     "metadata": {},
     "output_type": "display_data"
    },
    {
     "name": "stdout",
     "output_type": "stream",
     "text": [
      "Accuracy: Top-K=2 0.54\n",
      "Using a = 2\n"
     ]
    },
    {
     "data": {
      "text/plain": "Evaluating: 0it [00:00, ?it/s]",
      "application/vnd.jupyter.widget-view+json": {
       "version_major": 2,
       "version_minor": 0,
       "model_id": "b77bef9db754476e80128f6269985b12"
      }
     },
     "metadata": {},
     "output_type": "display_data"
    },
    {
     "name": "stdout",
     "output_type": "stream",
     "text": [
      "Accuracy: Top-K=5 0.64\n",
      "Using a = 3\n"
     ]
    },
    {
     "data": {
      "text/plain": "Evaluating: 0it [00:00, ?it/s]",
      "application/vnd.jupyter.widget-view+json": {
       "version_major": 2,
       "version_minor": 0,
       "model_id": "e78b87517ca54c85a4d542362f753188"
      }
     },
     "metadata": {},
     "output_type": "display_data"
    },
    {
     "name": "stdout",
     "output_type": "stream",
     "text": [
      "Accuracy: Top-K=2 0.54\n",
      "Using a = 3\n"
     ]
    },
    {
     "data": {
      "text/plain": "Evaluating: 0it [00:00, ?it/s]",
      "application/vnd.jupyter.widget-view+json": {
       "version_major": 2,
       "version_minor": 0,
       "model_id": "b425e44541a3446eb3fc8efbaedb43c1"
      }
     },
     "metadata": {},
     "output_type": "display_data"
    },
    {
     "name": "stdout",
     "output_type": "stream",
     "text": [
      "Accuracy: Top-K=5 0.61\n"
     ]
    }
   ],
   "source": [
    "result = evaluate_a_values()"
   ],
   "metadata": {
    "collapsed": false,
    "ExecuteTime": {
     "end_time": "2023-05-29T17:30:32.715285Z",
     "start_time": "2023-05-29T17:26:57.517994Z"
    }
   }
  },
  {
   "cell_type": "code",
   "execution_count": 33,
   "outputs": [
    {
     "data": {
      "text/plain": "<Figure size 1000x800 with 1 Axes>",
      "image/png": "[encoded data removed]"
     },
     "metadata": {},
     "output_type": "display_data"
    },
    {
     "data": {
      "text/plain": "         a  top2  top5\n0   0.0005  0.70  0.79\n1   0.0050  0.68  0.79\n2   0.0500  0.67  0.78\n3   0.1000  0.69  0.77\n4   0.3000  0.64  0.74\n5   0.5000  0.61  0.71\n6   0.7000  0.59  0.70\n7   0.9000  0.59  0.70\n8   1.0000  0.59  0.69\n9   2.0000  0.54  0.64\n10  3.0000  0.54  0.61",
      "text/html": "<div>\n<style scoped>\n    .dataframe tbody tr th:only-of-type {\n        vertical-align: middle;\n    }\n\n    .dataframe tbody tr th {\n        vertical-align: top;\n    }\n\n    .dataframe thead th {\n        text-align: right;\n    }\n</style>\n<table border=\"1\" class=\"dataframe\">\n  <thead>\n    <tr style=\"text-align: right;\">\n      <th></th>\n      <th>a</th>\n      <th>top2</th>\n      <th>top5</th>\n    </tr>\n  </thead>\n  <tbody>\n    <tr>\n      <th>0</th>\n      <td>0.0005</td>\n      <td>0.70</td>\n      <td>0.79</td>\n    </tr>\n    <tr>\n      <th>1</th>\n      <td>0.0050</td>\n      <td>0.68</td>\n      <td>0.79</td>\n    </tr>\n    <tr>\n      <th>2</th>\n      <td>0.0500</td>\n      <td>0.67</td>\n      <td>0.78</td>\n    </tr>\n    <tr>\n      <th>3</th>\n      <td>0.1000</td>\n      <td>0.69</td>\n      <td>0.77</td>\n    </tr>\n    <tr>\n      <th>4</th>\n      <td>0.3000</td>\n      <td>0.64</td>\n      <td>0.74</td>\n    </tr>\n    <tr>\n      <th>5</th>\n      <td>0.5000</td>\n      <td>0.61</td>\n      <td>0.71</td>\n    </tr>\n    <tr>\n      <th>6</th>\n      <td>0.7000</td>\n      <td>0.59</td>\n      <td>0.70</td>\n    </tr>\n    <tr>\n      <th>7</th>\n      <td>0.9000</td>\n      <td>0.59</td>\n      <td>0.70</td>\n    </tr>\n    <tr>\n      <th>8</th>\n      <td>1.0000</td>\n      <td>0.59</td>\n      <td>0.69</td>\n    </tr>\n    <tr>\n      <th>9</th>\n      <td>2.0000</td>\n      <td>0.54</td>\n      <td>0.64</td>\n    </tr>\n    <tr>\n      <th>10</th>\n      <td>3.0000</td>\n      <td>0.54</td>\n      <td>0.61</td>\n    </tr>\n  </tbody>\n</table>\n</div>"
     },
     "execution_count": 33,
     "metadata": {},
     "output_type": "execute_result"
    }
   ],
   "source": [
    "# Create a pandas DataFrame from the result list\n",
    "df = pd.DataFrame(result)\n",
    "\n",
    "# Plot the data using seaborn\n",
    "sns.lineplot(data=df, x='a', y='top2', label='Top 2 Accuracy')\n",
    "sns.lineplot(data=df, x='a', y='top5', label='Top 5 Accuracy')\n",
    "\n",
    "# Set plot labels and title\n",
    "sns.set(style='darkgrid')\n",
    "plt.xlabel('Value of a')\n",
    "plt.ylabel('Accuracy')\n",
    "plt.title('Accuracy vs. Value of a')\n",
    "\n",
    "# Show the plot\n",
    "plt.show()\n",
    "df"
   ],
   "metadata": {
    "collapsed": false,
    "ExecuteTime": {
     "end_time": "2023-05-29T17:30:32.870884Z",
     "start_time": "2023-05-29T17:30:32.716141Z"
    }
   }
  },
  {
   "cell_type": "markdown",
   "source": [
    "## 4.2 Sanjeev Arora, Yingyu Liang, Tengyu Ma, A SIMPLE BUT TOUGH-TO-BEAT BASELINE FOR SENTENCE EMBEDDINGS, ICLR 2017\n",
    "\n",
    "Smooth Inverse Frequency (SIF)"
   ],
   "metadata": {
    "collapsed": false
   }
  },
  {
   "cell_type": "code",
   "execution_count": 34,
   "outputs": [],
   "source": [
    "import numpy as np\n",
    "from numpy.linalg import norm\n",
    "from collections import Counter\n",
    "from sklearn.decomposition import PCA, TruncatedSVD\n",
    "import warnings\n",
    "warnings.filterwarnings('ignore')\n",
    "\n",
    "class SIFGloveTextMatching(DownWeightGloveTextMatching):\n",
    "    def __init__(self, a=1e-5, dim=300):\n",
    "        super().__init__(a=a, dim=dim)\n",
    "\n",
    "    def calculate_sentence_embedding(self, sentence):\n",
    "        tokens = sentence.split()\n",
    "        embeddings = []\n",
    "        weights = []\n",
    "        for word in tokens:\n",
    "            if word in self.word_embeddings:\n",
    "                embeddings.append(self.word_embeddings[word])\n",
    "                # Use the frequency of the word in the entire corpus to calculate the weight\n",
    "                weights.append(np.log(self.a / (self.a + self.word_frequencies.get(word, 1e-7+1))))\n",
    "\n",
    "        if len(embeddings) == 1 or np.var(embeddings) == 0:\n",
    "            return np.average(embeddings, axis=0, weights=weights)\n",
    "\n",
    "        if not embeddings:\n",
    "            return np.zeros((self.dim,))\n",
    "\n",
    "        avg_embedding = np.average(embeddings, axis=0, weights=weights)\n",
    "        pca = PCA(n_components=1)\n",
    "        pca.fit(embeddings)\n",
    "        pc = pca.components_\n",
    "        embedding = avg_embedding - pc * np.dot(avg_embedding, pc.T)\n",
    "        embedding = np.squeeze(embedding, axis=0)\n",
    "\n",
    "        return embedding\n"
   ],
   "metadata": {
    "collapsed": false,
    "ExecuteTime": {
     "end_time": "2023-05-29T17:30:32.984208Z",
     "start_time": "2023-05-29T17:30:32.863180Z"
    }
   }
  },
  {
   "cell_type": "code",
   "execution_count": 35,
   "outputs": [
    {
     "name": "stdout",
     "output_type": "stream",
     "text": [
      "Using a = 1e-05\n"
     ]
    },
    {
     "data": {
      "text/plain": "[('control emotions', 0.7619193068476802, 2272),\n ('control anger impulsive emotions', 0.725260713573077, 4771),\n ('control emotions anger', 0.7043610475217545, 2020)]"
     },
     "execution_count": 35,
     "metadata": {},
     "output_type": "execute_result"
    }
   ],
   "source": [
    "glove_text_matching = SIFGloveTextMatching()\n",
    "glove_text_matching.build_index(candidate_set)\n",
    "glove_text_matching.search(query_set[0],top_k=3)"
   ],
   "metadata": {
    "collapsed": false,
    "ExecuteTime": {
     "end_time": "2023-05-29T17:30:44.462052Z",
     "start_time": "2023-05-29T17:30:32.902233Z"
    }
   }
  },
  {
   "cell_type": "markdown",
   "source": [
    "### eval SIFGloveTextMatching top 2"
   ],
   "metadata": {
    "collapsed": false
   }
  },
  {
   "cell_type": "code",
   "execution_count": 36,
   "outputs": [
    {
     "name": "stdout",
     "output_type": "stream",
     "text": [
      "Using a = 1e-05\n"
     ]
    },
    {
     "data": {
      "text/plain": "Evaluating: 0it [00:00, ?it/s]",
      "application/vnd.jupyter.widget-view+json": {
       "version_major": 2,
       "version_minor": 0,
       "model_id": "6e3843400bd1454a86ec9ce9c48e276b"
      }
     },
     "metadata": {},
     "output_type": "display_data"
    },
    {
     "name": "stdout",
     "output_type": "stream",
     "text": [
      "Accuracy: Top-K=2 0.68\n"
     ]
    },
    {
     "data": {
      "text/plain": "0.68"
     },
     "execution_count": 36,
     "metadata": {},
     "output_type": "execute_result"
    }
   ],
   "source": [
    "evaluate(SIFGloveTextMatching, query_set, query_id, candidate_set, top_k=2)"
   ],
   "metadata": {
    "collapsed": false,
    "ExecuteTime": {
     "end_time": "2023-05-29T17:30:56.421984Z",
     "start_time": "2023-05-29T17:30:44.459477Z"
    }
   }
  },
  {
   "cell_type": "markdown",
   "source": [
    "### eval SIFGloveTextMatching top 5"
   ],
   "metadata": {
    "collapsed": false
   }
  },
  {
   "cell_type": "code",
   "execution_count": 37,
   "outputs": [
    {
     "name": "stdout",
     "output_type": "stream",
     "text": [
      "Using a = 1e-05\n"
     ]
    },
    {
     "data": {
      "text/plain": "Evaluating: 0it [00:00, ?it/s]",
      "application/vnd.jupyter.widget-view+json": {
       "version_major": 2,
       "version_minor": 0,
       "model_id": "a26363742ed546bf97bb848642d94553"
      }
     },
     "metadata": {},
     "output_type": "display_data"
    },
    {
     "name": "stdout",
     "output_type": "stream",
     "text": [
      "Accuracy: Top-K=5 0.79\n"
     ]
    },
    {
     "data": {
      "text/plain": "0.79"
     },
     "execution_count": 37,
     "metadata": {},
     "output_type": "execute_result"
    }
   ],
   "source": [
    "evaluate(SIFGloveTextMatching, query_set, query_id, candidate_set, top_k=5)"
   ],
   "metadata": {
    "collapsed": false,
    "ExecuteTime": {
     "end_time": "2023-05-29T17:31:08.329657Z",
     "start_time": "2023-05-29T17:30:56.422204Z"
    }
   }
  },
  {
   "cell_type": "markdown",
   "source": [
    "### Eval A values"
   ],
   "metadata": {
    "collapsed": false
   }
  },
  {
   "cell_type": "code",
   "execution_count": 38,
   "outputs": [
    {
     "name": "stdout",
     "output_type": "stream",
     "text": [
      "Using a = 0.0005\n"
     ]
    },
    {
     "data": {
      "text/plain": "Evaluating: 0it [00:00, ?it/s]",
      "application/vnd.jupyter.widget-view+json": {
       "version_major": 2,
       "version_minor": 0,
       "model_id": "dc66c61385154d88a56e2dc027d1af53"
      }
     },
     "metadata": {},
     "output_type": "display_data"
    },
    {
     "name": "stdout",
     "output_type": "stream",
     "text": [
      "Accuracy: Top-K=2 0.68\n",
      "Using a = 0.0005\n"
     ]
    },
    {
     "data": {
      "text/plain": "Evaluating: 0it [00:00, ?it/s]",
      "application/vnd.jupyter.widget-view+json": {
       "version_major": 2,
       "version_minor": 0,
       "model_id": "2450c9c8d69a476984f604220b45a2af"
      }
     },
     "metadata": {},
     "output_type": "display_data"
    },
    {
     "name": "stdout",
     "output_type": "stream",
     "text": [
      "Accuracy: Top-K=5 0.79\n",
      "Using a = 0.005\n"
     ]
    },
    {
     "data": {
      "text/plain": "Evaluating: 0it [00:00, ?it/s]",
      "application/vnd.jupyter.widget-view+json": {
       "version_major": 2,
       "version_minor": 0,
       "model_id": "98b3cd55d8f9421d80a6e3a8ef72d93e"
      }
     },
     "metadata": {},
     "output_type": "display_data"
    },
    {
     "name": "stdout",
     "output_type": "stream",
     "text": [
      "Accuracy: Top-K=2 0.67\n",
      "Using a = 0.005\n"
     ]
    },
    {
     "data": {
      "text/plain": "Evaluating: 0it [00:00, ?it/s]",
      "application/vnd.jupyter.widget-view+json": {
       "version_major": 2,
       "version_minor": 0,
       "model_id": "cb008eafe7504c71a30f43faf180e138"
      }
     },
     "metadata": {},
     "output_type": "display_data"
    },
    {
     "name": "stdout",
     "output_type": "stream",
     "text": [
      "Accuracy: Top-K=5 0.78\n",
      "Using a = 0.05\n"
     ]
    },
    {
     "data": {
      "text/plain": "Evaluating: 0it [00:00, ?it/s]",
      "application/vnd.jupyter.widget-view+json": {
       "version_major": 2,
       "version_minor": 0,
       "model_id": "03133e1863e245208ecca7752f8bc55d"
      }
     },
     "metadata": {},
     "output_type": "display_data"
    },
    {
     "name": "stdout",
     "output_type": "stream",
     "text": [
      "Accuracy: Top-K=2 0.66\n",
      "Using a = 0.05\n"
     ]
    },
    {
     "data": {
      "text/plain": "Evaluating: 0it [00:00, ?it/s]",
      "application/vnd.jupyter.widget-view+json": {
       "version_major": 2,
       "version_minor": 0,
       "model_id": "11f2e988821d4b20b3154f73d7e5e513"
      }
     },
     "metadata": {},
     "output_type": "display_data"
    },
    {
     "name": "stdout",
     "output_type": "stream",
     "text": [
      "Accuracy: Top-K=5 0.78\n",
      "Using a = 0.1\n"
     ]
    },
    {
     "data": {
      "text/plain": "Evaluating: 0it [00:00, ?it/s]",
      "application/vnd.jupyter.widget-view+json": {
       "version_major": 2,
       "version_minor": 0,
       "model_id": "f421053f6cca468f842830867b6764dd"
      }
     },
     "metadata": {},
     "output_type": "display_data"
    },
    {
     "name": "stdout",
     "output_type": "stream",
     "text": [
      "Accuracy: Top-K=2 0.66\n",
      "Using a = 0.1\n"
     ]
    },
    {
     "data": {
      "text/plain": "Evaluating: 0it [00:00, ?it/s]",
      "application/vnd.jupyter.widget-view+json": {
       "version_major": 2,
       "version_minor": 0,
       "model_id": "8070a2feb2cc42ad98e4eca32fe7b766"
      }
     },
     "metadata": {},
     "output_type": "display_data"
    },
    {
     "name": "stdout",
     "output_type": "stream",
     "text": [
      "Accuracy: Top-K=5 0.78\n",
      "Using a = 0.3\n"
     ]
    },
    {
     "data": {
      "text/plain": "Evaluating: 0it [00:00, ?it/s]",
      "application/vnd.jupyter.widget-view+json": {
       "version_major": 2,
       "version_minor": 0,
       "model_id": "cbbae755129444e4a2a6749545363017"
      }
     },
     "metadata": {},
     "output_type": "display_data"
    },
    {
     "name": "stdout",
     "output_type": "stream",
     "text": [
      "Accuracy: Top-K=2 0.62\n",
      "Using a = 0.3\n"
     ]
    },
    {
     "data": {
      "text/plain": "Evaluating: 0it [00:00, ?it/s]",
      "application/vnd.jupyter.widget-view+json": {
       "version_major": 2,
       "version_minor": 0,
       "model_id": "2950d20d1583400daf8fd3cda9e2abf5"
      }
     },
     "metadata": {},
     "output_type": "display_data"
    },
    {
     "name": "stdout",
     "output_type": "stream",
     "text": [
      "Accuracy: Top-K=5 0.75\n",
      "Using a = 0.5\n"
     ]
    },
    {
     "data": {
      "text/plain": "Evaluating: 0it [00:00, ?it/s]",
      "application/vnd.jupyter.widget-view+json": {
       "version_major": 2,
       "version_minor": 0,
       "model_id": "3274b6599d674389b9d321f63c091d72"
      }
     },
     "metadata": {},
     "output_type": "display_data"
    },
    {
     "name": "stdout",
     "output_type": "stream",
     "text": [
      "Accuracy: Top-K=2 0.62\n",
      "Using a = 0.5\n"
     ]
    },
    {
     "data": {
      "text/plain": "Evaluating: 0it [00:00, ?it/s]",
      "application/vnd.jupyter.widget-view+json": {
       "version_major": 2,
       "version_minor": 0,
       "model_id": "e662512b4fa449369f3c4efea654b7f4"
      }
     },
     "metadata": {},
     "output_type": "display_data"
    },
    {
     "name": "stdout",
     "output_type": "stream",
     "text": [
      "Accuracy: Top-K=5 0.74\n",
      "Using a = 0.7\n"
     ]
    },
    {
     "data": {
      "text/plain": "Evaluating: 0it [00:00, ?it/s]",
      "application/vnd.jupyter.widget-view+json": {
       "version_major": 2,
       "version_minor": 0,
       "model_id": "a9d74cd90e374e118d691303daa3ea1c"
      }
     },
     "metadata": {},
     "output_type": "display_data"
    },
    {
     "name": "stdout",
     "output_type": "stream",
     "text": [
      "Accuracy: Top-K=2 0.63\n",
      "Using a = 0.7\n"
     ]
    },
    {
     "data": {
      "text/plain": "Evaluating: 0it [00:00, ?it/s]",
      "application/vnd.jupyter.widget-view+json": {
       "version_major": 2,
       "version_minor": 0,
       "model_id": "6204bbeb65144183a665d8c8e1ccf705"
      }
     },
     "metadata": {},
     "output_type": "display_data"
    },
    {
     "name": "stdout",
     "output_type": "stream",
     "text": [
      "Accuracy: Top-K=5 0.74\n",
      "Using a = 0.9\n"
     ]
    },
    {
     "data": {
      "text/plain": "Evaluating: 0it [00:00, ?it/s]",
      "application/vnd.jupyter.widget-view+json": {
       "version_major": 2,
       "version_minor": 0,
       "model_id": "a0764ac688a7448dad7eb6ffcaeffa11"
      }
     },
     "metadata": {},
     "output_type": "display_data"
    },
    {
     "name": "stdout",
     "output_type": "stream",
     "text": [
      "Accuracy: Top-K=2 0.63\n",
      "Using a = 0.9\n"
     ]
    },
    {
     "data": {
      "text/plain": "Evaluating: 0it [00:00, ?it/s]",
      "application/vnd.jupyter.widget-view+json": {
       "version_major": 2,
       "version_minor": 0,
       "model_id": "21476308a63a4aa38ab2ce29e88ea2f5"
      }
     },
     "metadata": {},
     "output_type": "display_data"
    },
    {
     "name": "stdout",
     "output_type": "stream",
     "text": [
      "Accuracy: Top-K=5 0.73\n",
      "Using a = 1\n"
     ]
    },
    {
     "data": {
      "text/plain": "Evaluating: 0it [00:00, ?it/s]",
      "application/vnd.jupyter.widget-view+json": {
       "version_major": 2,
       "version_minor": 0,
       "model_id": "c09b0c86b4184172932597a59e9e3ac8"
      }
     },
     "metadata": {},
     "output_type": "display_data"
    },
    {
     "name": "stdout",
     "output_type": "stream",
     "text": [
      "Accuracy: Top-K=2 0.63\n",
      "Using a = 1\n"
     ]
    },
    {
     "data": {
      "text/plain": "Evaluating: 0it [00:00, ?it/s]",
      "application/vnd.jupyter.widget-view+json": {
       "version_major": 2,
       "version_minor": 0,
       "model_id": "2eb0a918e67b462d98d566d2888b1c5d"
      }
     },
     "metadata": {},
     "output_type": "display_data"
    },
    {
     "name": "stdout",
     "output_type": "stream",
     "text": [
      "Accuracy: Top-K=5 0.73\n",
      "Using a = 2\n"
     ]
    },
    {
     "data": {
      "text/plain": "Evaluating: 0it [00:00, ?it/s]",
      "application/vnd.jupyter.widget-view+json": {
       "version_major": 2,
       "version_minor": 0,
       "model_id": "96ed9787d1374b2289acce25f593ddb4"
      }
     },
     "metadata": {},
     "output_type": "display_data"
    },
    {
     "name": "stdout",
     "output_type": "stream",
     "text": [
      "Accuracy: Top-K=2 0.62\n",
      "Using a = 2\n"
     ]
    },
    {
     "data": {
      "text/plain": "Evaluating: 0it [00:00, ?it/s]",
      "application/vnd.jupyter.widget-view+json": {
       "version_major": 2,
       "version_minor": 0,
       "model_id": "d602318ed0a24040b15f727ed45c0de8"
      }
     },
     "metadata": {},
     "output_type": "display_data"
    },
    {
     "name": "stdout",
     "output_type": "stream",
     "text": [
      "Accuracy: Top-K=5 0.7\n",
      "Using a = 3\n"
     ]
    },
    {
     "data": {
      "text/plain": "Evaluating: 0it [00:00, ?it/s]",
      "application/vnd.jupyter.widget-view+json": {
       "version_major": 2,
       "version_minor": 0,
       "model_id": "49213b3918524e8fac18f49807942d9e"
      }
     },
     "metadata": {},
     "output_type": "display_data"
    },
    {
     "name": "stdout",
     "output_type": "stream",
     "text": [
      "Accuracy: Top-K=2 0.61\n",
      "Using a = 3\n"
     ]
    },
    {
     "data": {
      "text/plain": "Evaluating: 0it [00:00, ?it/s]",
      "application/vnd.jupyter.widget-view+json": {
       "version_major": 2,
       "version_minor": 0,
       "model_id": "ee7f9c6cddad459db7d5f1e9c703daf2"
      }
     },
     "metadata": {},
     "output_type": "display_data"
    },
    {
     "name": "stdout",
     "output_type": "stream",
     "text": [
      "Accuracy: Top-K=5 0.69\n"
     ]
    }
   ],
   "source": [
    "result = evaluate_a_values(SIFGloveTextMatching)"
   ],
   "metadata": {
    "collapsed": false,
    "ExecuteTime": {
     "end_time": "2023-05-29T17:35:30.872516Z",
     "start_time": "2023-05-29T17:31:08.329884Z"
    }
   }
  },
  {
   "cell_type": "code",
   "execution_count": 39,
   "outputs": [
    {
     "data": {
      "text/plain": "<Figure size 1000x800 with 1 Axes>",
      "image/png": "[encoded data removed]"
     },
     "metadata": {},
     "output_type": "display_data"
    },
    {
     "data": {
      "text/plain": "         a  top2  top5\n0   0.0005  0.68  0.79\n1   0.0050  0.67  0.78\n2   0.0500  0.66  0.78\n3   0.1000  0.66  0.78\n4   0.3000  0.62  0.75\n5   0.5000  0.62  0.74\n6   0.7000  0.63  0.74\n7   0.9000  0.63  0.73\n8   1.0000  0.63  0.73\n9   2.0000  0.62  0.70\n10  3.0000  0.61  0.69",
      "text/html": "<div>\n<style scoped>\n    .dataframe tbody tr th:only-of-type {\n        vertical-align: middle;\n    }\n\n    .dataframe tbody tr th {\n        vertical-align: top;\n    }\n\n    .dataframe thead th {\n        text-align: right;\n    }\n</style>\n<table border=\"1\" class=\"dataframe\">\n  <thead>\n    <tr style=\"text-align: right;\">\n      <th></th>\n      <th>a</th>\n      <th>top2</th>\n      <th>top5</th>\n    </tr>\n  </thead>\n  <tbody>\n    <tr>\n      <th>0</th>\n      <td>0.0005</td>\n      <td>0.68</td>\n      <td>0.79</td>\n    </tr>\n    <tr>\n      <th>1</th>\n      <td>0.0050</td>\n      <td>0.67</td>\n      <td>0.78</td>\n    </tr>\n    <tr>\n      <th>2</th>\n      <td>0.0500</td>\n      <td>0.66</td>\n      <td>0.78</td>\n    </tr>\n    <tr>\n      <th>3</th>\n      <td>0.1000</td>\n      <td>0.66</td>\n      <td>0.78</td>\n    </tr>\n    <tr>\n      <th>4</th>\n      <td>0.3000</td>\n      <td>0.62</td>\n      <td>0.75</td>\n    </tr>\n    <tr>\n      <th>5</th>\n      <td>0.5000</td>\n      <td>0.62</td>\n      <td>0.74</td>\n    </tr>\n    <tr>\n      <th>6</th>\n      <td>0.7000</td>\n      <td>0.63</td>\n      <td>0.74</td>\n    </tr>\n    <tr>\n      <th>7</th>\n      <td>0.9000</td>\n      <td>0.63</td>\n      <td>0.73</td>\n    </tr>\n    <tr>\n      <th>8</th>\n      <td>1.0000</td>\n      <td>0.63</td>\n      <td>0.73</td>\n    </tr>\n    <tr>\n      <th>9</th>\n      <td>2.0000</td>\n      <td>0.62</td>\n      <td>0.70</td>\n    </tr>\n    <tr>\n      <th>10</th>\n      <td>3.0000</td>\n      <td>0.61</td>\n      <td>0.69</td>\n    </tr>\n  </tbody>\n</table>\n</div>"
     },
     "execution_count": 39,
     "metadata": {},
     "output_type": "execute_result"
    }
   ],
   "source": [
    "# Create a pandas DataFrame from the result list\n",
    "df = pd.DataFrame(result)\n",
    "\n",
    "# Plot the data using seaborn\n",
    "sns.lineplot(data=df, x='a', y='top2', label='Top 2 Accuracy')\n",
    "sns.lineplot(data=df, x='a', y='top5', label='Top 5 Accuracy')\n",
    "\n",
    "# Set plot labels and title\n",
    "sns.set(style='darkgrid')\n",
    "plt.xlabel('Value of a')\n",
    "plt.ylabel('Accuracy')\n",
    "plt.title('Accuracy vs. Value of a')\n",
    "\n",
    "# Show the plot\n",
    "plt.show()\n",
    "df"
   ],
   "metadata": {
    "collapsed": false,
    "ExecuteTime": {
     "end_time": "2023-05-29T17:35:30.988800Z",
     "start_time": "2023-05-29T17:35:30.867088Z"
    }
   }
  },
  {
   "cell_type": "markdown",
   "source": [
    "## 4.3 Eval the different pretrained embeddings"
   ],
   "metadata": {
    "collapsed": false
   }
  },
  {
   "cell_type": "code",
   "execution_count": 40,
   "outputs": [],
   "source": [
    "def evaluate_dim_values(method=DownWeightGloveTextMatching, dim_list=None):\n",
    "    if dim_list is None:\n",
    "        dim_list = [50,100,200,300]\n",
    "    result = []\n",
    "    a = 1e-5\n",
    "    for dim in dim_list:\n",
    "        start_time = time.time()\n",
    "\n",
    "        top2 = evaluate(method, query_set, query_id, candidate_set, top_k=2, a=a, dim=dim)\n",
    "        top5 = evaluate(method, query_set, query_id, candidate_set, top_k=5, a=a, dim=dim)\n",
    "\n",
    "        end_time = time.time()\n",
    "        execution_time = end_time - start_time\n",
    "        result.append({\n",
    "            'dim': dim,\n",
    "            'top2': top2,\n",
    "            'top5': top5,\n",
    "            'time': execution_time\n",
    "        })\n",
    "    return result"
   ],
   "metadata": {
    "collapsed": false,
    "ExecuteTime": {
     "end_time": "2023-05-29T17:35:31.124069Z",
     "start_time": "2023-05-29T17:35:30.984593Z"
    }
   }
  },
  {
   "cell_type": "code",
   "execution_count": 41,
   "outputs": [
    {
     "name": "stdout",
     "output_type": "stream",
     "text": [
      "Using a = 1e-05\n"
     ]
    },
    {
     "data": {
      "text/plain": "Evaluating: 0it [00:00, ?it/s]",
      "application/vnd.jupyter.widget-view+json": {
       "version_major": 2,
       "version_minor": 0,
       "model_id": "0c107ca0106c4a299d31b21cdc4fb078"
      }
     },
     "metadata": {},
     "output_type": "display_data"
    },
    {
     "name": "stdout",
     "output_type": "stream",
     "text": [
      "Accuracy: Top-K=2 0.57\n",
      "Using a = 1e-05\n"
     ]
    },
    {
     "data": {
      "text/plain": "Evaluating: 0it [00:00, ?it/s]",
      "application/vnd.jupyter.widget-view+json": {
       "version_major": 2,
       "version_minor": 0,
       "model_id": "1d05b7df99d2435f8012baba9723fc1d"
      }
     },
     "metadata": {},
     "output_type": "display_data"
    },
    {
     "name": "stdout",
     "output_type": "stream",
     "text": [
      "Accuracy: Top-K=5 0.65\n",
      "Using a = 1e-05\n"
     ]
    },
    {
     "data": {
      "text/plain": "Evaluating: 0it [00:00, ?it/s]",
      "application/vnd.jupyter.widget-view+json": {
       "version_major": 2,
       "version_minor": 0,
       "model_id": "9ba7cd571e194527b86c0f391ac000d8"
      }
     },
     "metadata": {},
     "output_type": "display_data"
    },
    {
     "name": "stdout",
     "output_type": "stream",
     "text": [
      "Accuracy: Top-K=2 0.64\n",
      "Using a = 1e-05\n"
     ]
    },
    {
     "data": {
      "text/plain": "Evaluating: 0it [00:00, ?it/s]",
      "application/vnd.jupyter.widget-view+json": {
       "version_major": 2,
       "version_minor": 0,
       "model_id": "bd9d14eca19d4d7fa37ebddf7fee5cc3"
      }
     },
     "metadata": {},
     "output_type": "display_data"
    },
    {
     "name": "stdout",
     "output_type": "stream",
     "text": [
      "Accuracy: Top-K=5 0.72\n",
      "Using a = 1e-05\n"
     ]
    },
    {
     "data": {
      "text/plain": "Evaluating: 0it [00:00, ?it/s]",
      "application/vnd.jupyter.widget-view+json": {
       "version_major": 2,
       "version_minor": 0,
       "model_id": "e3e60871266c4e5b82ac9a47e54cc433"
      }
     },
     "metadata": {},
     "output_type": "display_data"
    },
    {
     "name": "stdout",
     "output_type": "stream",
     "text": [
      "Accuracy: Top-K=2 0.64\n",
      "Using a = 1e-05\n"
     ]
    },
    {
     "data": {
      "text/plain": "Evaluating: 0it [00:00, ?it/s]",
      "application/vnd.jupyter.widget-view+json": {
       "version_major": 2,
       "version_minor": 0,
       "model_id": "c760d8709e0944998a6478073987bb26"
      }
     },
     "metadata": {},
     "output_type": "display_data"
    },
    {
     "name": "stdout",
     "output_type": "stream",
     "text": [
      "Accuracy: Top-K=5 0.72\n",
      "Using a = 1e-05\n"
     ]
    },
    {
     "data": {
      "text/plain": "Evaluating: 0it [00:00, ?it/s]",
      "application/vnd.jupyter.widget-view+json": {
       "version_major": 2,
       "version_minor": 0,
       "model_id": "51188ae98b3c41d496ff324e23b08d31"
      }
     },
     "metadata": {},
     "output_type": "display_data"
    },
    {
     "name": "stdout",
     "output_type": "stream",
     "text": [
      "Accuracy: Top-K=2 0.68\n",
      "Using a = 1e-05\n"
     ]
    },
    {
     "data": {
      "text/plain": "Evaluating: 0it [00:00, ?it/s]",
      "application/vnd.jupyter.widget-view+json": {
       "version_major": 2,
       "version_minor": 0,
       "model_id": "e78c07272fcc48979cdf6f12c4d854ca"
      }
     },
     "metadata": {},
     "output_type": "display_data"
    },
    {
     "name": "stdout",
     "output_type": "stream",
     "text": [
      "Accuracy: Top-K=5 0.79\n"
     ]
    }
   ],
   "source": [
    "results = evaluate_dim_values(SIFGloveTextMatching)"
   ],
   "metadata": {
    "collapsed": false,
    "ExecuteTime": {
     "end_time": "2023-05-29T17:36:29.852713Z",
     "start_time": "2023-05-29T17:35:31.032749Z"
    }
   }
  },
  {
   "cell_type": "code",
   "execution_count": 42,
   "outputs": [
    {
     "data": {
      "text/plain": "<Figure size 1000x800 with 1 Axes>",
      "image/png": "[encoded data removed]"
     },
     "metadata": {},
     "output_type": "display_data"
    },
    {
     "data": {
      "text/plain": "   dim  top2  top5       time\n0   50  0.57  0.65   7.400067\n1  100  0.64  0.72  10.579700\n2  200  0.64  0.72  17.000329\n3  300  0.68  0.79  23.862281",
      "text/html": "<div>\n<style scoped>\n    .dataframe tbody tr th:only-of-type {\n        vertical-align: middle;\n    }\n\n    .dataframe tbody tr th {\n        vertical-align: top;\n    }\n\n    .dataframe thead th {\n        text-align: right;\n    }\n</style>\n<table border=\"1\" class=\"dataframe\">\n  <thead>\n    <tr style=\"text-align: right;\">\n      <th></th>\n      <th>dim</th>\n      <th>top2</th>\n      <th>top5</th>\n      <th>time</th>\n    </tr>\n  </thead>\n  <tbody>\n    <tr>\n      <th>0</th>\n      <td>50</td>\n      <td>0.57</td>\n      <td>0.65</td>\n      <td>7.400067</td>\n    </tr>\n    <tr>\n      <th>1</th>\n      <td>100</td>\n      <td>0.64</td>\n      <td>0.72</td>\n      <td>10.579700</td>\n    </tr>\n    <tr>\n      <th>2</th>\n      <td>200</td>\n      <td>0.64</td>\n      <td>0.72</td>\n      <td>17.000329</td>\n    </tr>\n    <tr>\n      <th>3</th>\n      <td>300</td>\n      <td>0.68</td>\n      <td>0.79</td>\n      <td>23.862281</td>\n    </tr>\n  </tbody>\n</table>\n</div>"
     },
     "execution_count": 42,
     "metadata": {},
     "output_type": "execute_result"
    },
    {
     "data": {
      "text/plain": "<Figure size 1000x800 with 1 Axes>",
      "image/png": "[encoded data removed]"
     },
     "metadata": {},
     "output_type": "display_data"
    }
   ],
   "source": [
    "# Create a pandas DataFrame from the result list\n",
    "df = pd.DataFrame(results)\n",
    "\n",
    "# Plot the data using seaborn\n",
    "sns.lineplot(data=df, x='dim', y='top2', label='Top 2 Accuracy')\n",
    "sns.lineplot(data=df, x='dim', y='top5', label='Top 5 Accuracy')\n",
    "# sns.lineplot(data=df, x='dim', y='time', label='Execution Time')\n",
    "\n",
    "# Set plot labels and title\n",
    "sns.set(style='darkgrid')\n",
    "plt.xlabel('Value of Dim')\n",
    "plt.ylabel('Accuracy')\n",
    "plt.title('Accuracy vs. Value of Dim')\n",
    "\n",
    "# Show the plot\n",
    "plt.show()\n",
    "\n",
    "sns.lineplot(data=df, x='dim', y='time', label='Execution Time')\n",
    "sns.set(style='darkgrid')\n",
    "plt.xlabel('Value of Dim')\n",
    "plt.ylabel('Time')\n",
    "plt.title('Time vs. Value of Dim')\n",
    "\n",
    "\n",
    "df"
   ],
   "metadata": {
    "collapsed": false,
    "ExecuteTime": {
     "end_time": "2023-05-29T17:36:30.089845Z",
     "start_time": "2023-05-29T17:36:29.851877Z"
    }
   }
  },
  {
   "cell_type": "markdown",
   "source": [
    "## 4.4 Sentence-BERT Zero Shot"
   ],
   "metadata": {
    "collapsed": false
   }
  },
  {
   "cell_type": "code",
   "execution_count": 46,
   "outputs": [],
   "source": [
    "\n",
    "# Mean Pooling - Take attention mask into account for correct averaging\n",
    "def mean_pooling(model_output, attention_mask):\n",
    "    token_embeddings = model_output[0]  # First element of model_output contains all token embeddings\n",
    "    input_mask_expanded = attention_mask.unsqueeze(-1).expand(token_embeddings.size()).float()\n",
    "    return torch.sum(token_embeddings * input_mask_expanded, 1) / torch.clamp(input_mask_expanded.sum(1), min=1e-9)\n",
    "\n",
    "class SentenceBERTTextMatching(GloveTextMatching):\n",
    "    def __init__(self):\n",
    "        super().__init__()\n",
    "        self.tokenizer = AutoTokenizer.from_pretrained('sentence-transformers/all-mpnet-base-v2')\n",
    "        self.model = AutoModel.from_pretrained('sentence-transformers/all-mpnet-base-v2')\n",
    "        self.device = torch.device(\"cuda\" if torch.cuda.is_available() else \"cpu\")\n",
    "        self.model.to(self.device)\n",
    "\n",
    "    def calculate_sentence_embedding(self, sentence):\n",
    "        # Tokenize sentences\n",
    "        encoded_input = self.tokenizer(sentence, padding=True, truncation=True, max_length=128, return_tensors='pt')\n",
    "\n",
    "        # Move data to CUDA device\n",
    "        encoded_input = {key: value.to(self.device) for key, value in encoded_input.items()}\n",
    "\n",
    "        # Compute token embeddings\n",
    "        with torch.no_grad():\n",
    "            model_output = self.model(**encoded_input)\n",
    "\n",
    "        # Perform pooling. In this case, mean pooling\n",
    "        sentence_embedding = mean_pooling(model_output, encoded_input['attention_mask'])\n",
    "        sentence_embedding = sentence_embedding.cpu().numpy()[0]  # Move data to CPU and convert to NumPy array\n",
    "\n",
    "        return sentence_embedding\n"
   ],
   "metadata": {
    "collapsed": false,
    "ExecuteTime": {
     "end_time": "2023-05-30T13:15:29.222727Z",
     "start_time": "2023-05-30T13:15:29.174151Z"
    }
   }
  },
  {
   "cell_type": "code",
   "execution_count": 16,
   "outputs": [
    {
     "name": "stdout",
     "output_type": "stream",
     "text": [
      "best books cosmology\n",
      "best book cosmology\n"
     ]
    },
    {
     "data": {
      "text/plain": "[('best book cosmology', 0.9842958, 27),\n ('best books learn astronomy beginners', 0.6051938, 3478),\n ('best science fiction novels', 0.5419012, 6747),\n ('best sources learn astronomy', 0.5202146, 3539),\n ('philosophical books would consider best or among best', 0.49265563, 3242)]"
     },
     "execution_count": 16,
     "metadata": {},
     "output_type": "execute_result"
    }
   ],
   "source": [
    "sbert_text_matching = SentenceBERTTextMatching()\n",
    "sbert_text_matching.build_index(candidate_set[0:10000])\n",
    "print(query_set[10])\n",
    "print(candidate_set[query_id[10]])\n",
    "sbert_text_matching.search(query_set[10],top_k=5)"
   ],
   "metadata": {
    "collapsed": false,
    "ExecuteTime": {
     "end_time": "2023-05-29T18:09:23.241622Z",
     "start_time": "2023-05-29T18:08:50.853494Z"
    }
   }
  },
  {
   "cell_type": "markdown",
   "source": [
    "### eval SentenceBERTTextMatching top 2"
   ],
   "metadata": {
    "collapsed": false
   }
  },
  {
   "cell_type": "code",
   "execution_count": 45,
   "outputs": [
    {
     "data": {
      "text/plain": "Evaluating: 0it [00:00, ?it/s]",
      "application/vnd.jupyter.widget-view+json": {
       "version_major": 2,
       "version_minor": 0,
       "model_id": "ebee58265e704e9eb4085f601b77a3fe"
      }
     },
     "metadata": {},
     "output_type": "display_data"
    },
    {
     "name": "stdout",
     "output_type": "stream",
     "text": [
      "Accuracy: Top-K=2 0.78\n"
     ]
    },
    {
     "data": {
      "text/plain": "0.78"
     },
     "execution_count": 45,
     "metadata": {},
     "output_type": "execute_result"
    }
   ],
   "source": [
    "evaluate(SentenceBERTTextMatching, query_set, query_id, candidate_set, top_k=2)"
   ],
   "metadata": {
    "collapsed": false,
    "ExecuteTime": {
     "end_time": "2023-05-29T17:38:48.948464Z",
     "start_time": "2023-05-29T17:38:16.404900Z"
    }
   }
  },
  {
   "cell_type": "markdown",
   "source": [
    "### eval SentenceBERTTextMatching top 5"
   ],
   "metadata": {
    "collapsed": false
   }
  },
  {
   "cell_type": "code",
   "execution_count": 46,
   "outputs": [
    {
     "data": {
      "text/plain": "Evaluating: 0it [00:00, ?it/s]",
      "application/vnd.jupyter.widget-view+json": {
       "version_major": 2,
       "version_minor": 0,
       "model_id": "6e8dd8f71958415c8f08b42a63dcd5ba"
      }
     },
     "metadata": {},
     "output_type": "display_data"
    },
    {
     "name": "stdout",
     "output_type": "stream",
     "text": [
      "Accuracy: Top-K=5 0.9\n"
     ]
    },
    {
     "data": {
      "text/plain": "0.9"
     },
     "execution_count": 46,
     "metadata": {},
     "output_type": "execute_result"
    }
   ],
   "source": [
    "evaluate(SentenceBERTTextMatching, query_set, query_id, candidate_set, top_k=5)"
   ],
   "metadata": {
    "collapsed": false,
    "ExecuteTime": {
     "end_time": "2023-05-29T17:39:21.862387Z",
     "start_time": "2023-05-29T17:38:48.947794Z"
    }
   }
  },
  {
   "cell_type": "markdown",
   "source": [
    "### Failure cases evaluation"
   ],
   "metadata": {
    "collapsed": false
   }
  },
  {
   "cell_type": "code",
   "execution_count": 47,
   "outputs": [
    {
     "data": {
      "text/plain": "Evaluating: 0it [00:00, ?it/s]",
      "application/vnd.jupyter.widget-view+json": {
       "version_major": 2,
       "version_minor": 0,
       "model_id": "2de0941955c74c29b38798115fe23439"
      }
     },
     "metadata": {},
     "output_type": "display_data"
    }
   ],
   "source": [
    "def evaluate_failed(target_class, q_data, q_gt, train_data, top_k=1, **kwargs):\n",
    "    matcher = target_class(**kwargs)\n",
    "    matcher.build_index(train_data)\n",
    "    correct = 0\n",
    "    correct_list = []\n",
    "    for i,( q, gt) in tqdm(enumerate(zip(q_data, q_gt)), desc=\"Evaluating\"):\n",
    "        results = matcher.search(q, top_k=top_k)\n",
    "        for result in results:\n",
    "            if result[2] == gt:\n",
    "                correct += 1\n",
    "                correct_list.append(i)\n",
    "                break\n",
    "\n",
    "    incorrect_list = list(set(range(len(q_data))) - set(correct_list))\n",
    "    return incorrect_list\n",
    "\n",
    "incorrect_list = evaluate_failed(SentenceBERTTextMatching, query_set, query_id, candidate_set, top_k=5)"
   ],
   "metadata": {
    "collapsed": false,
    "ExecuteTime": {
     "end_time": "2023-05-30T13:16:21.984893Z",
     "start_time": "2023-05-30T13:15:47.369339Z"
    }
   }
  },
  {
   "cell_type": "code",
   "execution_count": 48,
   "outputs": [
    {
     "name": "stdout",
     "output_type": "stream",
     "text": [
      "query lose 4kg weight\n",
      "gt : ways losing weight\n",
      "pred : [('lose weight', 0.5224763, 124), ('jailbreak iphone 4', 0.48629242, 7623), ('lose weight 16 years old teenager', 0.4783409, 2259), ('best ways lose weight', 0.4659484, 2054), ('get 4 confirmed seats kolkata bhubaneswar urgently', 0.460153, 5327)]\n",
      "------------------\n",
      "query ways earning money online\n",
      "gt : could make money online\n",
      "pred : [('ways earning money online', 1.0000001, 929), ('best ways earn money online', 0.953984, 1404), ('various ways one earn money online', 0.93164515, 2364), ('best ways make money online', 0.9229556, 1574), ('easiest way earn money online', 0.9110748, 9066)]\n",
      "------------------\n",
      "query saltwater taffy candy imported japan\n",
      "gt : saltwater taffy candy imported austria\n",
      "pred : [('saltwater taffy candy imported japan', 1.0000002, 1131), ('saltwater taffy candy imported south korea', 0.87002736, 3459), ('saltwater taffy candy imported mexico', 0.8509986, 869), ('saltwater taffy candy imported philippines', 0.82222074, 2227), ('saltwater taffy candy imported austria', 0.80723315, 106)]\n",
      "------------------\n",
      "query lose weight fast\n",
      "gt : best way reduce weight fast\n",
      "pred : [('lose weight fast', 0.99999994, 8793), ('lose weight quickly', 0.94933873, 3402), ('lose body fat fast', 0.9095274, 9137), ('lose weight fast healthy way', 0.8339277, 2410), ('lose weight fast perfect weight loss plan', 0.7887414, 3651)]\n",
      "------------------\n",
      "query improve english aspects\n",
      "gt : continue improve english\n",
      "pred : [('enhance english', 0.79072714, 8298), ('improve english communication', 0.763512, 1312), ('ways improve english', 0.7546565, 5686), ('improve fluency english', 0.7390022, 5783), ('improve english language', 0.7249594, 798)]\n",
      "------------------\n",
      "query us president donald trump important india\n",
      "gt : happen india donald trump becomes president\n",
      "pred : [('trump s victory affect india', 0.7374726, 5474), ('relations india usa get affected donald trump president', 0.686752, 8353), ('effect donald trump becoming president us india', 0.6857218, 1807), ('impact election donald trump 45th us president india', 0.6780244, 890), ('impact donald trump s victory indian interests', 0.66005284, 111)]\n",
      "------------------\n",
      "query post question quora\n",
      "gt : post here\n",
      "pred : [('post question quora', 1.0000002, 8249), ('ask question quora', 0.77648306, 4890), ('make question quora', 0.70361227, 1615), ('post image quora', 0.6250597, 5036), ('use quora', 0.5680682, 1819)]\n",
      "------------------\n",
      "query best books learn c\n",
      "gt : best book dev c\n",
      "pred : [('best book learn c', 0.978121, 2576), ('best book learning c', 0.9317074, 6298), ('best books c programming beginners', 0.87022054, 662), ('best website learn c', 0.82497764, 9758), ('what s fastest way learn c', 0.74727577, 4406)]\n",
      "------------------\n",
      "query trump s presidency affect indian students planning study us\n",
      "gt : bad trump s election president students aspiring study us\n",
      "pred : [('trump s presidency affect indian students planning study us', 0.98993933, 1201), ('trump s victory affect india', 0.7524151, 5474), ('impact donald trump s victory indian interests', 0.7421344, 111), ('donald trump s win mean indian students usa', 0.73887014, 2533), ('trump s presidency affect indian industry', 0.6942495, 7913)]\n",
      "------------------\n",
      "query trump win presidency\n",
      "gt : donald trump win despite projections would fail\n",
      "pred : [('donald trump win presidential election', 0.867783, 3720), ('trump get elected', 0.85158557, 9296), ('donald trump win 2016 us presidential election', 0.7969748, 7730), ('donald trump win 2016 american election', 0.7610719, 6310), ('win election trump clinton', 0.6870549, 2770)]\n",
      "------------------\n"
     ]
    }
   ],
   "source": [
    "for i in incorrect_list:\n",
    "    print(f'query {query_set[i]}')\n",
    "    print(f'gt : {candidate_set[query_id[i]]}')\n",
    "    print(f'pred : {sbert_text_matching.search(query_set[i],top_k=5)}')\n",
    "    print('------------------')\n"
   ],
   "metadata": {
    "collapsed": false,
    "ExecuteTime": {
     "end_time": "2023-05-30T13:16:22.138952Z",
     "start_time": "2023-05-30T13:16:21.984643Z"
    }
   }
  },
  {
   "cell_type": "markdown",
   "source": [
    "## 4.5 Sentence-BERT Fine Tune"
   ],
   "metadata": {
    "collapsed": false
   }
  },
  {
   "cell_type": "code",
   "execution_count": 18,
   "outputs": [
    {
     "name": "stderr",
     "output_type": "stream",
     "text": [
      "/tmp/ipykernel_1339937/1906701565.py:6: FutureWarning: The error_bad_lines argument has been deprecated and will be removed in a future version. Use on_bad_lines in the future.\n",
      "\n",
      "\n",
      "  df = pd.read_csv('data.tsv', sep=\"\\t\", error_bad_lines=False)\n",
      "Skipping line 83032: expected 6 fields, saw 7\n",
      "\n",
      "Skipping line 154657: expected 6 fields, saw 7\n",
      "\n",
      "Skipping line 323916: expected 6 fields, saw 7\n",
      "\n",
      "/tmp/ipykernel_1339937/1906701565.py:6: DtypeWarning: Columns (1) have mixed types. Specify dtype option on import or set low_memory=False.\n",
      "  df = pd.read_csv('data.tsv', sep=\"\\t\", error_bad_lines=False)\n"
     ]
    }
   ],
   "source": [
    "import pandas as pd\n",
    "from torch.utils.data import DataLoader\n",
    "from sentence_transformers import InputExample\n",
    "\n",
    "# Assuming df is your DataFrame\n",
    "df = pd.read_csv('data.tsv', sep=\"\\t\", error_bad_lines=False)\n",
    "\n",
    "# Case 1: Using \"is_duplicate\" as a similarity score\n",
    "train_examples_case1 = [InputExample(texts=[row['question1'], row['question2']], label=row['is_duplicate']) for _, row in df.iterrows()]\n",
    "\n",
    "# Case 2: Using \"is_duplicate\" to select positive pairs\n",
    "train_examples_case2 = [InputExample(texts=[row['question1'], row['question2']]) for _, row in df[df['is_duplicate'] == 1].iterrows()]\n",
    "\n",
    "# Convert to DataLoader\n",
    "train_dataloader_case1 = DataLoader(train_examples_case1[10000:20000], shuffle=True, batch_size=16)\n",
    "train_dataloader_case2 = DataLoader(train_examples_case2[10000:20000], shuffle=True, batch_size=16)\n"
   ],
   "metadata": {
    "collapsed": false,
    "ExecuteTime": {
     "end_time": "2023-05-29T18:09:40.826437Z",
     "start_time": "2023-05-29T18:09:32.308210Z"
    }
   }
  },
  {
   "cell_type": "code",
   "execution_count": 26,
   "outputs": [],
   "source": [
    "from sentence_transformers import SentenceTransformer\n",
    "\n",
    "model_id = \"sentence-transformers/all-mpnet-base-v2\"\n",
    "model = SentenceTransformer(model_id)"
   ],
   "metadata": {
    "collapsed": false,
    "ExecuteTime": {
     "end_time": "2023-05-29T18:19:36.235206Z",
     "start_time": "2023-05-29T18:19:35.859957Z"
    }
   }
  },
  {
   "cell_type": "code",
   "execution_count": 27,
   "outputs": [],
   "source": [
    "from sentence_transformers import losses\n",
    "\n",
    "train_loss = losses.CosineSimilarityLoss(model=model)"
   ],
   "metadata": {
    "collapsed": false,
    "ExecuteTime": {
     "end_time": "2023-05-29T18:19:36.248167Z",
     "start_time": "2023-05-29T18:19:36.236932Z"
    }
   }
  },
  {
   "cell_type": "code",
   "execution_count": 28,
   "outputs": [
    {
     "data": {
      "text/plain": "Epoch:   0%|          | 0/2 [00:00<?, ?it/s]",
      "application/vnd.jupyter.widget-view+json": {
       "version_major": 2,
       "version_minor": 0,
       "model_id": "61025c09c7664d7d8a9f3a6f6dcfab8d"
      }
     },
     "metadata": {},
     "output_type": "display_data"
    },
    {
     "data": {
      "text/plain": "Iteration:   0%|          | 0/625 [00:00<?, ?it/s]",
      "application/vnd.jupyter.widget-view+json": {
       "version_major": 2,
       "version_minor": 0,
       "model_id": "5fcc5bd154e342e8b9dfa1d9bf7fdd36"
      }
     },
     "metadata": {},
     "output_type": "display_data"
    },
    {
     "data": {
      "text/plain": "Iteration:   0%|          | 0/625 [00:00<?, ?it/s]",
      "application/vnd.jupyter.widget-view+json": {
       "version_major": 2,
       "version_minor": 0,
       "model_id": "dd87bd8265594821a6641417ce16327c"
      }
     },
     "metadata": {},
     "output_type": "display_data"
    }
   ],
   "source": [
    "model.fit(train_objectives=[(train_dataloader_case1, train_loss)], epochs=2)"
   ],
   "metadata": {
    "collapsed": false,
    "ExecuteTime": {
     "end_time": "2023-05-29T18:21:01.459819Z",
     "start_time": "2023-05-29T18:19:36.248657Z"
    }
   }
  },
  {
   "cell_type": "code",
   "execution_count": 29,
   "outputs": [],
   "source": [
    "class SentenceBERTTextMatchingFT(GloveTextMatching):\n",
    "    def __init__(self, model):\n",
    "        super().__init__()\n",
    "        self.model = model\n",
    "\n",
    "\n",
    "    def calculate_sentence_embedding(self, sentence):\n",
    "        # Tokenize sentences\n",
    "        return self.model.encode(sentence)\n"
   ],
   "metadata": {
    "collapsed": false,
    "ExecuteTime": {
     "end_time": "2023-05-29T18:21:01.508381Z",
     "start_time": "2023-05-29T18:21:01.460941Z"
    }
   }
  },
  {
   "cell_type": "code",
   "execution_count": 30,
   "outputs": [
    {
     "name": "stdout",
     "output_type": "stream",
     "text": [
      "best books cosmology\n",
      "best book cosmology\n"
     ]
    },
    {
     "data": {
      "text/plain": "[('best book cosmology', 0.9678912, 27),\n ('best books learn astronomy beginners', 0.587507, 3478),\n ('best science fiction novels', 0.4694779, 6747),\n ('best sources learn astronomy', 0.46824706, 3539),\n ('best book tensor calculus', 0.45076454, 13)]"
     },
     "execution_count": 30,
     "metadata": {},
     "output_type": "execute_result"
    }
   ],
   "source": [
    "sbert_text_matching = SentenceBERTTextMatchingFT(model)\n",
    "sbert_text_matching.build_index(candidate_set[0:10000])\n",
    "print(query_set[10])\n",
    "print(candidate_set[query_id[10]])\n",
    "sbert_text_matching.search(query_set[10],top_k=5)"
   ],
   "metadata": {
    "collapsed": false,
    "ExecuteTime": {
     "end_time": "2023-05-29T18:21:44.664354Z",
     "start_time": "2023-05-29T18:21:01.503668Z"
    }
   }
  },
  {
   "cell_type": "code",
   "execution_count": 31,
   "outputs": [
    {
     "data": {
      "text/plain": "Evaluating: 0it [00:00, ?it/s]",
      "application/vnd.jupyter.widget-view+json": {
       "version_major": 2,
       "version_minor": 0,
       "model_id": "7d5c14e0e1764744a20d7c49c1c31798"
      }
     },
     "metadata": {},
     "output_type": "display_data"
    },
    {
     "name": "stdout",
     "output_type": "stream",
     "text": [
      "Accuracy: Top-K=2 0.72\n"
     ]
    },
    {
     "data": {
      "text/plain": "0.72"
     },
     "execution_count": 31,
     "metadata": {},
     "output_type": "execute_result"
    }
   ],
   "source": [
    "evaluate(SentenceBERTTextMatchingFT, query_set, query_id, candidate_set, top_k=2, model=model)"
   ],
   "metadata": {
    "collapsed": false,
    "ExecuteTime": {
     "end_time": "2023-05-29T18:22:28.833329Z",
     "start_time": "2023-05-29T18:21:44.656812Z"
    }
   }
  },
  {
   "cell_type": "code",
   "execution_count": 33,
   "outputs": [
    {
     "data": {
      "text/plain": "Evaluating: 0it [00:00, ?it/s]",
      "application/vnd.jupyter.widget-view+json": {
       "version_major": 2,
       "version_minor": 0,
       "model_id": "1f1ca70493f4453f9979f21fe5953adb"
      }
     },
     "metadata": {},
     "output_type": "display_data"
    },
    {
     "name": "stdout",
     "output_type": "stream",
     "text": [
      "Accuracy: Top-K=5 0.8\n"
     ]
    },
    {
     "data": {
      "text/plain": "0.8"
     },
     "execution_count": 32,
     "metadata": {},
     "output_type": "execute_result"
    },
    {
     "data": {
      "text/plain": "Evaluating: 0it [00:00, ?it/s]",
      "application/vnd.jupyter.widget-view+json": {
       "version_major": 2,
       "version_minor": 0,
       "model_id": "b5ca4f2574f84c69bc710e90294a4190"
      }
     },
     "metadata": {},
     "output_type": "display_data"
    },
    {
     "name": "stdout",
     "output_type": "stream",
     "text": [
      "Accuracy: Top-K=5 0.8\n"
     ]
    },
    {
     "data": {
      "text/plain": "0.8"
     },
     "execution_count": 33,
     "metadata": {},
     "output_type": "execute_result"
    }
   ],
   "source": [
    "evaluate(SentenceBERTTextMatchingFT, query_set, query_id, candidate_set, top_k=5, model=model)"
   ],
   "metadata": {
    "collapsed": false,
    "ExecuteTime": {
     "end_time": "2023-05-29T18:23:56.985026Z",
     "start_time": "2023-05-29T18:23:12.926225Z"
    }
   }
  },
  {
   "cell_type": "markdown",
   "metadata": {
    "collapsed": false,
    "ExecuteTime": {
     "end_time": "2023-05-29T17:48:17.443213Z",
     "start_time": "2023-05-29T17:47:33.756318Z"
    }
   },
   "source": [
    "## Save the Notebook"
   ],
   "outputs": [
    {
     "data": {
      "text/plain": "Evaluating: 0it [00:00, ?it/s]",
      "application/vnd.jupyter.widget-view+json": {
       "version_major": 2,
       "version_minor": 0,
       "model_id": "4382224b6e1a44fb8e45a8ada020f786"
      }
     },
     "metadata": {},
     "output_type": "display_data"
    },
    {
     "name": "stdout",
     "output_type": "stream",
     "text": [
      "Accuracy: Top-K=2 0.74\n"
     ]
    },
    {
     "data": {
      "text/plain": "0.74"
     },
     "execution_count": 62,
     "metadata": {},
     "output_type": "execute_result"
    }
   ],
   "execution_count": 62
  },
  {
   "cell_type": "code",
   "execution_count": 50,
   "metadata": {
    "collapsed": false,
    "ExecuteTime": {
     "end_time": "2023-05-30T13:18:40.882076Z",
     "start_time": "2023-05-30T13:18:23.777899Z"
    }
   },
   "outputs": [
    {
     "data": {
      "text/plain": "<IPython.core.display.Javascript object>",
      "application/javascript": "window.require && require([\"base/js/namespace\"],function(Jupyter){Jupyter.notebook.save_checkpoint()})"
     },
     "metadata": {},
     "output_type": "display_data"
    },
    {
     "name": "stdout",
     "output_type": "stream",
     "text": [
      "[jovian] Updating notebook \"akide/anlp-assignment-2\" on https://jovian.com/\u001B[0m\n",
      "[jovian] Capturing environment..\u001B[0m\n"
     ]
    },
    {
     "name": "stderr",
     "output_type": "stream",
     "text": [
      "/bin/sh: 1: conda: not found\n",
      "/bin/sh: 1: conda: not found\n",
      "\u001B[31m[jovian] Error: Failed to read Anaconda environment using command: \"conda env export -n base --no-builds\"\u001B[0m\n"
     ]
    },
    {
     "name": "stdout",
     "output_type": "stream",
     "text": [
      "huggingface/tokenizers: The current process just got forked, after parallelism has already been used. Disabling parallelism to avoid deadlocks...\n",
      "To disable this warning, you can either:\n",
      "\t- Avoid using `tokenizers` before the fork if possible\n",
      "\t- Explicitly set the environment variable TOKENIZERS_PARALLELISM=(true | false)\n",
      "huggingface/tokenizers: The current process just got forked, after parallelism has already been used. Disabling parallelism to avoid deadlocks...\n",
      "To disable this warning, you can either:\n",
      "\t- Avoid using `tokenizers` before the fork if possible\n",
      "\t- Explicitly set the environment variable TOKENIZERS_PARALLELISM=(true | false)\n",
      "huggingface/tokenizers: The current process just got forked, after parallelism has already been used. Disabling parallelism to avoid deadlocks...\n",
      "To disable this warning, you can either:\n",
      "\t- Avoid using `tokenizers` before the fork if possible\n",
      "\t- Explicitly set the environment variable TOKENIZERS_PARALLELISM=(true | false)\n",
      "[jovian] Uploading additional files...\u001B[0m\n",
      "[jovian] Committed successfully! https://jovian.com/akide/anlp-assignment-2\u001B[0m\n"
     ]
    },
    {
     "data": {
      "text/plain": "'https://jovian.com/akide/anlp-assignment-2'"
     },
     "execution_count": 50,
     "metadata": {},
     "output_type": "execute_result"
    }
   ],
   "source": [
    "import glob\n",
    "\n",
    "files = glob.glob('*.py')\n",
    "# outputs = glob.glob('*.csv')\n",
    "outputs = glob.glob('*.png')\n",
    "outputs += glob.glob('*.PNG')\n",
    "# outputs += glob.glob('*.txt')\n",
    "# outputs = glob.glob('figures/*')\n",
    "# outputs.append('download.sh')\n",
    "import jovian\n",
    "\n",
    "jovian.commit(project='akide/ANLP_assignment_2',\n",
    "              filename='ANLP_A2.ipynb',\n",
    "              files=files,\n",
    "              new_project=False,\n",
    "              outputs=outputs,\n",
    "              environment='auto')"
   ]
  },
  {
   "cell_type": "code",
   "execution_count": null,
   "metadata": {
    "collapsed": false
   },
   "outputs": [],
   "source": []
  }
 ],
 "metadata": {
  "kernelspec": {
   "display_name": "Python 3 (ipykernel)",
   "language": "python",
   "name": "python3"
  },
  "language_info": {
   "codemirror_mode": {
    "name": "ipython",
    "version": 3
   },
   "file_extension": ".py",
   "mimetype": "text/x-python",
   "name": "python",
   "nbconvert_exporter": "python",
   "pygments_lexer": "ipython3",
   "version": "3.8.10"
  }
 },
 "nbformat": 4,
 "nbformat_minor": 0
}
